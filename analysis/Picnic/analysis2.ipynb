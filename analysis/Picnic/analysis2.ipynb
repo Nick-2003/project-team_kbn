{
 "cells": [
  {
   "cell_type": "markdown",
   "metadata": {},
   "source": [
    "# Kaylee Li"
   ]
  },
  {
   "cell_type": "markdown",
   "metadata": {},
   "source": [
    "## Research question/interests\r\n",
    "\r\n",
    "Briefly describe your research question or interests here."
   ]
  },
  {
   "cell_type": "code",
   "execution_count": 21,
   "metadata": {},
   "outputs": [],
   "source": [
    "import sys\n",
    "sys.path.append(\"../../code\")"
   ]
  },
  {
   "cell_type": "code",
   "execution_count": 30,
   "metadata": {},
   "outputs": [],
   "source": [
    "importlib.reload(kli_query_family)\n",
    "import kli_query_family\n",
    "import pandas as pd"
   ]
  },
  {
   "cell_type": "markdown",
   "metadata": {},
   "source": [
    "### Data Processing (Finding Respective Family Name)\n",
    "\n",
    "- One of my tasks was querying the respective family of the plants due to the large number of species.\n",
    "- Family is a higher taxonomic rank, positioned above genus and species in the biological classification hierarchy.\n",
    "- The respective family was queried based on the genus name from https://www.gbif.org/ using their GBIF API."
   ]
  },
  {
   "cell_type": "code",
   "execution_count": 4,
   "metadata": {},
   "outputs": [],
   "source": [
    "raw_df = pd.read_csv(\"../../data/raw/public-trees.csv\")"
   ]
  },
  {
   "cell_type": "code",
   "execution_count": 5,
   "metadata": {},
   "outputs": [],
   "source": [
    "# this finds creates a dictionary:key mapping for all the unique genus in the dataframe\n",
    "genus_to_family_dict = kli_query_family.get_genus_to_family_mapping(raw_df)"
   ]
  },
  {
   "cell_type": "code",
   "execution_count": 6,
   "metadata": {},
   "outputs": [],
   "source": [
    "# This maps the genus to its respective family using the genus-to-family dictionary\n",
    "df_with_family = kli_query_family.map_family_to_dataframe(raw_df, genus_to_family_dict)"
   ]
  },
  {
   "cell_type": "code",
   "execution_count": 32,
   "metadata": {},
   "outputs": [
    {
     "name": "stdout",
     "output_type": "stream",
     "text": [
      "FAMILY_NAME added and dataset saved.\n"
     ]
    }
   ],
   "source": [
    "# this binds the \"FAMILY_NAME\" column to `../../data/processed/public_trees_cleaned.csv` based on TREE_ID (bc tree ID is unique)\n",
    "# done like this because im not the only one doing data processing\n",
    "\n",
    "kli_query_family.add_family_name_to_cleaned(\"../../data/processed/public_trees_cleaned.csv\", df_with_family)"
   ]
  },
  {
   "cell_type": "code",
   "execution_count": null,
   "metadata": {},
   "outputs": [],
   "source": []
  }
 ],
 "metadata": {
  "kernelspec": {
   "display_name": "Python 3 (ipykernel)",
   "language": "python",
   "name": "python3"
  },
  "language_info": {
   "codemirror_mode": {
    "name": "ipython",
    "version": 3
   },
   "file_extension": ".py",
   "mimetype": "text/x-python",
   "name": "python",
   "nbconvert_exporter": "python",
   "pygments_lexer": "ipython3",
   "version": "3.12.0"
  }
 },
 "nbformat": 4,
 "nbformat_minor": 4
}
