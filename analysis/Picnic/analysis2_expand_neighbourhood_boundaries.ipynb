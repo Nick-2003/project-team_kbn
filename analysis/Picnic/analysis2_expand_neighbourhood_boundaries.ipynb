{
 "cells": [
  {
   "cell_type": "markdown",
   "id": "2eed017c-96dc-4616-986b-6549ed99dec1",
   "metadata": {},
   "source": [
    "# Querying and Expanding Neighborhood Boundaries - Extracting JEOJSON"
   ]
  },
  {
   "cell_type": "code",
   "execution_count": null,
   "id": "36a64789-81dc-45aa-b0fa-b4d9f7a90ddd",
   "metadata": {},
   "outputs": [],
   "source": [
    "import altair as alt\n",
    "import pandas as pd\n",
    "import geopandas as gpd\n",
    "from shapely.geometry import Point, Polygon\n",
    "\n",
    "import sys\n",
    "sys.path.append(\"../../code\")\n",
    "import neighborhood_boundaries"
   ]
  },
  {
   "cell_type": "code",
   "execution_count": null,
   "id": "35459ada-a7dc-4ca7-b1de-641bff4ce22e",
   "metadata": {},
   "outputs": [],
   "source": [
    "import importlib\n",
    "importlib.reload(neighborhood_boundaries)"
   ]
  },
  {
   "cell_type": "markdown",
   "id": "7279077c-e1da-447c-9504-837cec42012b",
   "metadata": {},
   "source": [
    "# Overview\n",
    "\n",
    "This script demonstrates how to query neighborhood boundaries from an open data source, expand specific neighborhood boundaries, and include additional areas such as parks into the final dataset. Specifically, we focus on expanding the boundaries of West Point Grey and including Stanley Park in Vancouver's neighborhood dataset."
   ]
  },
  {
   "cell_type": "markdown",
   "id": "9f4fabb8-3dfd-4b40-888e-9a10c4142ec0",
   "metadata": {},
   "source": [
    "## 1. Fetch Local Area Boundaries\n",
    "We start by querying the Local Area Boundary dataset from the City of Vancouver's Open Data Portal. This dataset contains the geographical boundaries of all neighborhoods in Vancouver."
   ]
  },
  {
   "cell_type": "code",
   "execution_count": null,
   "id": "82b1390b-104e-42d1-9848-f68f3723f5f5",
   "metadata": {},
   "outputs": [],
   "source": [
    "# use API to get the local area boundaries\n",
    "geojson_data = neighborhood_boundaries.fetch_and_save_localareaboundary_geojson(\"../../data/processed/local_area_boundary.geojson\")"
   ]
  },
  {
   "cell_type": "markdown",
   "id": "c66c4641-a3d2-4b27-bd20-eddcb512d474",
   "metadata": {},
   "source": [
    "## 2. Expand West Point Grey Boundaries\n",
    "To expand the boundaries of West Point Grey , I've:\n",
    "- Filter the GeoJSON data to extract the polygon for \"West Point Grey\".\n",
    "- Use the Overpass API to fetch additional boundary data\n",
    "- Combine the original West Point Grey polygon with the additional polygons."
   ]
  },
  {
   "cell_type": "code",
   "execution_count": null,
   "id": "9651b339-06a2-410d-90d2-efd3c458dd14",
   "metadata": {},
   "outputs": [],
   "source": [
    "# west point grey \n",
    "\n",
    "# west point gray already exist. we want to expand the boundaries\n",
    "\n",
    "# Filter the GeoJSON data to extract the polygon for \"West Point Grey\".\n",
    "geojson_data = neighborhood_boundaries.load_geojson(\"../../data/processed/local_area_boundary.geojson\")\n",
    "west_point_grey_geojson = neighborhood_boundaries.filter_features_by_name(geojson_data, \"West Point Grey\")\n",
    "\n",
    "#  Use the Overpass API to fetch additional boundary data\n",
    "way_id_wpg1 = 341703892\n",
    "coordinates_wpg1 = neighborhood_boundaries.get_boundary_by_way_id(way_id_wpg1)\n",
    "park_polygon_wpg1 = Polygon(coordinates_wpg1)\n",
    "\n",
    "way_id_wpg2 = 56688927\n",
    "coordinates_wpg2 = neighborhood_boundaries.get_boundary_by_way_id(way_id_wpg2)\n",
    "park_polygon_wpg2 = Polygon(coordinates_wpg2)\n",
    "\n",
    "\n",
    "# Combine the original West Point Grey polygon with the additional polygons.\n",
    "west_point_grey_coordinates = west_point_grey_geojson['features'][0]['geometry']['coordinates'][0]\n",
    "west_point_grey_polygon = Polygon(west_point_grey_coordinates)\n",
    "\n",
    "park_polygon_wpg1 = neighborhood_boundaries.validate_and_buffer_polygon(park_polygon_wpg1)\n",
    "park_polygon_wpg2 = neighborhood_boundaries.validate_and_buffer_polygon(park_polygon_wpg2)\n",
    "west_point_grey_polygon = neighborhood_boundaries.validate_and_buffer_polygon(west_point_grey_polygon)\n",
    "\n",
    "combined_park_polygon_wpg = park_polygon_wpg1.union(park_polygon_wpg2)\n",
    "final_combined_polygon = combined_park_polygon_wpg.union(west_point_grey_polygon)\n",
    "\n",
    "combined_boundary_coordinates_wpg = neighborhood_boundaries.extract_boundary_coordinates(final_combined_polygon)"
   ]
  },
  {
   "cell_type": "code",
   "execution_count": null,
   "id": "a3e9f6be-2b9c-4027-b02d-93f4c3381ed3",
   "metadata": {},
   "outputs": [],
   "source": [
    "# looks like west point grey\n",
    "Polygon(combined_boundary_coordinates_wpg)"
   ]
  },
  {
   "cell_type": "markdown",
   "id": "da4ccde7-e51b-473e-b53f-e2a6f83aaf2b",
   "metadata": {},
   "source": [
    "## 3. Include Stanley Park Boundaries\n",
    "I've used Overpass API to fetch and combine the boundaries of Stanley Park ."
   ]
  },
  {
   "cell_type": "code",
   "execution_count": null,
   "id": "0de07b18-6eaa-4d44-9773-8f2093f71137",
   "metadata": {},
   "outputs": [],
   "source": [
    "# Stanley Park \n",
    "\n",
    "# Use Overpass API to get boundaries\n",
    "way_id_sp1 = 37063023\n",
    "coordinates_sp1 = neighborhood_boundaries.get_boundary_by_way_id(way_id_sp1)\n",
    "park_polygon_sp1 = neighborhood_boundaries.create_park_polygon_from_coordinates(coordinates_sp1)\n",
    "\n",
    "way_id_sp2 = 37056115\n",
    "coordinates_sp2 = neighborhood_boundaries.get_boundary_by_way_id(way_id_sp2)\n",
    "park_polygon_sp2 = neighborhood_boundaries.create_park_polygon_from_coordinates(coordinates_sp2)\n",
    "\n",
    "combined_park_polygon_sp = park_polygon_sp1.union(park_polygon_sp2)\n",
    "x_combined_sp, y_combined_sp = combined_park_polygon_sp.exterior.xy\n",
    "combined_boundary_coordinates_sp = list(zip(x_combined_sp, y_combined_sp))"
   ]
  },
  {
   "cell_type": "code",
   "execution_count": null,
   "id": "96541fd3-3b33-4401-b298-23537a779895",
   "metadata": {},
   "outputs": [],
   "source": [
    "# looks like stanley park\n",
    "Polygon(combined_boundary_coordinates_sp)"
   ]
  },
  {
   "cell_type": "markdown",
   "id": "ae55765d-2b7d-4f47-81e5-e380bd088df6",
   "metadata": {},
   "source": [
    "## 4. Create Updated GeoJSON Features and Svae the Final GeoJSON\n",
    "I've create new GeoJSON features for the expanded West Point Grey and Stanley Park boundaries. Then, merge the updated boundaries back into the original dataset and save the result."
   ]
  },
  {
   "cell_type": "code",
   "execution_count": null,
   "id": "b082464f-f284-4294-81aa-0ee6323d8238",
   "metadata": {},
   "outputs": [],
   "source": [
    "sp_geomjson = neighborhood_boundaries.create_geojson_feature(\n",
    "    combined_boundary_coordinates_sp, \n",
    "    \"Stanley Park\", \n",
    "    center_lon=sum(coord[0] for coord in combined_boundary_coordinates_sp) / len(combined_boundary_coordinates_sp), \n",
    "    center_lat=sum(coord[1] for coord in combined_boundary_coordinates_sp) / len(combined_boundary_coordinates_sp)\n",
    ")\n",
    "\n",
    "\n",
    "wpg_geomjson = neighborhood_boundaries.create_geojson_feature(\n",
    "    combined_boundary_coordinates_wpg, \n",
    "    \"West Point Grey\", \n",
    "    center_lon=sum(coord[0] for coord in combined_boundary_coordinates_wpg) / len(combined_boundary_coordinates_wpg), \n",
    "    center_lat=sum(coord[1] for coord in combined_boundary_coordinates_wpg) / len(combined_boundary_coordinates_wpg)\n",
    ")\n",
    "\n",
    "final_boundaries = neighborhood_boundaries.merge_geojsons(\n",
    "    neighborhood_boundaries.filter_out_west_point_grey(geojson_data), \n",
    "    neighborhood_boundaries.merge_geojsons(sp_geomjson, wpg_geomjson)\n",
    ")\n",
    "\n",
    "neighborhood_boundaries.save_geojson(final_boundaries, \"../../data/processed/local_area_boundary.geojson\")"
   ]
  },
  {
   "cell_type": "markdown",
   "id": "0ae3b758-9035-41f1-9104-09585189edae",
   "metadata": {},
   "source": [
    "# Done! :)"
   ]
  }
 ],
 "metadata": {
  "kernelspec": {
   "display_name": "Python 3 (ipykernel)",
   "language": "python",
   "name": "python3"
  },
  "language_info": {
   "codemirror_mode": {
    "name": "ipython",
    "version": 3
   },
   "file_extension": ".py",
   "mimetype": "text/x-python",
   "name": "python",
   "nbconvert_exporter": "python",
   "pygments_lexer": "ipython3",
   "version": "3.12.0"
  }
 },
 "nbformat": 4,
 "nbformat_minor": 5
}
