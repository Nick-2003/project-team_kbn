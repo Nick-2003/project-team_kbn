{
 "cells": [
  {
   "cell_type": "code",
   "execution_count": 2,
   "id": "2fb55f91-e9a8-43c5-9fd9-dbe5b53d2108",
   "metadata": {},
   "outputs": [],
   "source": [
    "import pandas as pd"
   ]
  },
  {
   "cell_type": "code",
   "execution_count": 12,
   "id": "40d7171e-765e-4c51-af65-252f71008a02",
   "metadata": {},
   "outputs": [],
   "source": [
    "a = pd.read_csv(\"../../data/processed/public_trees_cleaned.csv\")"
   ]
  },
  {
   "cell_type": "code",
   "execution_count": 11,
   "id": "1b65de26-db91-4157-86ea-590956ad277f",
   "metadata": {},
   "outputs": [],
   "source": [
    "b = pd.read_csv(\"../../data/raw/public-trees.csv\")"
   ]
  },
  {
   "cell_type": "code",
   "execution_count": null,
   "id": "10432443-2599-4e9c-9641-7abdb44f3af1",
   "metadata": {},
   "outputs": [],
   "source": []
  }
 ],
 "metadata": {
  "kernelspec": {
   "display_name": "Python 3 (ipykernel)",
   "language": "python",
   "name": "python3"
  },
  "language_info": {
   "codemirror_mode": {
    "name": "ipython",
    "version": 3
   },
   "file_extension": ".py",
   "mimetype": "text/x-python",
   "name": "python",
   "nbconvert_exporter": "python",
   "pygments_lexer": "ipython3",
   "version": "3.12.0"
  }
 },
 "nbformat": 4,
 "nbformat_minor": 5
}
