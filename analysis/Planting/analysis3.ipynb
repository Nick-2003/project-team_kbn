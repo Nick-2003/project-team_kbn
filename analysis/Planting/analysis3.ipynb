{
 "cells": [
  {
   "cell_type": "markdown",
   "metadata": {},
   "source": [
    "# Nicholas Tam Analysis"
   ]
  },
  {
   "cell_type": "markdown",
   "metadata": {},
   "source": [
    "## Research Question/Interests\n",
    "Research question: Given the tree dataset, how would we want to arrange the types of trees to be planted in certain locations, such that they could survive and significantly improve the ecosystem?\n",
    "\n",
    "Given the research question, it would be ideal to analyze relevant properties, such as the relative sizes of each location and the proportions of planted trees for each species.\n",
    "\n",
    "The following questions will be used as guidelines to supplement the question\n",
    "- Which planted species exist in many different locations within each neighbourhood?\n",
    "- How do trees that have been planted directly compare in terms of diameter to those that have grown naturally?\n",
    "- What is the distribution of ages for specific tree species?\n",
    "\n",
    "## Task Analysis\n",
    "- Compute: Compute the average percentage differences in `DIAMETER` between planted and non-planted trees, and the ages by the number of days between `DATE_PLANTED` and March 5 2025.\n",
    "- Filter: Filter out `SPECIES_NAME` such that there are plenty of both planted and non-planted trees.\n",
    "- Characterise distribution: Find the distribution of ages for planted tree `SPECIES_NAME`?\n",
    "- Sort: Rank `SPECIES_NAME` for appearing in the greatest number of `NEIGHBOURHOOD_NAME` and having large proportions of each corresponding`ON_STREET` containing them.\n",
    "- Retrieve value: Retrieve the number of trees that have been planted, separated by `SPECIES_NAME`. "
   ]
  },
  {
   "cell_type": "code",
   "execution_count": 23,
   "metadata": {},
   "outputs": [
    {
     "data": {
      "text/plain": [
       "RendererRegistry.enable('jupyterlab')"
      ]
     },
     "execution_count": 23,
     "metadata": {},
     "output_type": "execute_result"
    }
   ],
   "source": [
    "import altair as alt\n",
    "import pandas as pd\n",
    "from toolz.curried import pipe\n",
    "import os\n",
    "from pygbif import species\n",
    "\n",
    "# Create a new data transformer that stores the files in a directory\n",
    "def json_dir(data, data_dir='altairdata'):\n",
    "    os.makedirs(data_dir, exist_ok=True)\n",
    "    return pipe(data, alt.to_json(filename=data_dir + '/{prefix}-{hash}.{extension}') )\n",
    "\n",
    "# Register and enable the new transformer\n",
    "alt.data_transformers.register('json_dir', json_dir)\n",
    "alt.data_transformers.enable('json_dir')\n",
    "\n",
    "# Handle large data sets (default shows only 5000)\n",
    "# See here: https://altair-viz.github.io/user_guide/data_transformers.html\n",
    "alt.data_transformers.disable_max_rows()\n",
    "\n",
    "alt.renderers.enable('jupyterlab')"
   ]
  },
  {
   "cell_type": "markdown",
   "metadata": {},
   "source": [
    "## Data Cleaning\n",
    "### Initial Dataset\n",
    "- `TREE_ID`, `CIVIC_NUMBER`, `ON_STREET_BLOCK`, and `HEIGHT_RANGE_ID` are all treated as integers, `DIAMETER` is treated as a float, and the rest are treated as objects.\n",
    "- `CULTIVAR_NAME`, `NEIGHBOURHOOD_NAME`, and `DATE_PLANTED` are columns that have missing values.\n",
    "- `public_trees.nunique()` displays the number of unique values for each column. Notably, there is a discrepancy between the number of unique values for `HEIGHT_RANGE_ID` and the number of unique values for `HEIGHT_RANGE`. Since `GENUS_NAME` and `SPECIES_NAME`, along with `ON_STREET` and `ON_STREET_BLOCK`, are related to each other, the number of unique values may be more accurate if they are combined.\n",
    "- `public_trees.describe()` is used to further display that `TREE_ID`, `CIVIC_NUMBER`, `ON_STREET_BLOCK`, `HEIGHT_RANGE_ID` and `DIAMETER` are all treated as numeric, when only `HEIGHT_RANGE_ID` and `DIAMETER` could be numeric, along with the latitude and longitude from `geo_point_2d`."
   ]
  },
  {
   "cell_type": "code",
   "execution_count": 48,
   "metadata": {},
   "outputs": [],
   "source": [
    "import sys\n",
    "sys.path.append(\"../../code\")\n",
    "import data_clean\n",
    "\n",
    "public_trees = pd.read_csv(\"../../data/raw/public-trees.csv\", delimiter=\";\")"
   ]
  },
  {
   "cell_type": "code",
   "execution_count": null,
   "metadata": {},
   "outputs": [],
   "source": [
    "display(public_trees.info())"
   ]
  },
  {
   "cell_type": "code",
   "execution_count": null,
   "metadata": {},
   "outputs": [],
   "source": [
    "cols_with_nan = public_trees.columns[public_trees.isna().any()].tolist()\n",
    "display(cols_with_nan)"
   ]
  },
  {
   "cell_type": "code",
   "execution_count": 17,
   "metadata": {},
   "outputs": [
    {
     "data": {
      "text/plain": [
       "TREE_ID               181501\n",
       "CIVIC_NUMBER            8339\n",
       "STD_STREET               814\n",
       "GENUS_NAME               169\n",
       "SPECIES_NAME             539\n",
       "CULTIVAR_NAME            607\n",
       "COMMON_NAME             1297\n",
       "ON_STREET_BLOCK          189\n",
       "ON_STREET                822\n",
       "NEIGHBOURHOOD_NAME        22\n",
       "STREET_SIDE_NAME           6\n",
       "HEIGHT_RANGE_ID           11\n",
       "HEIGHT_RANGE               9\n",
       "DIAMETER                 490\n",
       "DATE_PLANTED            4570\n",
       "Geom                  181372\n",
       "geo_point_2d          181372\n",
       "dtype: int64"
      ]
     },
     "metadata": {},
     "output_type": "display_data"
    }
   ],
   "source": [
    "display(public_trees.nunique())"
   ]
  },
  {
   "cell_type": "markdown",
   "metadata": {},
   "source": [
    "### Cleaning\n",
    "- `HEIGHT_RANGE` is set to be an ordinal attribute, with the order provided in `priority_order`.\n",
    "- `TREE_ID`, `CIVIC_NUMBER`, and `ON_STREET_BLOCK` are set to be categorical attributes.\n",
    "- Earlier EDA provided `CULTIVAR_NAME`, `NEIGHBOURHOOD_NAME`, `DATE_PLANTED` as having NA values; `CULTIVAR_NAME` is filled with the corresponding `SPECIES_NAME`, `NEIGHBOURHOOD_NAME` has `NA` strings applied instead, and `DATE_PLANTED` is left with `None`.\n",
    "- The latitude and longitude values were initially joined together in a single coordinate column `geo_point_2d`, and thus are split into new columns `LATITUDE` and `LONGITUDE`.\n",
    "- The values `9`, `0` and `10` all correspond to `HEIGHT_RANGE == '>90'` and thus `0` and `10` are replaced with value `9`.\n",
    "- `NOMENCLATURE` is a column derived from combining `GENUS_NAME` and `SPECIES_NAME` into 1 string.\n",
    "- `ON_ADDRESS` is a column derived from combining `ON_STREET` and `ON_STREET_BLOCK` into 1 string.\n",
    "- `FAMILY_NAME` is a column derived from using the functions in `code/preprocess_query_family.py`, which uses the `GENUS_NAME` column and `from pygbif import species` to provide the corresponding family of plants."
   ]
  },
  {
   "cell_type": "code",
   "execution_count": 50,
   "metadata": {},
   "outputs": [
    {
     "name": "stdout",
     "output_type": "stream",
     "text": [
      "FAMILY_NAME already exists. Overwriting the column.\n",
      "FAMILY_NAME added/overwritten in CSV.\n",
      "HAS_POLLEN already exists. Replacing the column.\n",
      "HAS_POLLEN replaced in the CSV.\n"
     ]
    }
   ],
   "source": [
    "public_trees_cleaned = data_clean.clean_public_trees(public_trees)"
   ]
  },
  {
   "cell_type": "markdown",
   "metadata": {},
   "source": [
    "### Processed Data\n",
    "- Upon loading `public_trees_cleaned.csv` in the future, need to set the attribute types for `HEIGHT_RANGE`, `TREE_ID`, `CIVIC_NUMBER`, and `ON_STREET_BLOCK`."
   ]
  },
  {
   "cell_type": "code",
   "execution_count": null,
   "metadata": {},
   "outputs": [],
   "source": [
    "public_trees_cleaned = pd.read_csv(\"../../data/processed/public_trees_cleaned.csv\")\n",
    "priority_order = ['10-20', '20-30', '30-40', '40-50', '50-60', '60-70', '70-80', '80-90', '>90']\n",
    "public_trees_cleaned['HEIGHT_RANGE'] = pd.Categorical(public_trees_cleaned['HEIGHT_RANGE'], categories=priority_order, ordered=True)\n",
    "public_trees_cleaned[['TREE_ID', 'CIVIC_NUMBER', 'ON_STREET_BLOCK']] = public_trees_cleaned[['TREE_ID', 'CIVIC_NUMBER', 'ON_STREET_BLOCK']].astype(str)\n",
    "\n",
    "public_trees_cleaned.head()"
   ]
  },
  {
   "cell_type": "code",
   "execution_count": null,
   "metadata": {},
   "outputs": [],
   "source": [
    "display(public_trees_cleaned.info())"
   ]
  },
  {
   "cell_type": "code",
   "execution_count": null,
   "metadata": {},
   "outputs": [],
   "source": [
    "display(public_trees_cleaned.nunique())"
   ]
  },
  {
   "cell_type": "code",
   "execution_count": null,
   "metadata": {},
   "outputs": [],
   "source": [
    "display(public_trees_cleaned.describe())"
   ]
  },
  {
   "cell_type": "markdown",
   "metadata": {},
   "source": [
    "## EDA \n",
    "### 1. Count of each `SPECIES_NAME` that have been planted\n",
    "- `Planted_Count` for each species is derived by counting the number of rows with `DATE_PLANTED` filled for each tree species.\n",
    "- `Proportion_Planted` derived from dividing `Planted_Count` by the total number of the given species.\n",
    "- Would ideally want a reasonably large `Total_Count` value (at least 300) to mitigate the risk of having too few samples of each species to effectively measure and compare characteristics.\n",
    "- Would also want `Proportion_Planted` to be within certain range of values (between 0.33 and 0.67) to mitigate the possibility that the obtained properties of planted trees are by random chance, and ensure that there are plenty of both planted and non-planted trees to compare against each other.\n",
    "- Applied log-transform to `Total_Count` to make colored value range easier to interpret.\n",
    "- Greater values of `Total_Count` generally provide less extreme values of `Proportion_Planted`."
   ]
  },
  {
   "cell_type": "code",
   "execution_count": null,
   "metadata": {},
   "outputs": [],
   "source": [
    "species_planted_count = public_trees_cleaned[public_trees_cleaned['DATE_PLANTED'].notnull()].groupby('SPECIES_NAME').size().reset_index(name='Planted_Count')\n",
    "species_total_count = public_trees_cleaned.groupby('SPECIES_NAME').size().reset_index(name='Total_Count')\n",
    "species_summary = species_planted_count.merge(species_total_count, on='SPECIES_NAME')\n",
    "species_summary['Proportion_Planted'] = species_summary['Planted_Count'] / species_summary['Total_Count']\n",
    "# species_summary[(species_summary['Total_Count'] >= 300) & (species_summary['Proportion_Planted'] >= 0.33) & (species_summary['Proportion_Planted'] <= 0.67)]"
   ]
  },
  {
   "cell_type": "code",
   "execution_count": null,
   "metadata": {},
   "outputs": [],
   "source": [
    "species_chart = alt.Chart(species_summary).mark_bar().encode(\n",
    "    alt.X('SPECIES_NAME:N', sort='color'),\n",
    "    alt.Y('Proportion_Planted:Q'),\n",
    "    alt.Color('Total_Count', scale=alt.Scale(type='log'), title='log_{10}(Total_Count)'),\n",
    "    alt.Tooltip(['Total_Count']),\n",
    ").properties(\n",
    "    title='Proportions of planted trees for species with date data',\n",
    ")\n",
    "\n",
    "horizontal_lines = alt.Chart(pd.DataFrame({\n",
    "    'Proportion_Planted': [0.33, 0.67],\n",
    "})).mark_rule(color='red', strokeDash=[5, 5]).encode(\n",
    "    alt.Y('Proportion_Planted:Q'),\n",
    ")\n",
    "\n",
    "species_chart + horizontal_lines"
   ]
  },
  {
   "cell_type": "markdown",
   "metadata": {},
   "source": [
    "### 2. Scatterplot of `LATITUDE` against `LONGITUDE`\n",
    "- Distribution of data points along axes of latitude and longitude.\n",
    "- Provides an estimated \"map\" of the areas for each `NEIGHBOURHOOD_NAME` in Vancouver, and thus a better understanding of how tree density could be influenced for each area.\n",
    "- Limited by the number of `NEIGHBOURHOOD_NAME` exceeding the number of colors\n",
    "- Could be improved upon with `mark_geoshape()`, may require getting coordinate values that were removed in cleaning."
   ]
  },
  {
   "cell_type": "code",
   "execution_count": null,
   "metadata": {},
   "outputs": [],
   "source": [
    "latvlong = alt.Chart(public_trees_cleaned).mark_circle().encode(\n",
    "    alt.X('LATITUDE:Q', scale=alt.Scale(zero=False)),\n",
    "    alt.Y('LONGITUDE:Q', scale=alt.Scale(zero=False)),\n",
    "    alt.Color('NEIGHBOURHOOD_NAME:N'),\n",
    "    alt.Tooltip(['NEIGHBOURHOOD_NAME']),\n",
    ").properties(\n",
    "    title='Scatterplot of Latitude and Longitude',\n",
    "    width = 450, \n",
    "    height = 450\n",
    ")\n",
    "latvlong"
   ]
  },
  {
   "cell_type": "markdown",
   "metadata": {},
   "source": [
    "### 3. Boxplots of `DIAMETER` grouped by `HEIGHT_RANGE`\n",
    "- Box plots of `DIAMETER` against `HEIGHT_RANGE`.\n",
    "- For the most part, mean `DIAMETER` increases with `HEIGHT_RANGE`.\n",
    "- Outliers for `DIAMETER` appear to be more frequent for lower `HEIGHT_RANGE` values, and less frequent for higher `HEIGHT_RANGE` values."
   ]
  },
  {
   "cell_type": "code",
   "execution_count": null,
   "metadata": {},
   "outputs": [],
   "source": [
    "# public_trees_summary = public_trees_cleaned.groupby(\"HEIGHT_RANGE\")[\"DIAMETER\"].describe()\n",
    "# upper_bound = max(public_trees_summary[\"75%\"] + public_trees_summary[\"std\"] * 3)\n",
    "# filtered_data = public_trees_cleaned[public_trees_cleaned[\"DIAMETER\"] <= upper_bound]"
   ]
  },
  {
   "cell_type": "code",
   "execution_count": null,
   "metadata": {},
   "outputs": [],
   "source": [
    "public_trees_box = alt.Chart(public_trees_cleaned).mark_boxplot(\n",
    "    median={\"color\": \"red\"},\n",
    "    extent=3,\n",
    "    ticks= True,\n",
    ").encode(\n",
    "    # alt.X('DIAMETER:Q', scale=alt.Scale(zero=False, domain=[0, upper_bound + 10])),\n",
    "    alt.X('DIAMETER:Q', scale=alt.Scale(zero=False)),\n",
    "    alt.Y('HEIGHT_RANGE:N'),\n",
    "    alt.Color('HEIGHT_RANGE:N'),\n",
    "    # alt.Column('HEIGHT_RANGE:N'),\n",
    ").properties(\n",
    "    title='Boxplots of diameter by height ranges',\n",
    "    width = 900, \n",
    "    height = 200\n",
    ")\n",
    "public_trees_box"
   ]
  },
  {
   "cell_type": "markdown",
   "metadata": {},
   "source": [
    "### 4. Number of `ON_STREET` grouped by `NEIGHBOURHOOD_NAME`\n",
    "- Number of streets for each neighbourhood.\n",
    "- Provides idea of potential variety in tree numbers for each location."
   ]
  },
  {
   "cell_type": "code",
   "execution_count": null,
   "metadata": {},
   "outputs": [],
   "source": [
    "species_per_genus = public_trees_cleaned.groupby('NEIGHBOURHOOD_NAME')['ON_STREET'].nunique().reset_index()\n",
    "\n",
    "species_per_genus_chart = alt.Chart(species_per_genus).mark_bar().encode(\n",
    "    alt.X('NEIGHBOURHOOD_NAME:N', title='Neighbourhood'),\n",
    "    alt.Y('ON_STREET:Q', title='Number of Streets'),\n",
    "    alt.Tooltip(['NEIGHBOURHOOD_NAME', 'ON_STREET']),\n",
    ").properties(\n",
    "    title='Number of streets per neighbourhood',\n",
    ")\n",
    "species_per_genus_chart"
   ]
  },
  {
   "cell_type": "markdown",
   "metadata": {},
   "source": [
    "### 5. Proportions of `HEIGHT_RANGE` for each `NEIGHBOURHOOD_NAME`\n",
    "- Normalized stacked bar plot for `HEIGHT_RANGE` proportions against `NEIGHBOURHOOD_NAME`.\n",
    "- For the most part, the majority of `HEIGHT_RANGE` values are between `HEIGHT_RANGE == \"10-20\"` and `HEIGHT_RANGE == \"30-40\"`."
   ]
  },
  {
   "cell_type": "code",
   "execution_count": null,
   "metadata": {},
   "outputs": [],
   "source": [
    "# Aggregate count of trees per neighbourhood and height range\n",
    "height_counts = public_trees_cleaned.groupby(['NEIGHBOURHOOD_NAME', 'HEIGHT_RANGE']).size().reset_index(name='Count')\n",
    "\n",
    "# Create the stacked bar chart\n",
    "neighbour_height_stack = alt.Chart(height_counts).mark_bar().encode(\n",
    "    alt.Y('NEIGHBOURHOOD_NAME:N', title='Neighbourhood', sort='-y'),  # Sort by count\n",
    "    alt.X('Count:Q', title='Proportion of Trees Heights', stack='normalize'),\n",
    "    alt.Color('HEIGHT_RANGE:N', title='Height Range'),  # Custom colors\n",
    "    alt.Tooltip(['NEIGHBOURHOOD_NAME', 'HEIGHT_RANGE', 'Count']),\n",
    ").properties(\n",
    "    title='Stacked Bar Plot of Tree Height Ranges by Neighbourhood',\n",
    "    width=1000\n",
    ")\n",
    "\n",
    "neighbour_height_stack"
   ]
  },
  {
   "cell_type": "markdown",
   "metadata": {},
   "source": [
    "## Preliminary Sketches\n",
    "\n",
    "The following sketches assume that `SPECIES_NAME` is filtered such that they follow the rules requested in EDA (1): \n",
    "- A reasonably large `Total_Count` value (at least 300) to mitigate the risk of having too few samples of each species to effectively measure and compare characteristics.\n",
    "- `Proportion_Planted` to be within certain range of values (between 0.33 and 0.67) to mitigate the possibility that the obtained properties of planted trees are by random chance, and ensure that there are plenty of both planted and non-planted trees to compare against each other.\n",
    "\n",
    "Sketch 1: Which planted species exist in many different locations within each neighbourhood?\n",
    "- The sketch is a heatmap, with `NEIGHBOURHOOD_NAME` on the x-axis, `SPECIES_NAME` on the y-axis, and colour indicating the proportion of streets within each `NEIGHBOURHOOD_NAME` with at least one instance of `SPECIES_NAME`. This sketch provides an understanding of which species are more common in larger varieties of environments and which species are rarer in comparison.\n",
    "\n",
    "Sketch 2: How do trees that have been planted directly compare in terms of diameter to those that have grown naturally?\n",
    "- The sketch is a bar plot, with `SPECIES_NAME` on the x-axis, and the percentage difference in `DIAMETER` between planted and non-planted `SPECIES_NAME` trees on the y-axis, with non-planted trees as the baseline. This sketch provides information on how well planted trees fare in terms of growth  compared to non-planted trees, and how effective they are in their current environments.\n",
    "\n",
    "Sketch 3: What is the distribution of ages for specific tree species?\n",
    "- The sketch is a density plot, with age (calculated by the number of days between the planting date and March 5 2025) on the x-axis, and the density on the y-axis, faceted by `SPECIES_NAME`. This sketch helps with identifying which tree species have longer-standing populations and which ones are relatively newer."
   ]
  },
  {
   "cell_type": "markdown",
   "metadata": {},
   "source": [
    "![Sketch 3](../../images/sketch_3.jpg)"
   ]
  },
  {
   "cell_type": "markdown",
   "metadata": {},
   "source": [
    "## High-fidelity Sketch\n",
    "\n",
    "The high-fidelity sketch selected was a dot plot version of the sketch for the question \"How do `SPECIES_NAME` trees that have been planted directly compare in terms of `DIAMETER` to those that have grown naturally?\". The sketch adheres to the principles of effectiveness, as the magnitude channel used is position on an aligned scale, allowing for greater accuracy and discriminability. It also adheres to the Gestalt principle of continuity by being arranged in descending order of `DIAM_DIFF_PERCENT`, the percentage difference in diameter between the planted trees and the non-planted trees."
   ]
  },
  {
   "cell_type": "code",
   "execution_count": null,
   "metadata": {},
   "outputs": [],
   "source": [
    "species_planted_count = public_trees_cleaned[public_trees_cleaned['DATE_PLANTED'].notnull()].groupby('SPECIES_NAME').size().reset_index(name='Planted_Count')\n",
    "species_total_count = public_trees_cleaned.groupby('SPECIES_NAME').size().reset_index(name='Total_Count')\n",
    "species_summary = species_planted_count.merge(species_total_count, on='SPECIES_NAME')\n",
    "species_summary['Proportion_Planted'] = species_summary['Planted_Count'] / species_summary['Total_Count']\n",
    "planted_species = species_summary[\n",
    "    (species_summary['Total_Count'] >= 300) & \n",
    "    (species_summary['Proportion_Planted'] >= 0.33) & \n",
    "    (species_summary['Proportion_Planted'] <= 0.67)\n",
    "][\"SPECIES_NAME\"].tolist()"
   ]
  },
  {
   "cell_type": "code",
   "execution_count": null,
   "metadata": {},
   "outputs": [],
   "source": [
    "planted_species_dt = public_trees_cleaned[public_trees_cleaned['SPECIES_NAME'].isin(planted_species)]\n",
    "planted_species_data = planted_species_dt.copy()\n",
    "planted_species_data.loc[:, 'PLANTED_VAN'] = planted_species_data['DATE_PLANTED'].notnull()\n",
    "avg_diameter_by_species = planted_species_data.groupby(['SPECIES_NAME', 'PLANTED_VAN'])['DIAMETER'].mean().unstack().rename(columns={True: 'Planted', False: 'Non-Planted'}).reset_index()\n",
    "\n",
    "avg_diameter_by_species['DIAM_DIFF_PERCENT'] = (avg_diameter_by_species['Planted'] - avg_diameter_by_species['Non-Planted'])/avg_diameter_by_species['Non-Planted'] * 100\n",
    "# display(avg_diameter_by_species)\n",
    "hi_fidelity_sketch = alt.Chart(avg_diameter_by_species).mark_circle(opacity=1).encode(\n",
    "    alt.X('SPECIES_NAME:N', sort='-y'), \n",
    "    alt.Y('DIAM_DIFF_PERCENT:Q', scale=alt.Scale(zero=False)),\n",
    "    # alt.Color('SPECIES_NAME:N', legend=None),\n",
    ")\n",
    "hi_fidelity_sketch"
   ]
  }
 ],
 "metadata": {
  "kernelspec": {
   "display_name": "Python 3 (ipykernel)",
   "language": "python",
   "name": "python3"
  },
  "language_info": {
   "codemirror_mode": {
    "name": "ipython",
    "version": 3
   },
   "file_extension": ".py",
   "mimetype": "text/x-python",
   "name": "python",
   "nbconvert_exporter": "python",
   "pygments_lexer": "ipython3",
   "version": "3.12.0"
  }
 },
 "nbformat": 4,
 "nbformat_minor": 4
}
