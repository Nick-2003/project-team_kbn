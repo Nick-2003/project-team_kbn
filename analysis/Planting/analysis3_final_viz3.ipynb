{
 "cells": [
  {
   "cell_type": "markdown",
   "id": "61d8d83a-f206-4ff1-80be-4613fa5fc985",
   "metadata": {},
   "source": [
    "# Nicholas Tam Final Visualization"
   ]
  },
  {
   "cell_type": "markdown",
   "id": "b3c04a14-9c8f-4344-9866-acb3d754057a",
   "metadata": {},
   "source": [
    "## Research Question/Interests\n",
    "Research question: Given the tree dataset, how would we want to arrange the types of trees to be planted in certain locations, such that they could survive and significantly improve the ecosystem?\n",
    "\n",
    "Given the research question, it would be ideal to analyze relevant properties, such as the relative sizes of each location and the proportions of planted trees for each species.\n",
    "\n",
    "The following questions will be used as guidelines to supplement the question:\n",
    "- What are the numbers and proportions of planted trees, by species, genus, or family?\n",
    "- Which planted species exist in many different locations within each neighbourhood?\n",
    "- How do trees that have been planted directly compare in terms of diameter to those that have grown naturally?\n",
    "- What is the distribution of ages for specific tree species?\n",
    "\n",
    "## Task Analysis\n",
    "- Compute: Compute the average percentage differences in `DIAMETER` between planted and non-planted trees, and the ages by the number of days between `DATE_PLANTED` and March 5 2025.\n",
    "- Filter: Filter out `SPECIES_NAME` such that there are plenty of both planted and non-planted trees.\n",
    "- Characterize distribution: Find the distribution of ages for planted tree `SPECIES_NAME`.\n",
    "- Sort: Rank `SPECIES_NAME` for appearing in the greatest number of `NEIGHBOURHOOD_NAME` and having large proportions of each corresponding`ON_STREET` containing them.\n",
    "- Retrieve value: Retrieve the number of trees that have been planted, separated by `SPECIES_NAME`. "
   ]
  },
  {
   "cell_type": "code",
   "execution_count": 1,
   "id": "3ea4da87-cd0d-400a-b6c0-5dbd5e01475c",
   "metadata": {},
   "outputs": [],
   "source": [
    "# !conda install -y geopandas"
   ]
  },
  {
   "cell_type": "code",
   "execution_count": 2,
   "id": "4714e9f7-2c4b-4874-89b3-962964a62855",
   "metadata": {},
   "outputs": [],
   "source": [
    "import altair as alt\n",
    "import pandas as pd\n",
    "from toolz.curried import pipe\n",
    "import os\n",
    "from pygbif import species\n",
    "\n",
    "import sys\n",
    "sys.path.append(\"../../code\")\n",
    "sys.path.append(\"../../images\")\n",
    "import data_clean\n",
    "import preprocess_query_family\n",
    "import preprocess_query_pollen\n",
    "import preprocess_change_col_type\n",
    "import altair_data_transformer\n",
    "from IPython.display import Image\n",
    "import geopandas as gpd\n",
    "import json"
   ]
  },
  {
   "cell_type": "code",
   "execution_count": 3,
   "id": "f127cf44-ff74-4b55-9760-70f810f3538b",
   "metadata": {},
   "outputs": [
    {
     "data": {
      "text/plain": [
       "DataTransformerRegistry.enable('json_dir')"
      ]
     },
     "execution_count": 3,
     "metadata": {},
     "output_type": "execute_result"
    }
   ],
   "source": [
    "# Create a new data transformer that stores the files in a directory\n",
    "data_dir = 'altairdata'\n",
    "altair_data_transformer.setup_altair_for_large_data(data_dir)\n",
    "\n",
    "# Set up file path to save images\n",
    "viz_folder = '../../images/ntam_viz/'\n",
    "\n",
    "# Handle large data sets (default shows only 5000)\n",
    "# See here: https://altair-viz.github.io/user_guide/data_transformers.html\n",
    "alt.data_transformers.disable_max_rows()"
   ]
  },
  {
   "cell_type": "markdown",
   "id": "7c29ab03-c0c3-4cd1-be02-c78887eb7206",
   "metadata": {},
   "source": [
    "## Processed Data\n",
    "- Upon loading `public_trees_cleaned.csv`, need to set the attribute types for `HEIGHT_RANGE`, `TREE_ID`, `CIVIC_NUMBER`, and `ON_STREET_BLOCK`.\n",
    "- `public_trees_planted` is created to filter for species with existing planted trees."
   ]
  },
  {
   "cell_type": "code",
   "execution_count": 4,
   "id": "a02d139d-2849-41e2-96a0-6da19786b633",
   "metadata": {},
   "outputs": [
    {
     "data": {
      "text/html": [
       "<div>\n",
       "<style scoped>\n",
       "    .dataframe tbody tr th:only-of-type {\n",
       "        vertical-align: middle;\n",
       "    }\n",
       "\n",
       "    .dataframe tbody tr th {\n",
       "        vertical-align: top;\n",
       "    }\n",
       "\n",
       "    .dataframe thead th {\n",
       "        text-align: right;\n",
       "    }\n",
       "</style>\n",
       "<table border=\"1\" class=\"dataframe\">\n",
       "  <thead>\n",
       "    <tr style=\"text-align: right;\">\n",
       "      <th></th>\n",
       "      <th>TREE_ID</th>\n",
       "      <th>CIVIC_NUMBER</th>\n",
       "      <th>STD_STREET</th>\n",
       "      <th>GENUS_NAME</th>\n",
       "      <th>SPECIES_NAME</th>\n",
       "      <th>CULTIVAR_NAME</th>\n",
       "      <th>COMMON_NAME</th>\n",
       "      <th>ON_STREET_BLOCK</th>\n",
       "      <th>ON_STREET</th>\n",
       "      <th>NEIGHBOURHOOD_NAME</th>\n",
       "      <th>...</th>\n",
       "      <th>DATE_PLANTED</th>\n",
       "      <th>Geom</th>\n",
       "      <th>geo_point_2d</th>\n",
       "      <th>LATITUDE</th>\n",
       "      <th>LONGITUDE</th>\n",
       "      <th>NOMENCLATURE</th>\n",
       "      <th>ON_ADDRESS</th>\n",
       "      <th>PLANTED_STATUS</th>\n",
       "      <th>FAMILY_NAME</th>\n",
       "      <th>HAS_POLLEN</th>\n",
       "    </tr>\n",
       "  </thead>\n",
       "  <tbody>\n",
       "    <tr>\n",
       "      <th>0</th>\n",
       "      <td>229002</td>\n",
       "      <td>2128</td>\n",
       "      <td>E 54TH AV</td>\n",
       "      <td>FAGUS</td>\n",
       "      <td>SYLVATICA</td>\n",
       "      <td>DAWYCKII</td>\n",
       "      <td>DAWYCK'S BEECH</td>\n",
       "      <td>2100</td>\n",
       "      <td>E 54TH AV</td>\n",
       "      <td>VICTORIA-FRASERVIEW</td>\n",
       "      <td>...</td>\n",
       "      <td>2014-03-12</td>\n",
       "      <td>{\"coordinates\": [-123.06377300024464, 49.22020...</td>\n",
       "      <td>49.22020099919947, -123.06377300024464</td>\n",
       "      <td>49.220201</td>\n",
       "      <td>-123.063773</td>\n",
       "      <td>FAGUS SYLVATICA</td>\n",
       "      <td>2100 E 54TH AV VICTORIA-FRASERVIEW (EVEN)</td>\n",
       "      <td>Planted</td>\n",
       "      <td>FAGACEAE</td>\n",
       "      <td>True</td>\n",
       "    </tr>\n",
       "    <tr>\n",
       "      <th>1</th>\n",
       "      <td>229005</td>\n",
       "      <td>8443</td>\n",
       "      <td>FREMLIN ST</td>\n",
       "      <td>ACER</td>\n",
       "      <td>TRUNCATUM</td>\n",
       "      <td>PACIFIC SUNSET</td>\n",
       "      <td>PACIFIC SUNSET MAPLE</td>\n",
       "      <td>8400</td>\n",
       "      <td>FREMLIN ST</td>\n",
       "      <td>MARPOLE</td>\n",
       "      <td>...</td>\n",
       "      <td>2010-11-08</td>\n",
       "      <td>{\"coordinates\": [-123.12751900039063, 49.20967...</td>\n",
       "      <td>49.20967799914094, -123.12751900039063</td>\n",
       "      <td>49.209678</td>\n",
       "      <td>-123.127519</td>\n",
       "      <td>ACER TRUNCATUM</td>\n",
       "      <td>8400 FREMLIN ST MARPOLE (ODD)</td>\n",
       "      <td>Planted</td>\n",
       "      <td>ACERACEAE</td>\n",
       "      <td>False</td>\n",
       "    </tr>\n",
       "    <tr>\n",
       "      <th>2</th>\n",
       "      <td>229013</td>\n",
       "      <td>1407</td>\n",
       "      <td>W 59TH AV</td>\n",
       "      <td>PRUNUS</td>\n",
       "      <td>CERASIFERA</td>\n",
       "      <td>NIGRA</td>\n",
       "      <td>NIGHT PURPLE LEAF PLUM</td>\n",
       "      <td>7400</td>\n",
       "      <td>CARTIER ST</td>\n",
       "      <td>MARPOLE</td>\n",
       "      <td>...</td>\n",
       "      <td>2010-10-20</td>\n",
       "      <td>{\"coordinates\": [-123.13790199955884, 49.21762...</td>\n",
       "      <td>49.21762499869929, -123.13790199955884</td>\n",
       "      <td>49.217625</td>\n",
       "      <td>-123.137902</td>\n",
       "      <td>PRUNUS CERASIFERA</td>\n",
       "      <td>7400 CARTIER ST MARPOLE (ODD)</td>\n",
       "      <td>Planted</td>\n",
       "      <td>ROSACEAE</td>\n",
       "      <td>True</td>\n",
       "    </tr>\n",
       "    <tr>\n",
       "      <th>3</th>\n",
       "      <td>229015</td>\n",
       "      <td>489</td>\n",
       "      <td>W 2ND AV</td>\n",
       "      <td>PYRUS</td>\n",
       "      <td>CALLERYANA</td>\n",
       "      <td>CHANTICLEER</td>\n",
       "      <td>CHANTICLEER PEAR</td>\n",
       "      <td>400</td>\n",
       "      <td>W 2ND AV</td>\n",
       "      <td>MOUNT PLEASANT</td>\n",
       "      <td>...</td>\n",
       "      <td>2009-12-10</td>\n",
       "      <td>{\"coordinates\": [-123.11410500027938, 49.26698...</td>\n",
       "      <td>49.26698999931175, -123.11410500027938</td>\n",
       "      <td>49.266990</td>\n",
       "      <td>-123.114105</td>\n",
       "      <td>PYRUS CALLERYANA</td>\n",
       "      <td>400 W 2ND AV MOUNT PLEASANT (MED)</td>\n",
       "      <td>Planted</td>\n",
       "      <td>ROSACEAE</td>\n",
       "      <td>False</td>\n",
       "    </tr>\n",
       "    <tr>\n",
       "      <th>4</th>\n",
       "      <td>229016</td>\n",
       "      <td>489</td>\n",
       "      <td>W 2ND AV</td>\n",
       "      <td>PYRUS</td>\n",
       "      <td>CALLERYANA</td>\n",
       "      <td>CHANTICLEER</td>\n",
       "      <td>CHANTICLEER PEAR</td>\n",
       "      <td>400</td>\n",
       "      <td>W 2ND AV</td>\n",
       "      <td>MOUNT PLEASANT</td>\n",
       "      <td>...</td>\n",
       "      <td>2009-12-10</td>\n",
       "      <td>{\"coordinates\": [-123.11399200056373, 49.26704...</td>\n",
       "      <td>49.267045998933334, -123.11399200056373</td>\n",
       "      <td>49.267046</td>\n",
       "      <td>-123.113992</td>\n",
       "      <td>PYRUS CALLERYANA</td>\n",
       "      <td>400 W 2ND AV MOUNT PLEASANT (MED)</td>\n",
       "      <td>Planted</td>\n",
       "      <td>ROSACEAE</td>\n",
       "      <td>False</td>\n",
       "    </tr>\n",
       "  </tbody>\n",
       "</table>\n",
       "<p>5 rows × 24 columns</p>\n",
       "</div>"
      ],
      "text/plain": [
       "  TREE_ID CIVIC_NUMBER  STD_STREET GENUS_NAME SPECIES_NAME   CULTIVAR_NAME  \\\n",
       "0  229002         2128   E 54TH AV      FAGUS    SYLVATICA        DAWYCKII   \n",
       "1  229005         8443  FREMLIN ST       ACER    TRUNCATUM  PACIFIC SUNSET   \n",
       "2  229013         1407   W 59TH AV     PRUNUS   CERASIFERA           NIGRA   \n",
       "3  229015          489    W 2ND AV      PYRUS   CALLERYANA     CHANTICLEER   \n",
       "4  229016          489    W 2ND AV      PYRUS   CALLERYANA     CHANTICLEER   \n",
       "\n",
       "              COMMON_NAME ON_STREET_BLOCK   ON_STREET   NEIGHBOURHOOD_NAME  \\\n",
       "0          DAWYCK'S BEECH            2100   E 54TH AV  VICTORIA-FRASERVIEW   \n",
       "1    PACIFIC SUNSET MAPLE            8400  FREMLIN ST              MARPOLE   \n",
       "2  NIGHT PURPLE LEAF PLUM            7400  CARTIER ST              MARPOLE   \n",
       "3        CHANTICLEER PEAR             400    W 2ND AV       MOUNT PLEASANT   \n",
       "4        CHANTICLEER PEAR             400    W 2ND AV       MOUNT PLEASANT   \n",
       "\n",
       "   ... DATE_PLANTED                                               Geom  \\\n",
       "0  ...   2014-03-12  {\"coordinates\": [-123.06377300024464, 49.22020...   \n",
       "1  ...   2010-11-08  {\"coordinates\": [-123.12751900039063, 49.20967...   \n",
       "2  ...   2010-10-20  {\"coordinates\": [-123.13790199955884, 49.21762...   \n",
       "3  ...   2009-12-10  {\"coordinates\": [-123.11410500027938, 49.26698...   \n",
       "4  ...   2009-12-10  {\"coordinates\": [-123.11399200056373, 49.26704...   \n",
       "\n",
       "                              geo_point_2d   LATITUDE   LONGITUDE  \\\n",
       "0   49.22020099919947, -123.06377300024464  49.220201 -123.063773   \n",
       "1   49.20967799914094, -123.12751900039063  49.209678 -123.127519   \n",
       "2   49.21762499869929, -123.13790199955884  49.217625 -123.137902   \n",
       "3   49.26698999931175, -123.11410500027938  49.266990 -123.114105   \n",
       "4  49.267045998933334, -123.11399200056373  49.267046 -123.113992   \n",
       "\n",
       "        NOMENCLATURE                                 ON_ADDRESS  \\\n",
       "0    FAGUS SYLVATICA  2100 E 54TH AV VICTORIA-FRASERVIEW (EVEN)   \n",
       "1     ACER TRUNCATUM              8400 FREMLIN ST MARPOLE (ODD)   \n",
       "2  PRUNUS CERASIFERA              7400 CARTIER ST MARPOLE (ODD)   \n",
       "3   PYRUS CALLERYANA          400 W 2ND AV MOUNT PLEASANT (MED)   \n",
       "4   PYRUS CALLERYANA          400 W 2ND AV MOUNT PLEASANT (MED)   \n",
       "\n",
       "   PLANTED_STATUS  FAMILY_NAME HAS_POLLEN  \n",
       "0         Planted     FAGACEAE       True  \n",
       "1         Planted    ACERACEAE      False  \n",
       "2         Planted     ROSACEAE       True  \n",
       "3         Planted     ROSACEAE      False  \n",
       "4         Planted     ROSACEAE      False  \n",
       "\n",
       "[5 rows x 24 columns]"
      ]
     },
     "execution_count": 4,
     "metadata": {},
     "output_type": "execute_result"
    }
   ],
   "source": [
    "public_trees_cleaned = pd.read_csv(\"../../data/processed/public_trees_cleaned.csv\")\n",
    "priority_order = ['10-20', '20-30', '30-40', '40-50', '50-60', '60-70', '70-80', '80-90', '>90']\n",
    "public_trees_cleaned['HEIGHT_RANGE'] = pd.Categorical(public_trees_cleaned['HEIGHT_RANGE'], categories=priority_order, ordered=True)\n",
    "public_trees_cleaned[['TREE_ID', 'CIVIC_NUMBER', 'ON_STREET_BLOCK']] = public_trees_cleaned[['TREE_ID', 'CIVIC_NUMBER', 'ON_STREET_BLOCK']].astype(str)\n",
    "\n",
    "public_trees_cleaned.head()"
   ]
  },
  {
   "cell_type": "code",
   "execution_count": 5,
   "id": "e04ce587-6f84-4a54-b902-d7ab633f8ccd",
   "metadata": {},
   "outputs": [],
   "source": [
    "planted_species = public_trees_cleaned.loc[public_trees_cleaned['DATE_PLANTED'].notnull(), 'SPECIES_NAME'].unique()\n",
    "public_trees_planted = public_trees_cleaned[public_trees_cleaned['SPECIES_NAME'].isin(planted_species)]"
   ]
  },
  {
   "cell_type": "markdown",
   "id": "48320b76-0b86-4f36-b956-cfda52589e30",
   "metadata": {},
   "source": [
    "## Visualization 3: How do trees that have been planted directly compare in terms of diameter to those that have grown naturally?"
   ]
  },
  {
   "cell_type": "code",
   "execution_count": 6,
   "id": "94ee4bfc-6e8c-47c5-93e8-f45f4ca82931",
   "metadata": {},
   "outputs": [
    {
     "name": "stderr",
     "output_type": "stream",
     "text": [
      "/var/folders/sp/136d3tf94ns_hpp_7z4mgphm0000gp/T/ipykernel_11534/430986161.py:27: SettingWithCopyWarning: \n",
      "A value is trying to be set on a copy of a slice from a DataFrame.\n",
      "Try using .loc[row_indexer,col_indexer] = value instead\n",
      "\n",
      "See the caveats in the documentation: https://pandas.pydata.org/pandas-docs/stable/user_guide/indexing.html#returning-a-view-versus-a-copy\n",
      "  public_trees_planted['HEIGHT_MEANS'] = public_trees_planted['HEIGHT_RANGE'].astype(str).map(height_dict)\n"
     ]
    }
   ],
   "source": [
    "# brush = alt.selection_interval(\n",
    "#     encodings=['x'],  # Select species based on the x-axis\n",
    "#     empty=True  # Default shows all species\n",
    "# )\n",
    "\n",
    "box = (\n",
    "    alt.Chart(public_trees_planted).transform_filter(\n",
    "        # Remove outliers by filtering values outside of the range [Q1 - 1.5*IQR, Q3 + 1.5*IQR]\n",
    "        \"datum.DIAMETER >= 0 && datum.DIAMETER <= 100\"\n",
    "    ).mark_bar().encode(\n",
    "        # alt.Y('PLANTED_STATUS:N', title=\"Planted?\"),\n",
    "        alt.X('DIAMETER:Q', title=\"Diameter\", scale=alt.Scale(domain=[0, 100])),\n",
    "        alt.Y('count():Q'),\n",
    "        # color=alt.Color('GENUS_NAME:N', title=\"Genus\",),\n",
    "        # column=alt.Column('GENUS_NAME:N', title=\"Genus\")\n",
    "    ).facet(\n",
    "        column='PLANTED_STATUS:N'\n",
    "    ).properties(\n",
    "        title=\"Tree Diameter by Genus (Planted vs. Not Planted)\",\n",
    "        height=100,\n",
    "    )\n",
    ")\n",
    "\n",
    "height_dict = {\n",
    "    '10-20':15, '20-30':25, '30-40':35, '40-50':45, '50-60':55, '60-70':65, '70-80':75, '80-90':85, '>90':100\n",
    "}\n",
    "public_trees_planted['HEIGHT_MEANS'] = public_trees_planted['HEIGHT_RANGE'].astype(str).map(height_dict)\n",
    "\n",
    "# Calculate the percentage change for each species grouped by whether they are planted or not\n",
    "species_diffs = public_trees_planted.groupby('SPECIES_NAME').agg(\n",
    "    Diameter_Plant=('DIAMETER', lambda x: x[public_trees_planted['PLANTED_STATUS'] == 'Planted'].mean()), \n",
    "    Diameter_Not_Plant=('DIAMETER', lambda x: x[public_trees_planted['PLANTED_STATUS'] == 'Non-planted'].mean()),\n",
    "    Height_Plant=('HEIGHT_MEANS', lambda x: x[public_trees_planted['PLANTED_STATUS'] == 'Planted'].mean()), \n",
    "    Height_Not_Plant=('HEIGHT_MEANS', lambda x: x[public_trees_planted['PLANTED_STATUS'] == 'Non-planted'].mean())\n",
    ").reset_index()\n",
    "\n",
    "species_diffs['Percent_Diff_D'] = ((species_diffs['Diameter_Plant'] - species_diffs['Diameter_Not_Plant']) / species_diffs['Diameter_Not_Plant']) * 100\n",
    "species_diffs['Percent_Diff_H'] = ((species_diffs['Height_Plant'] - species_diffs['Height_Not_Plant']) / species_diffs['Height_Not_Plant']) * 100\n",
    "\n",
    "bars = (\n",
    "    alt.Chart(species_diffs).mark_point().encode(\n",
    "        alt.X('SPECIES_NAME:N', title=\"Species\", sort='-y'),\n",
    "        alt.Y('Percent_Diff_D:Q', title=\"Percentage Change in Diameter\"),\n",
    "        alt.Tooltip(['Percent_Diff_D'])\n",
    "    ).properties(\n",
    "        title=\"Tree Diameter by Genus (Planted vs. Not Planted)\",\n",
    "    )\n",
    "    + \n",
    "    alt.Chart(pd.DataFrame({\n",
    "        'Percent_Diff_D': [0],\n",
    "    })).mark_rule().encode(\n",
    "        alt.Y('Percent_Diff_D:Q'),\n",
    "    )\n",
    ")"
   ]
  },
  {
   "cell_type": "code",
   "execution_count": 10,
   "id": "dbf46225-b82b-49ee-94a2-1c632f205cb1",
   "metadata": {},
   "outputs": [
    {
     "name": "stderr",
     "output_type": "stream",
     "text": [
      "/opt/anaconda3/lib/python3.12/site-packages/altair/utils/core.py:395: FutureWarning: the convert_dtype parameter is deprecated and will be removed in a future version.  Do ``ser.astype(object).apply()`` instead if you want ``convert_dtype=False``.\n",
      "  col = df[col_name].apply(to_list_if_array, convert_dtype=False)\n",
      "/opt/anaconda3/lib/python3.12/site-packages/altair/utils/core.py:395: FutureWarning: the convert_dtype parameter is deprecated and will be removed in a future version.  Do ``ser.astype(object).apply()`` instead if you want ``convert_dtype=False``.\n",
      "  col = df[col_name].apply(to_list_if_array, convert_dtype=False)\n",
      "/opt/anaconda3/lib/python3.12/site-packages/altair/utils/core.py:395: FutureWarning: the convert_dtype parameter is deprecated and will be removed in a future version.  Do ``ser.astype(object).apply()`` instead if you want ``convert_dtype=False``.\n",
      "  col = df[col_name].apply(to_list_if_array, convert_dtype=False)\n",
      "/opt/anaconda3/lib/python3.12/site-packages/altair/utils/core.py:395: FutureWarning: the convert_dtype parameter is deprecated and will be removed in a future version.  Do ``ser.astype(object).apply()`` instead if you want ``convert_dtype=False``.\n",
      "  col = df[col_name].apply(to_list_if_array, convert_dtype=False)\n",
      "/opt/anaconda3/lib/python3.12/site-packages/altair/utils/core.py:395: FutureWarning: the convert_dtype parameter is deprecated and will be removed in a future version.  Do ``ser.astype(object).apply()`` instead if you want ``convert_dtype=False``.\n",
      "  col = df[col_name].apply(to_list_if_array, convert_dtype=False)\n",
      "/opt/anaconda3/lib/python3.12/site-packages/altair/utils/core.py:395: FutureWarning: the convert_dtype parameter is deprecated and will be removed in a future version.  Do ``ser.astype(object).apply()`` instead if you want ``convert_dtype=False``.\n",
      "  col = df[col_name].apply(to_list_if_array, convert_dtype=False)\n",
      "/opt/anaconda3/lib/python3.12/site-packages/altair/utils/core.py:395: FutureWarning: the convert_dtype parameter is deprecated and will be removed in a future version.  Do ``ser.astype(object).apply()`` instead if you want ``convert_dtype=False``.\n",
      "  col = df[col_name].apply(to_list_if_array, convert_dtype=False)\n",
      "/opt/anaconda3/lib/python3.12/site-packages/altair/utils/core.py:395: FutureWarning: the convert_dtype parameter is deprecated and will be removed in a future version.  Do ``ser.astype(object).apply()`` instead if you want ``convert_dtype=False``.\n",
      "  col = df[col_name].apply(to_list_if_array, convert_dtype=False)\n",
      "/opt/anaconda3/lib/python3.12/site-packages/altair/utils/core.py:395: FutureWarning: the convert_dtype parameter is deprecated and will be removed in a future version.  Do ``ser.astype(object).apply()`` instead if you want ``convert_dtype=False``.\n",
      "  col = df[col_name].apply(to_list_if_array, convert_dtype=False)\n",
      "/opt/anaconda3/lib/python3.12/site-packages/altair/utils/core.py:395: FutureWarning: the convert_dtype parameter is deprecated and will be removed in a future version.  Do ``ser.astype(object).apply()`` instead if you want ``convert_dtype=False``.\n",
      "  col = df[col_name].apply(to_list_if_array, convert_dtype=False)\n",
      "/opt/anaconda3/lib/python3.12/site-packages/altair/utils/core.py:395: FutureWarning: the convert_dtype parameter is deprecated and will be removed in a future version.  Do ``ser.astype(object).apply()`` instead if you want ``convert_dtype=False``.\n",
      "  col = df[col_name].apply(to_list_if_array, convert_dtype=False)\n",
      "/opt/anaconda3/lib/python3.12/site-packages/altair/utils/core.py:395: FutureWarning: the convert_dtype parameter is deprecated and will be removed in a future version.  Do ``ser.astype(object).apply()`` instead if you want ``convert_dtype=False``.\n",
      "  col = df[col_name].apply(to_list_if_array, convert_dtype=False)\n",
      "/opt/anaconda3/lib/python3.12/site-packages/altair/utils/core.py:395: FutureWarning: the convert_dtype parameter is deprecated and will be removed in a future version.  Do ``ser.astype(object).apply()`` instead if you want ``convert_dtype=False``.\n",
      "  col = df[col_name].apply(to_list_if_array, convert_dtype=False)\n",
      "/opt/anaconda3/lib/python3.12/site-packages/altair/utils/core.py:395: FutureWarning: the convert_dtype parameter is deprecated and will be removed in a future version.  Do ``ser.astype(object).apply()`` instead if you want ``convert_dtype=False``.\n",
      "  col = df[col_name].apply(to_list_if_array, convert_dtype=False)\n",
      "/opt/anaconda3/lib/python3.12/site-packages/altair/utils/core.py:395: FutureWarning: the convert_dtype parameter is deprecated and will be removed in a future version.  Do ``ser.astype(object).apply()`` instead if you want ``convert_dtype=False``.\n",
      "  col = df[col_name].apply(to_list_if_array, convert_dtype=False)\n",
      "/opt/anaconda3/lib/python3.12/site-packages/altair/utils/core.py:395: FutureWarning: the convert_dtype parameter is deprecated and will be removed in a future version.  Do ``ser.astype(object).apply()`` instead if you want ``convert_dtype=False``.\n",
      "  col = df[col_name].apply(to_list_if_array, convert_dtype=False)\n",
      "/opt/anaconda3/lib/python3.12/site-packages/altair/utils/core.py:395: FutureWarning: the convert_dtype parameter is deprecated and will be removed in a future version.  Do ``ser.astype(object).apply()`` instead if you want ``convert_dtype=False``.\n",
      "  col = df[col_name].apply(to_list_if_array, convert_dtype=False)\n",
      "/opt/anaconda3/lib/python3.12/site-packages/altair/utils/core.py:395: FutureWarning: the convert_dtype parameter is deprecated and will be removed in a future version.  Do ``ser.astype(object).apply()`` instead if you want ``convert_dtype=False``.\n",
      "  col = df[col_name].apply(to_list_if_array, convert_dtype=False)\n"
     ]
    },
    {
     "data": {
      "application/vnd.vegalite.v5+json": {
       "$schema": "https://vega.github.io/schema/vega-lite/v5.8.0.json",
       "config": {
        "view": {
         "continuousHeight": 300,
         "continuousWidth": 300
        }
       },
       "data": {
        "format": {
         "type": "json"
        },
        "url": "altairdata/altair-data-63315fdcb67cd07d6eb788f8612f7d7d.json"
       },
       "hconcat": [
        {
         "encoding": {
          "color": {
           "field": "PLANTED_STATUS",
           "scale": {
            "range": [
             "#1f77b4",
             "#ff7f0e"
            ]
           },
           "type": "nominal"
          },
          "opacity": {
           "condition": {
            "param": "param_3",
            "value": 0.8
           },
           "value": 0.1
          },
          "x": {
           "bin": {
            "maxbins": 20
           },
           "field": "DIAMETER",
           "title": "Diameter",
           "type": "quantitative"
          },
          "y": {
           "aggregate": "count",
           "type": "quantitative"
          }
         },
         "mark": {
          "type": "bar"
         },
         "name": "view_5",
         "title": "Tree Diameter by Planted Status",
         "transform": [
          {
           "filter": "datum.DIAMETER >= 0 && datum.DIAMETER <= 100"
          }
         ]
        },
        {
         "encoding": {
          "color": {
           "field": "PLANTED_STATUS",
           "scale": {
            "range": [
             "#1f77b4",
             "#ff7f0e"
            ]
           },
           "type": "nominal"
          },
          "opacity": {
           "condition": {
            "param": "param_3",
            "value": 0.8
           },
           "value": 0.1
          },
          "x": {
           "field": "HEIGHT_RANGE",
           "sort": [
            "10-20",
            "20-30",
            "30-40",
            "40-50",
            "50-60",
            "60-70",
            "70-80",
            "80-90",
            ">90"
           ],
           "title": "Height",
           "type": "ordinal"
          },
          "y": {
           "aggregate": "count",
           "type": "quantitative"
          }
         },
         "mark": {
          "type": "bar"
         },
         "name": "view_6",
         "title": "Tree Height by Planted Status"
        }
       ],
       "params": [
        {
         "name": "param_3",
         "select": {
          "encodings": [
           "x"
          ],
          "resolve": "global",
          "type": "interval"
         },
         "views": [
          "view_5",
          "view_6"
         ]
        }
       ]
      },
      "image/png": "[encoded data removed]",
      "text/plain": [
       "<VegaLite 5 object>\n",
       "\n",
       "If you see this message, it means the renderer has not been properly enabled\n",
       "for the frontend that you are using. For more information, see\n",
       "https://altair-viz.github.io/user_guide/display_frontends.html#troubleshooting\n"
      ]
     },
     "execution_count": 10,
     "metadata": {},
     "output_type": "execute_result"
    }
   ],
   "source": [
    "brush = alt.selection_interval(encodings=['x'], resolve='global')\n",
    "\n",
    "hist_diam = (\n",
    "    alt.Chart(public_trees_planted).transform_filter(\n",
    "        # Remove outliers by filtering values outside of the range [Q1 - 1.5*IQR, Q3 + 1.5*IQR]\n",
    "        \"datum.DIAMETER >= 0 && datum.DIAMETER <= 100\"\n",
    "    ).mark_bar()\n",
    "    .encode(\n",
    "        alt.X('DIAMETER:Q', title=\"Diameter\", bin=alt.BinParams(maxbins=20)),\n",
    "        alt.Y('count():Q'),\n",
    "        color=alt.Color('PLANTED_STATUS:N', scale=alt.Scale(range=['#1f77b4', '#ff7f0e'])),\n",
    "        opacity=alt.condition(brush, alt.value(0.8), alt.value(0.1)),\n",
    "    )\n",
    "    # .facet(\n",
    "    #     column='PLANTED_STATUS:N',\n",
    "    # )\n",
    "    .add_params(brush)\n",
    "    .properties(\n",
    "        title=\"Tree Diameter by Planted Status\",\n",
    "    )\n",
    ")\n",
    "\n",
    "hist_height = (\n",
    "    alt.Chart(public_trees_planted).mark_bar()\n",
    "    .encode(\n",
    "        alt.X('HEIGHT_RANGE', title=\"Height\"),\n",
    "        alt.Y('count():Q'),\n",
    "        color=alt.Color('PLANTED_STATUS:N', scale=alt.Scale(range=['#1f77b4', '#ff7f0e'])),\n",
    "        opacity=alt.condition(brush, alt.value(0.8), alt.value(0.1)),\n",
    "    )\n",
    "    # .facet(\n",
    "    #     column='PLANTED_STATUS:N',\n",
    "    # )\n",
    "    .add_params(brush)\n",
    "    .properties(\n",
    "        title=\"Tree Height by Planted Status\",\n",
    "    )\n",
    ")\n",
    "hist = hist_diam | hist_height\n",
    "hist"
   ]
  },
  {
   "cell_type": "code",
   "execution_count": 8,
   "id": "4fa58cf4-d4ab-471d-97b4-95b62d5269fb",
   "metadata": {},
   "outputs": [],
   "source": [
    "# box = (\n",
    "#     alt.Chart(public_trees_planted).transform_filter(\n",
    "#         # Remove outliers by filtering values outside of the range [Q1 - 1.5*IQR, Q3 + 1.5*IQR]\n",
    "#         \"datum.DIAMETER >= 0 && datum.DIAMETER <= 100\"\n",
    "#     ).mark_boxplot().encode(\n",
    "#         alt.Y('PLANTED_STATUS:N', title=\"Planted?\"),\n",
    "#         alt.X('DIAMETER:Q', title=\"Diameter\", scale=alt.Scale(domain=[0, 100])),\n",
    "#         # color=alt.Color('GENUS_NAME:N', title=\"Genus\",),\n",
    "#         # column=alt.Column('GENUS_NAME:N', title=\"Genus\")\n",
    "#     ).properties(\n",
    "#         title=\"Tree Diameter by Genus (Planted vs. Not Planted)\",\n",
    "#         height=100,\n",
    "#     )\n",
    "# )"
   ]
  }
 ],
 "metadata": {
  "kernelspec": {
   "display_name": "Python [conda env:anaconda3]",
   "language": "python",
   "name": "conda-env-anaconda3-py"
  },
  "language_info": {
   "codemirror_mode": {
    "name": "ipython",
    "version": 3
   },
   "file_extension": ".py",
   "mimetype": "text/x-python",
   "name": "python",
   "nbconvert_exporter": "python",
   "pygments_lexer": "ipython3",
   "version": "3.12.2"
  }
 },
 "nbformat": 4,
 "nbformat_minor": 5
}
