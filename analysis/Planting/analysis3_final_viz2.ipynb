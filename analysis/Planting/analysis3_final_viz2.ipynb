{
 "cells": [
  {
   "cell_type": "markdown",
   "id": "61d8d83a-f206-4ff1-80be-4613fa5fc985",
   "metadata": {},
   "source": [
    "# Nicholas Tam Final Visualization"
   ]
  },
  {
   "cell_type": "markdown",
   "id": "b3c04a14-9c8f-4344-9866-acb3d754057a",
   "metadata": {},
   "source": [
    "## Research Question/Interests\n",
    "Research question: Given the tree dataset, how would we want to arrange the types of trees to be planted in certain locations, such that they could survive and significantly improve the ecosystem?\n",
    "\n",
    "Given the research question, it would be ideal to analyze relevant properties, such as the relative sizes of each location and the proportions of planted trees for each species.\n",
    "\n",
    "The following questions will be used as guidelines to supplement the question:\n",
    "- What are the numbers and proportions of planted trees, by species, genus, or family?\n",
    "- Which planted species exist in many different locations within each neighbourhood?\n",
    "- How do trees that have been planted directly compare in terms of diameter to those that have grown naturally?\n",
    "- What is the distribution of ages for specific tree species?\n",
    "\n",
    "## Task Analysis\n",
    "- Compute: Compute the average percentage differences in `DIAMETER` between planted and non-planted trees, and the ages by the number of days between `DATE_PLANTED` and March 5 2025.\n",
    "- Filter: Filter out `SPECIES_NAME` such that there are plenty of both planted and non-planted trees.\n",
    "- Characterize distribution: Find the distribution of ages for planted tree `SPECIES_NAME`.\n",
    "- Sort: Rank `SPECIES_NAME` for appearing in the greatest number of `NEIGHBOURHOOD_NAME` and having large proportions of each corresponding`ON_STREET` containing them.\n",
    "- Retrieve value: Retrieve the number of trees that have been planted, separated by `SPECIES_NAME`. "
   ]
  },
  {
   "cell_type": "code",
   "execution_count": 1,
   "id": "3ea4da87-cd0d-400a-b6c0-5dbd5e01475c",
   "metadata": {},
   "outputs": [],
   "source": [
    "# !conda install -y geopandas"
   ]
  },
  {
   "cell_type": "code",
   "execution_count": 2,
   "id": "4714e9f7-2c4b-4874-89b3-962964a62855",
   "metadata": {},
   "outputs": [],
   "source": [
    "import altair as alt\n",
    "import pandas as pd\n",
    "from toolz.curried import pipe\n",
    "import os\n",
    "from pygbif import species\n",
    "\n",
    "import sys\n",
    "sys.path.append(\"../../code\")\n",
    "sys.path.append(\"../../images\")\n",
    "import data_clean\n",
    "import preprocess_query_family\n",
    "import preprocess_query_pollen\n",
    "import preprocess_change_col_type\n",
    "import altair_data_transformer\n",
    "from IPython.display import Image\n",
    "import geopandas as gpd\n",
    "import json"
   ]
  },
  {
   "cell_type": "code",
   "execution_count": 3,
   "id": "f127cf44-ff74-4b55-9760-70f810f3538b",
   "metadata": {},
   "outputs": [
    {
     "data": {
      "text/plain": [
       "DataTransformerRegistry.enable('json_dir')"
      ]
     },
     "execution_count": 3,
     "metadata": {},
     "output_type": "execute_result"
    }
   ],
   "source": [
    "# Create a new data transformer that stores the files in a directory\n",
    "data_dir = 'altairdata'\n",
    "altair_data_transformer.setup_altair_for_large_data(data_dir)\n",
    "\n",
    "# Set up file path to save images\n",
    "viz_folder = '../../images/ntam_viz/'\n",
    "\n",
    "# Handle large data sets (default shows only 5000)\n",
    "# See here: https://altair-viz.github.io/user_guide/data_transformers.html\n",
    "alt.data_transformers.disable_max_rows()"
   ]
  },
  {
   "cell_type": "markdown",
   "id": "7c29ab03-c0c3-4cd1-be02-c78887eb7206",
   "metadata": {},
   "source": [
    "## Processed Data\n",
    "- Upon loading `public_trees_cleaned.csv`, need to set the attribute types for `HEIGHT_RANGE`, `TREE_ID`, `CIVIC_NUMBER`, and `ON_STREET_BLOCK`.\n",
    "- `public_trees_planted` is created to filter for species with existing planted trees."
   ]
  },
  {
   "cell_type": "code",
   "execution_count": 4,
   "id": "a02d139d-2849-41e2-96a0-6da19786b633",
   "metadata": {},
   "outputs": [
    {
     "data": {
      "text/html": [
       "<div>\n",
       "<style scoped>\n",
       "    .dataframe tbody tr th:only-of-type {\n",
       "        vertical-align: middle;\n",
       "    }\n",
       "\n",
       "    .dataframe tbody tr th {\n",
       "        vertical-align: top;\n",
       "    }\n",
       "\n",
       "    .dataframe thead th {\n",
       "        text-align: right;\n",
       "    }\n",
       "</style>\n",
       "<table border=\"1\" class=\"dataframe\">\n",
       "  <thead>\n",
       "    <tr style=\"text-align: right;\">\n",
       "      <th></th>\n",
       "      <th>TREE_ID</th>\n",
       "      <th>CIVIC_NUMBER</th>\n",
       "      <th>STD_STREET</th>\n",
       "      <th>GENUS_NAME</th>\n",
       "      <th>SPECIES_NAME</th>\n",
       "      <th>CULTIVAR_NAME</th>\n",
       "      <th>COMMON_NAME</th>\n",
       "      <th>ON_STREET_BLOCK</th>\n",
       "      <th>ON_STREET</th>\n",
       "      <th>NEIGHBOURHOOD_NAME</th>\n",
       "      <th>...</th>\n",
       "      <th>DIAMETER</th>\n",
       "      <th>DATE_PLANTED</th>\n",
       "      <th>Geom</th>\n",
       "      <th>geo_point_2d</th>\n",
       "      <th>LATITUDE</th>\n",
       "      <th>LONGITUDE</th>\n",
       "      <th>NOMENCLATURE</th>\n",
       "      <th>ON_ADDRESS</th>\n",
       "      <th>FAMILY_NAME</th>\n",
       "      <th>HAS_POLLEN</th>\n",
       "    </tr>\n",
       "  </thead>\n",
       "  <tbody>\n",
       "    <tr>\n",
       "      <th>0</th>\n",
       "      <td>229002</td>\n",
       "      <td>2128</td>\n",
       "      <td>E 54TH AV</td>\n",
       "      <td>FAGUS</td>\n",
       "      <td>SYLVATICA</td>\n",
       "      <td>DAWYCKII</td>\n",
       "      <td>DAWYCK'S BEECH</td>\n",
       "      <td>2100</td>\n",
       "      <td>E 54TH AV</td>\n",
       "      <td>VICTORIA-FRASERVIEW</td>\n",
       "      <td>...</td>\n",
       "      <td>3.0</td>\n",
       "      <td>2014-03-12</td>\n",
       "      <td>{\"coordinates\": [-123.06377300024464, 49.22020...</td>\n",
       "      <td>49.22020099919947, -123.06377300024464</td>\n",
       "      <td>49.220201</td>\n",
       "      <td>-123.063773</td>\n",
       "      <td>FAGUS SYLVATICA</td>\n",
       "      <td>2100 E 54TH AV VICTORIA-FRASERVIEW (EVEN)</td>\n",
       "      <td>FAGACEAE</td>\n",
       "      <td>True</td>\n",
       "    </tr>\n",
       "    <tr>\n",
       "      <th>1</th>\n",
       "      <td>229005</td>\n",
       "      <td>8443</td>\n",
       "      <td>FREMLIN ST</td>\n",
       "      <td>ACER</td>\n",
       "      <td>TRUNCATUM</td>\n",
       "      <td>PACIFIC SUNSET</td>\n",
       "      <td>PACIFIC SUNSET MAPLE</td>\n",
       "      <td>8400</td>\n",
       "      <td>FREMLIN ST</td>\n",
       "      <td>MARPOLE</td>\n",
       "      <td>...</td>\n",
       "      <td>12.0</td>\n",
       "      <td>2010-11-08</td>\n",
       "      <td>{\"coordinates\": [-123.12751900039063, 49.20967...</td>\n",
       "      <td>49.20967799914094, -123.12751900039063</td>\n",
       "      <td>49.209678</td>\n",
       "      <td>-123.127519</td>\n",
       "      <td>ACER TRUNCATUM</td>\n",
       "      <td>8400 FREMLIN ST MARPOLE (ODD)</td>\n",
       "      <td>ACERACEAE</td>\n",
       "      <td>False</td>\n",
       "    </tr>\n",
       "    <tr>\n",
       "      <th>2</th>\n",
       "      <td>229013</td>\n",
       "      <td>1407</td>\n",
       "      <td>W 59TH AV</td>\n",
       "      <td>PRUNUS</td>\n",
       "      <td>CERASIFERA</td>\n",
       "      <td>NIGRA</td>\n",
       "      <td>NIGHT PURPLE LEAF PLUM</td>\n",
       "      <td>7400</td>\n",
       "      <td>CARTIER ST</td>\n",
       "      <td>MARPOLE</td>\n",
       "      <td>...</td>\n",
       "      <td>3.0</td>\n",
       "      <td>2010-10-20</td>\n",
       "      <td>{\"coordinates\": [-123.13790199955884, 49.21762...</td>\n",
       "      <td>49.21762499869929, -123.13790199955884</td>\n",
       "      <td>49.217625</td>\n",
       "      <td>-123.137902</td>\n",
       "      <td>PRUNUS CERASIFERA</td>\n",
       "      <td>7400 CARTIER ST MARPOLE (ODD)</td>\n",
       "      <td>ROSACEAE</td>\n",
       "      <td>True</td>\n",
       "    </tr>\n",
       "    <tr>\n",
       "      <th>3</th>\n",
       "      <td>229015</td>\n",
       "      <td>489</td>\n",
       "      <td>W 2ND AV</td>\n",
       "      <td>PYRUS</td>\n",
       "      <td>CALLERYANA</td>\n",
       "      <td>CHANTICLEER</td>\n",
       "      <td>CHANTICLEER PEAR</td>\n",
       "      <td>400</td>\n",
       "      <td>W 2ND AV</td>\n",
       "      <td>MOUNT PLEASANT</td>\n",
       "      <td>...</td>\n",
       "      <td>3.0</td>\n",
       "      <td>2009-12-10</td>\n",
       "      <td>{\"coordinates\": [-123.11410500027938, 49.26698...</td>\n",
       "      <td>49.26698999931175, -123.11410500027938</td>\n",
       "      <td>49.266990</td>\n",
       "      <td>-123.114105</td>\n",
       "      <td>PYRUS CALLERYANA</td>\n",
       "      <td>400 W 2ND AV MOUNT PLEASANT (MED)</td>\n",
       "      <td>ROSACEAE</td>\n",
       "      <td>False</td>\n",
       "    </tr>\n",
       "    <tr>\n",
       "      <th>4</th>\n",
       "      <td>229016</td>\n",
       "      <td>489</td>\n",
       "      <td>W 2ND AV</td>\n",
       "      <td>PYRUS</td>\n",
       "      <td>CALLERYANA</td>\n",
       "      <td>CHANTICLEER</td>\n",
       "      <td>CHANTICLEER PEAR</td>\n",
       "      <td>400</td>\n",
       "      <td>W 2ND AV</td>\n",
       "      <td>MOUNT PLEASANT</td>\n",
       "      <td>...</td>\n",
       "      <td>3.0</td>\n",
       "      <td>2009-12-10</td>\n",
       "      <td>{\"coordinates\": [-123.11399200056373, 49.26704...</td>\n",
       "      <td>49.267045998933334, -123.11399200056373</td>\n",
       "      <td>49.267046</td>\n",
       "      <td>-123.113992</td>\n",
       "      <td>PYRUS CALLERYANA</td>\n",
       "      <td>400 W 2ND AV MOUNT PLEASANT (MED)</td>\n",
       "      <td>ROSACEAE</td>\n",
       "      <td>False</td>\n",
       "    </tr>\n",
       "  </tbody>\n",
       "</table>\n",
       "<p>5 rows × 23 columns</p>\n",
       "</div>"
      ],
      "text/plain": [
       "  TREE_ID CIVIC_NUMBER  STD_STREET GENUS_NAME SPECIES_NAME   CULTIVAR_NAME  \\\n",
       "0  229002         2128   E 54TH AV      FAGUS    SYLVATICA        DAWYCKII   \n",
       "1  229005         8443  FREMLIN ST       ACER    TRUNCATUM  PACIFIC SUNSET   \n",
       "2  229013         1407   W 59TH AV     PRUNUS   CERASIFERA           NIGRA   \n",
       "3  229015          489    W 2ND AV      PYRUS   CALLERYANA     CHANTICLEER   \n",
       "4  229016          489    W 2ND AV      PYRUS   CALLERYANA     CHANTICLEER   \n",
       "\n",
       "              COMMON_NAME ON_STREET_BLOCK   ON_STREET   NEIGHBOURHOOD_NAME  \\\n",
       "0          DAWYCK'S BEECH            2100   E 54TH AV  VICTORIA-FRASERVIEW   \n",
       "1    PACIFIC SUNSET MAPLE            8400  FREMLIN ST              MARPOLE   \n",
       "2  NIGHT PURPLE LEAF PLUM            7400  CARTIER ST              MARPOLE   \n",
       "3        CHANTICLEER PEAR             400    W 2ND AV       MOUNT PLEASANT   \n",
       "4        CHANTICLEER PEAR             400    W 2ND AV       MOUNT PLEASANT   \n",
       "\n",
       "   ... DIAMETER  DATE_PLANTED  \\\n",
       "0  ...      3.0    2014-03-12   \n",
       "1  ...     12.0    2010-11-08   \n",
       "2  ...      3.0    2010-10-20   \n",
       "3  ...      3.0    2009-12-10   \n",
       "4  ...      3.0    2009-12-10   \n",
       "\n",
       "                                                Geom  \\\n",
       "0  {\"coordinates\": [-123.06377300024464, 49.22020...   \n",
       "1  {\"coordinates\": [-123.12751900039063, 49.20967...   \n",
       "2  {\"coordinates\": [-123.13790199955884, 49.21762...   \n",
       "3  {\"coordinates\": [-123.11410500027938, 49.26698...   \n",
       "4  {\"coordinates\": [-123.11399200056373, 49.26704...   \n",
       "\n",
       "                              geo_point_2d   LATITUDE   LONGITUDE  \\\n",
       "0   49.22020099919947, -123.06377300024464  49.220201 -123.063773   \n",
       "1   49.20967799914094, -123.12751900039063  49.209678 -123.127519   \n",
       "2   49.21762499869929, -123.13790199955884  49.217625 -123.137902   \n",
       "3   49.26698999931175, -123.11410500027938  49.266990 -123.114105   \n",
       "4  49.267045998933334, -123.11399200056373  49.267046 -123.113992   \n",
       "\n",
       "        NOMENCLATURE                                 ON_ADDRESS  FAMILY_NAME  \\\n",
       "0    FAGUS SYLVATICA  2100 E 54TH AV VICTORIA-FRASERVIEW (EVEN)     FAGACEAE   \n",
       "1     ACER TRUNCATUM              8400 FREMLIN ST MARPOLE (ODD)    ACERACEAE   \n",
       "2  PRUNUS CERASIFERA              7400 CARTIER ST MARPOLE (ODD)     ROSACEAE   \n",
       "3   PYRUS CALLERYANA          400 W 2ND AV MOUNT PLEASANT (MED)     ROSACEAE   \n",
       "4   PYRUS CALLERYANA          400 W 2ND AV MOUNT PLEASANT (MED)     ROSACEAE   \n",
       "\n",
       "  HAS_POLLEN  \n",
       "0       True  \n",
       "1      False  \n",
       "2       True  \n",
       "3      False  \n",
       "4      False  \n",
       "\n",
       "[5 rows x 23 columns]"
      ]
     },
     "execution_count": 4,
     "metadata": {},
     "output_type": "execute_result"
    }
   ],
   "source": [
    "public_trees_cleaned = pd.read_csv(\"../../data/processed/public_trees_cleaned.csv\")\n",
    "priority_order = ['10-20', '20-30', '30-40', '40-50', '50-60', '60-70', '70-80', '80-90', '>90']\n",
    "public_trees_cleaned['HEIGHT_RANGE'] = pd.Categorical(public_trees_cleaned['HEIGHT_RANGE'], categories=priority_order, ordered=True)\n",
    "public_trees_cleaned[['TREE_ID', 'CIVIC_NUMBER', 'ON_STREET_BLOCK']] = public_trees_cleaned[['TREE_ID', 'CIVIC_NUMBER', 'ON_STREET_BLOCK']].astype(str)\n",
    "\n",
    "public_trees_cleaned.head()"
   ]
  },
  {
   "cell_type": "code",
   "execution_count": 5,
   "id": "e04ce587-6f84-4a54-b902-d7ab633f8ccd",
   "metadata": {},
   "outputs": [],
   "source": [
    "planted_species = public_trees_cleaned.loc[public_trees_cleaned['DATE_PLANTED'].notnull(), 'SPECIES_NAME'].unique()\n",
    "public_trees_planted = public_trees_cleaned[public_trees_cleaned['SPECIES_NAME'].isin(planted_species)]\n",
    "gdf_trees = gpd.read_file('../../data/processed/public-trees.geojson')"
   ]
  },
  {
   "cell_type": "markdown",
   "id": "5de91abd-8346-4006-ae74-9f94bc1b37d1",
   "metadata": {},
   "source": [
    "## Visualization 2: Which planted species exist in many different locations within each neighbourhood?"
   ]
  },
  {
   "cell_type": "code",
   "execution_count": 6,
   "id": "dd0de0a9-94fe-4e9c-9d4a-1c240c95b678",
   "metadata": {},
   "outputs": [],
   "source": [
    "gdf = gpd.read_file(\"../../data/local-area-boundary.geojson\")\n",
    "gdf['name'] = gdf['name'].str.upper() # To make name compatible with other dataset\n",
    "gdf_trees = gpd.read_file('../../data/processed/public-trees.geojson')\n",
    "geojson_data = json.loads(gdf.to_json())\n",
    "# viz2 = (\n",
    "#     alt.Chart(public_trees_planted)\n",
    "# )\n",
    "# viz2"
   ]
  },
  {
   "cell_type": "code",
   "execution_count": 7,
   "id": "6fd43efa-a4c4-47d0-8198-f60f14903b2e",
   "metadata": {},
   "outputs": [
    {
     "name": "stderr",
     "output_type": "stream",
     "text": [
      "/opt/anaconda3/lib/python3.12/site-packages/altair/utils/core.py:395: FutureWarning: the convert_dtype parameter is deprecated and will be removed in a future version.  Do ``ser.astype(object).apply()`` instead if you want ``convert_dtype=False``.\n",
      "  col = df[col_name].apply(to_list_if_array, convert_dtype=False)\n",
      "/opt/anaconda3/lib/python3.12/site-packages/altair/utils/core.py:395: FutureWarning: the convert_dtype parameter is deprecated and will be removed in a future version.  Do ``ser.astype(object).apply()`` instead if you want ``convert_dtype=False``.\n",
      "  col = df[col_name].apply(to_list_if_array, convert_dtype=False)\n"
     ]
    },
    {
     "data": {
      "application/vnd.vegalite.v5+json": {
       "$schema": "https://vega.github.io/schema/vega-lite/v5.8.0.json",
       "config": {
        "view": {
         "continuousHeight": 300,
         "continuousWidth": 300
        }
       },
       "params": [
        {
         "name": "Neighborhood",
         "select": {
          "clear": true,
          "fields": [
           "properties.name"
          ],
          "type": "point"
         },
         "views": [
          "view_1"
         ]
        }
       ],
       "vconcat": [
        {
         "data": {
          "values": [
           {
            "geometry": {
             "coordinates": [
              [
               [
                -123.11226654052733,
                49.29016494657755
               ],
               [
                -123.10424041748047,
                49.288166045210374
               ],
               [
                -123.0992889404297,
                49.289272307417406
               ],
               [
                -123.09999847412111,
                49.272750853559906
               ],
               [
                -123.10169982910158,
                49.27297210600129
               ],
               [
                -123.11107635498047,
                49.272926329634096
               ],
               [
                -123.11444854736328,
                49.2717742910599
               ],
               [
                -123.12116241455078,
                49.26953887846223
               ],
               [
                -123.12928009033203,
                49.2695312490677
               ],
               [
                -123.13768005371092,
                49.27531814481966
               ],
               [
                -123.13233184814453,
                49.276931761763024
               ],
               [
                -123.12109375,
                49.28436660673378
               ],
               [
                -123.13668060302734,
                49.29445648100141
               ],
               [
                -123.13468933105469,
                49.295810698530715
               ],
               [
                -123.12271118164062,
                49.291500090620545
               ],
               [
                -123.11226654052733,
                49.29016494657755
               ]
              ]
             ],
             "type": "Polygon"
            },
            "id": "0",
            "properties": {
             "geo_point_2d": "{ \"lon\": -123.11656700827415, \"lat\": 49.28074707013743 }",
             "name": "DOWNTOWN",
             "tree_species_proportion": 0.2898550724637681
            },
            "type": "Feature"
           },
           {
            "geometry": {
             "coordinates": [
              [
               [
                -123.05648803710938,
                49.29348754789594
               ],
               [
                -123.0519027709961,
                49.294147490522896
               ],
               [
                -123.046630859375,
                49.29418182279827
               ],
               [
                -123.03739166259764,
                49.29273223783734
               ],
               [
                -123.02320098876953,
                49.29353332426313
               ],
               [
                -123.02323150634764,
                49.29302978422406
               ],
               [
                -123.02356719970705,
                49.265525816938755
               ],
               [
                -123.02411651611328,
                49.26539993192899
               ],
               [
                -123.02464294433594,
                49.265251158735644
               ],
               [
                -123.02516937255858,
                49.26508712675322
               ],
               [
                -123.02567291259767,
                49.26490402128446
               ],
               [
                -123.02616119384764,
                49.26470565702665
               ],
               [
                -123.02663421630858,
                49.264492033979785
               ],
               [
                -123.02709197998047,
                49.264259337446575
               ],
               [
                -123.02753448486327,
                49.264011382124295
               ],
               [
                -123.02794647216797,
                49.26375198271025
               ],
               [
                -123.02953338623047,
                49.262706755659444
               ],
               [
                -123.02969360351562,
                49.26259612943875
               ],
               [
                -123.02986145019531,
                49.26249694730984
               ],
               [
                -123.03004455566408,
                49.26240157987821
               ],
               [
                -123.0302276611328,
                49.26231002714382
               ],
               [
                -123.03042602539062,
                49.262229918501255
               ],
               [
                -123.03062438964844,
                49.26215362455594
               ],
               [
                -123.03083038330078,
                49.26208496000515
               ],
               [
                -123.03104400634766,
                49.262027739546156
               ],
               [
                -123.03126525878906,
                49.26197433378446
               ],
               [
                -123.03148651123048,
                49.261928557417264
               ],
               [
                -123.03170776367188,
                49.26189422514187
               ],
               [
                -123.03193664550783,
                49.26186370756375
               ],
               [
                -123.03216552734374,
                49.26184463407742
               ],
               [
                -123.03239440917969,
                49.26183318998563
               ],
               [
                -123.03262329101564,
                49.26182937528834
               ],
               [
                -123.04424285888672,
                49.26187133695827
               ],
               [
                -123.04424285888672,
                49.26193618681179
               ],
               [
                -123.05658721923827,
                49.26198196317898
               ],
               [
                -123.05658721923827,
                49.26217651273953
               ],
               [
                -123.05648803710938,
                49.29348754789594
               ]
              ]
             ],
             "type": "Polygon"
            },
            "id": "1",
            "properties": {
             "geo_point_2d": "{ \"lon\": -123.04026992328848, \"lat\": 49.277934052090188 }",
             "name": "HASTINGS-SUNRISE",
             "tree_species_proportion": 0.6081081081081081
            },
            "type": "Feature"
           },
           {
            "geometry": {
             "coordinates": [
              [
               [
                -123.17908477783203,
                49.21555709745609
               ],
               [
                -123.1756362915039,
                49.2153701772901
               ],
               [
                -123.1721725463867,
                49.215278624555715
               ],
               [
                -123.17156982421875,
                49.21524810697758
               ],
               [
                -123.17096710205077,
                49.21519851591314
               ],
               [
                -123.17037200927734,
                49.21512603666508
               ],
               [
                -123.16978454589842,
                49.21503066923345
               ],
               [
                -123.16920471191406,
                49.214916228315474
               ],
               [
                -123.16864013671875,
                49.21477889921392
               ],
               [
                -123.1680908203125,
                49.21461868192875
               ],
               [
                -123.16754913330078,
                49.21443939115727
               ],
               [
                -123.16702270507814,
                49.21424102689946
               ],
               [
                -123.16651916503906,
                49.214019774458045
               ],
               [
                -123.16598510742189,
                49.21378707792485
               ],
               [
                -123.1654281616211,
                49.213577269575225
               ],
               [
                -123.16484832763673,
                49.21339034940923
               ],
               [
                -123.16425323486327,
                49.2132263174268
               ],
               [
                -123.16365051269531,
                49.21308517362796
               ],
               [
                -123.1631088256836,
                49.21296310331547
               ],
               [
                -123.16258239746094,
                49.212821959516624
               ],
               [
                -123.16207122802734,
                49.21266174223147
               ],
               [
                -123.16156768798828,
                49.212486266157256
               ],
               [
                -123.16108703613283,
                49.2122917165967
               ],
               [
                -123.16061401367186,
                49.2120819082471
               ],
               [
                -123.16016387939452,
                49.21185302641114
               ],
               [
                -123.15972900390625,
                49.21161270048341
               ],
               [
                -123.15931701660158,
                49.21135711576663
               ],
               [
                -123.15892791748047,
                49.21108627226078
               ],
               [
                -123.15856170654298,
                49.210803984663116
               ],
               [
                -123.15821075439453,
                49.21050643827639
               ],
               [
                -123.1578903198242,
                49.21020126249515
               ],
               [
                -123.15760040283203,
                49.20988082792483
               ],
               [
                -123.15755462646484,
                49.20983123686036
               ],
               [
                -123.15750122070312,
                49.20978546049318
               ],
               [
                -123.15744781494142,
                49.209739684126
               ],
               [
                -123.15738677978516,
                49.2096939077588
               ],
               [
                -123.15732574462889,
                49.20965194608889
               ],
               [
                -123.15726470947266,
                49.20961379911622
               ],
               [
                -123.15719604492188,
                49.20957565214357
               ],
               [
                -123.1571273803711,
                49.20954131986817
               ],
               [
                -123.15705108642578,
                49.20950698759279
               ],
               [
                -123.15697479248048,
                49.20948028471193
               ],
               [
                -123.15689849853514,
                49.20945358183106
               ],
               [
                -123.15681457519531,
                49.209426878950225
               ],
               [
                -123.15673065185547,
                49.20940780546388
               ],
               [
                -123.15664672851564,
                49.209388731977555
               ],
               [
                -123.15656280517578,
                49.209373473188485
               ],
               [
                -123.1564712524414,
                49.20936202909669
               ],
               [
                -123.15638732910158,
                49.209354399702185
               ],
               [
                -123.15629577636719,
                49.209342955610374
               ],
               [
                -123.15621185302733,
                49.20933151151858
               ],
               [
                -123.15612030029295,
                49.20931625272949
               ],
               [
                -123.15603637695312,
                49.20929717924319
               ],
               [
                -123.15595245361327,
                49.20927429105959
               ],
               [
                -123.15588378906249,
                49.20925140287599
               ],
               [
                -123.15581512451173,
                49.20922469999514
               ],
               [
                -123.15574645996095,
                49.209197997114266
               ],
               [
                -123.15567779541017,
                49.209167479536156
               ],
               [
                -123.1556167602539,
                49.20913314726076
               ],
               [
                -123.15555572509767,
                49.209098814985374
               ],
               [
                -123.1554946899414,
                49.209064482709984
               ],
               [
                -123.1554412841797,
                49.209026335737306
               ],
               [
                -123.15538787841795,
                49.20898437406741
               ],
               [
                -123.1553421020508,
                49.208942412397484
               ],
               [
                -123.15529632568361,
                49.20890045072756
               ],
               [
                -123.15291595458984,
                49.207023619672846
               ],
               [
                -123.15283966064455,
                49.206958769819344
               ],
               [
                -123.1527633666992,
                49.20689010526856
               ],
               [
                -123.15270233154297,
                49.20682144071779
               ],
               [
                -123.15264129638672,
                49.20674896146973
               ],
               [
                -123.152587890625,
                49.20667266752441
               ],
               [
                -123.15253448486328,
                49.2065963735791
               ],
               [
                -123.15249633789062,
                49.20652007963378
               ],
               [
                -123.1524658203125,
                49.206439970991205
               ],
               [
                -123.15243530273439,
                49.20635986234864
               ],
               [
                -123.15242004394531,
                49.20627593900879
               ],
               [
                -123.1523895263672,
                49.20619201566895
               ],
               [
                -123.15235900878905,
                49.20610809232911
               ],
               [
                -123.15231323242186,
                49.206027983686525
               ],
               [
                -123.15226745605467,
                49.20594406034669
               ],
               [
                -123.15221405029297,
                49.205867766401376
               ],
               [
                -123.15215301513673,
                49.20579147245605
               ],
               [
                -123.15208435058595,
                49.20571517851075
               ],
               [
                -123.15201568603516,
                49.20564269926269
               ],
               [
                -123.15193939208986,
                49.205574034711894
               ],
               [
                -123.15185546875,
                49.205505370161134
               ],
               [
                -123.15176391601562,
                49.205440520307626
               ],
               [
                -123.15167236328125,
                49.20537948515137
               ],
               [
                -123.15157318115234,
                49.20532226469239
               ],
               [
                -123.15146636962892,
                49.20526885893066
               ],
               [
                -123.15135955810547,
                49.20521926786621
               ],
               [
                -123.14993286132814,
                49.20480346586425
               ],
               [
                -123.14884948730469,
                49.20867156889163
               ],
               [
                -123.14817810058592,
                49.20894622709474
               ],
               [
                -123.1486587524414,
                49.209461211225616
               ],
               [
                -123.14823913574219,
                49.21940231229987
               ],
               [
                -123.14015197753906,
                49.21930694486822
               ],
               [
                -123.13959503173827,
                49.234272002241354
               ],
               [
                -123.15527343750001,
                49.23452377226088
               ],
               [
                -123.17024993896484,
                49.234703063032356
               ],
               [
                -123.17870330810548,
                49.234722136518705
               ],
               [
                -123.17908477783203,
                49.21555709745609
               ]
              ]
             ],
             "type": "Polygon"
            },
            "id": "2",
            "properties": {
             "geo_point_2d": "{ \"lon\": -123.15957618168902, \"lat\": 49.223655484618817 }",
             "name": "KERRISDALE",
             "tree_species_proportion": 0.8
            },
            "type": "Feature"
           },
           {
            "geometry": {
             "coordinates": [
              [
               [
                -123.10696411132812,
                49.20415878202636
               ],
               [
                -123.11153411865233,
                49.204444884321276
               ],
               [
                -123.11196899414062,
                49.20445632841307
               ],
               [
                -123.11240386962889,
                49.2044525137158
               ],
               [
                -123.1128387451172,
                49.20442962553223
               ],
               [
                -123.11327362060547,
                49.204391478559565
               ],
               [
                -123.11370086669922,
                49.20433425810057
               ],
               [
                -123.11412048339844,
                49.204261778852526
               ],
               [
                -123.11453247070311,
                49.20417404081542
               ],
               [
                -123.11718750000001,
                49.20354843046385
               ],
               [
                -123.117431640625,
                49.2034759512158
               ],
               [
                -123.11766052246095,
                49.20339202787596
               ],
               [
                -123.11788940429686,
                49.203300475141575
               ],
               [
                -123.1181106567383,
                49.203201293012675
               ],
               [
                -123.11832427978517,
                49.20309448148924
               ],
               [
                -123.11852264404297,
                49.20298004057127
               ],
               [
                -123.11872100830077,
                49.20285797025877
               ],
               [
                -123.11890411376953,
                49.202732085249
               ],
               [
                -123.1190719604492,
                49.20259857084472
               ],
               [
                -123.11923217773438,
                49.202457427045886
               ],
               [
                -123.11938476562501,
                49.202312468549785
               ],
               [
                -123.11952209472655,
                49.20215988065917
               ],
               [
                -123.1196517944336,
                49.202014922163066
               ],
               [
                -123.11979675292969,
                49.20187759306151
               ],
               [
                -123.11995697021484,
                49.20174026395994
               ],
               [
                -123.12012481689453,
                49.20161056425293
               ],
               [
                -123.12030029296874,
                49.20148849394041
               ],
               [
                -123.12049102783202,
                49.201374053022434
               ],
               [
                -123.1206817626953,
                49.20126342680174
               ],
               [
                -123.12088775634766,
                49.20116424467283
               ],
               [
                -123.12110900878905,
                49.201068877241184
               ],
               [
                -123.12133026123047,
                49.200981139204075
               ],
               [
                -123.12155914306642,
                49.20090484525876
               ],
               [
                -123.12179565429689,
                49.200836180707995
               ],
               [
                -123.12785339355469,
                49.19917297270016
               ],
               [
                -123.12913513183594,
                49.19904327299313
               ],
               [
                -123.13042449951173,
                49.19896697904782
               ],
               [
                -123.13172149658202,
                49.19894027616696
               ],
               [
                -123.13396453857422,
                49.1989364614697
               ],
               [
                -123.13463592529298,
                49.1989364614697
               ],
               [
                -123.13531494140624,
                49.19896316435055
               ],
               [
                -123.135986328125,
                49.19901657011227
               ],
               [
                -123.13718414306639,
                49.199142455122036
               ],
               [
                -123.13775634765626,
                49.199268340131795
               ],
               [
                -123.13831329345703,
                49.19941329862788
               ],
               [
                -123.13885498046875,
                49.19957733061033
               ],
               [
                -123.13938903808595,
                49.19976043607905
               ],
               [
                -123.13990783691408,
                49.199962615034146
               ],
               [
                -123.14040374755861,
                49.200180052778286
               ],
               [
                -123.14088439941406,
                49.20041656400875
               ],
               [
                -123.14134979248048,
                49.2006683340283
               ],
               [
                -123.14179229736327,
                49.20093536283689
               ],
               [
                -123.14220428466797,
                49.20121765043454
               ],
               [
                -123.14260101318361,
                49.201515196821276
               ],
               [
                -123.14297485351561,
                49.20182418729979
               ],
               [
                -123.14328002929686,
                49.20207595731931
               ],
               [
                -123.14360809326172,
                49.20231628324705
               ],
               [
                -123.14395904541016,
                49.20254516508299
               ],
               [
                -123.14432525634767,
                49.20275878812988
               ],
               [
                -123.14471435546875,
                49.20295715238768
               ],
               [
                -123.1451187133789,
                49.20314407255369
               ],
               [
                -123.14553833007812,
                49.203311919233386
               ],
               [
                -123.14724731445312,
                49.20394897367675
               ],
               [
                -123.14832305908205,
                49.20432281400878
               ],
               [
                -123.14993286132814,
                49.20480346586425
               ],
               [
                -123.14884948730469,
                49.20867156889163
               ],
               [
                -123.14817810058592,
                49.20894622709474
               ],
               [
                -123.1486587524414,
                49.209461211225616
               ],
               [
                -123.14823913574219,
                49.21940231229987
               ],
               [
                -123.14015197753906,
                49.21930694486822
               ],
               [
                -123.10616302490233,
                49.21887588407721
               ],
               [
                -123.10696411132812,
                49.20415878202636
               ]
              ]
             ],
             "type": "Polygon"
            },
            "id": "3",
            "properties": {
             "geo_point_2d": "{ \"lon\": -123.1283816596551, \"lat\": 49.210207465671559 }",
             "name": "MARPOLE",
             "tree_species_proportion": 0.5967741935483871
            },
            "type": "Feature"
           },
           {
            "geometry": {
             "coordinates": [
              [
               [
                -123.10562133789061,
                49.23311614896985
               ],
               [
                -123.10616302490233,
                49.21887588407721
               ],
               [
                -123.14015197753906,
                49.21930694486822
               ],
               [
                -123.13959503173827,
                49.234272002241354
               ],
               [
                -123.12804412841797,
                49.23390579130386
               ],
               [
                -123.10562133789061,
                49.23311614896985
               ]
              ]
             ],
             "type": "Polygon"
            },
            "id": "4",
            "properties": {
             "geo_point_2d": "{ \"lon\": -123.12302460370566, \"lat\": 49.226403196402856 }",
             "name": "OAKRIDGE",
             "tree_species_proportion": 0.8048780487804879
            },
            "type": "Feature"
           },
           {
            "geometry": {
             "coordinates": [
              [
               [
                -123.10562133789061,
                49.23311614896985
               ],
               [
                -123.1161651611328,
                49.2334899893019
               ],
               [
                -123.1159896850586,
                49.23793792631362
               ],
               [
                -123.1159896850586,
                49.23800659086442
               ],
               [
                -123.11599731445311,
                49.23807907011248
               ],
               [
                -123.11600494384767,
                49.238147734663244
               ],
               [
                -123.11602783203126,
                49.238216399214025
               ],
               [
                -123.11605072021486,
                49.23828506376479
               ],
               [
                -123.11608123779297,
                49.23834991361833
               ],
               [
                -123.1161117553711,
                49.23841476347185
               ],
               [
                -123.11615753173828,
                49.23847961332534
               ],
               [
                -123.11620330810547,
                49.23854446317887
               ],
               [
                -123.11625671386719,
                49.23860549833511
               ],
               [
                -123.11631011962892,
                49.2386627187941
               ],
               [
                -123.11811828613281,
                49.24026107694841
               ],
               [
                -123.1181640625,
                49.2403068533156
               ],
               [
                -123.11820983886719,
                49.240352629682775
               ],
               [
                -123.11824798583983,
                49.24040222074724
               ],
               [
                -123.1182861328125,
                49.240447997114416
               ],
               [
                -123.11831665039061,
                49.240501402876134
               ],
               [
                -123.11834716796876,
                49.24055099394059
               ],
               [
                -123.11837005615236,
                49.24060439970231
               ],
               [
                -123.11839294433595,
                49.24065780546404
               ],
               [
                -123.118408203125,
                49.240711211225744
               ],
               [
                -123.11842346191406,
                49.24076461698748
               ],
               [
                -123.11842346191406,
                49.24081802274919
               ],
               [
                -123.1184310913086,
                49.2408714285109
               ],
               [
                -123.1184310913086,
                49.24092864896989
               ],
               [
                -123.11834716796876,
                49.24274444486833
               ],
               [
                -123.11834716796876,
                49.24278640653826
               ],
               [
                -123.1183395385742,
                49.242824553510935
               ],
               [
                -123.11833190917969,
                49.24286651518085
               ],
               [
                -123.11831665039061,
                49.2429046621535
               ],
               [
                -123.11830139160156,
                49.242946623823414
               ],
               [
                -123.11827850341797,
                49.242984770796085
               ],
               [
                -123.11825561523438,
                49.243022917768734
               ],
               [
                -123.11823272705078,
                49.24305725004412
               ],
               [
                -123.11820220947267,
                49.24309539701677
               ],
               [
                -123.11817169189453,
                49.243129729292164
               ],
               [
                -123.11813354492189,
                49.24316406156756
               ],
               [
                -123.11809539794922,
                49.24319457914568
               ],
               [
                -123.11805725097655,
                49.243225096723826
               ],
               [
                -123.11801147460936,
                49.24325561430195
               ],
               [
                -123.1179656982422,
                49.24328231718279
               ],
               [
                -123.11791992187501,
                49.243309020063656
               ],
               [
                -123.11635589599608,
                49.244197844526546
               ],
               [
                -123.11626434326173,
                49.24425125028827
               ],
               [
                -123.11617279052736,
                49.24431228544453
               ],
               [
                -123.1160888671875,
                49.24437332060078
               ],
               [
                -123.11601257324219,
                49.24443817045429
               ],
               [
                -123.11593627929689,
                49.244503020307796
               ],
               [
                -123.1158676147461,
                49.244571684858585
               ],
               [
                -123.11580657958984,
                49.24464416410664
               ],
               [
                -123.11575317382812,
                49.24472045805192
               ],
               [
                -123.11569976806642,
                49.24479293729999
               ],
               [
                -123.11566162109375,
                49.244873045942576
               ],
               [
                -123.11562347412108,
                49.24494933988788
               ],
               [
                -123.11559295654297,
                49.24502944853046
               ],
               [
                -123.11556243896484,
                49.245109557173045
               ],
               [
                -123.11554718017578,
                49.245193480512874
               ],
               [
                -123.11553192138673,
                49.24527358915546
               ],
               [
                -123.11504364013672,
                49.25687026884301
               ],
               [
                -123.08984375,
                49.25637817289576
               ],
               [
                -123.09053802490233,
                49.23282241728041
               ],
               [
                -123.10562133789061,
                49.23311614896985
               ]
              ]
             ],
             "type": "Polygon"
            },
            "id": "5",
            "properties": {
             "geo_point_2d": "{ \"lon\": -123.10314680625231, \"lat\": 49.244766478648643 }",
             "name": "RILEY PARK",
             "tree_species_proportion": 0.775
            },
            "type": "Feature"
           },
           {
            "geometry": {
             "coordinates": [
              [
               [
                -123.1159896850586,
                49.23793792631362
               ],
               [
                -123.1161651611328,
                49.2334899893019
               ],
               [
                -123.12804412841797,
                49.23390579130386
               ],
               [
                -123.12721252441408,
                49.25696945097193
               ],
               [
                -123.12721252441408,
                49.25709915067896
               ],
               [
                -123.11504364013672,
                49.25687026884301
               ],
               [
                -123.11553192138673,
                49.24527358915546
               ],
               [
                -123.11554718017578,
                49.245193480512874
               ],
               [
                -123.11556243896484,
                49.245109557173045
               ],
               [
                -123.11559295654297,
                49.24502944853046
               ],
               [
                -123.11562347412108,
                49.24494933988788
               ],
               [
                -123.11566162109375,
                49.244873045942576
               ],
               [
                -123.11569976806642,
                49.24479293729999
               ],
               [
                -123.11575317382812,
                49.24472045805192
               ],
               [
                -123.11580657958984,
                49.24464416410664
               ],
               [
                -123.1158676147461,
                49.24457549955586
               ],
               [
                -123.11593627929689,
                49.244503020307796
               ],
               [
                -123.11601257324219,
                49.24443817045429
               ],
               [
                -123.1160888671875,
                49.24437332060078
               ],
               [
                -123.11617279052736,
                49.24431228544453
               ],
               [
                -123.11626434326173,
                49.24425125028827
               ],
               [
                -123.11635589599608,
                49.244197844526546
               ],
               [
                -123.1181411743164,
                49.24317932035663
               ],
               [
                -123.11817932128908,
                49.24314117338396
               ],
               [
                -123.11820983886719,
                49.24309921171403
               ],
               [
                -123.11824035644531,
                49.24305725004412
               ],
               [
                -123.11827087402342,
                49.2430152883742
               ],
               [
                -123.11829376220702,
                49.24297332670427
               ],
               [
                -123.1183090209961,
                49.242927550337086
               ],
               [
                -123.11832427978517,
                49.2428817739699
               ],
               [
                -123.1183395385742,
                49.242835997602725
               ],
               [
                -123.11834716796876,
                49.24279022123552
               ],
               [
                -123.11834716796876,
                49.24274444486833
               ],
               [
                -123.1184310913086,
                49.24092864896989
               ],
               [
                -123.1184310913086,
                49.2408714285109
               ],
               [
                -123.11842346191406,
                49.24081802274919
               ],
               [
                -123.11842346191406,
                49.24076461698748
               ],
               [
                -123.118408203125,
                49.240711211225744
               ],
               [
                -123.11839294433595,
                49.24065780546404
               ],
               [
                -123.11837005615236,
                49.24060439970231
               ],
               [
                -123.11834716796876,
                49.24055099394059
               ],
               [
                -123.11831665039061,
                49.240501402876134
               ],
               [
                -123.1182861328125,
                49.240447997114416
               ],
               [
                -123.11824798583983,
                49.24040222074724
               ],
               [
                -123.11820983886719,
                49.240352629682775
               ],
               [
                -123.1181640625,
                49.2403068533156
               ],
               [
                -123.11811828613281,
                49.24026107694841
               ],
               [
                -123.11631011962892,
                49.2386627187941
               ],
               [
                -123.11625671386719,
                49.23861312772965
               ],
               [
                -123.11621093749999,
                49.23856353666522
               ],
               [
                -123.1161651611328,
                49.23851013090349
               ],
               [
                -123.11612701416016,
                49.238456725141766
               ],
               [
                -123.11609649658202,
                49.238403319380026
               ],
               [
                -123.1160659790039,
                49.23834609892106
               ],
               [
                -123.11603546142578,
                49.238292693159345
               ],
               [
                -123.11602020263672,
                49.23823165800308
               ],
               [
                -123.11600494384767,
                49.23817443754411
               ],
               [
                -123.1159896850586,
                49.23811721708512
               ],
               [
                -123.11598205566408,
                49.238056181928876
               ],
               [
                -123.11598205566408,
                49.23799896146987
               ],
               [
                -123.1159896850586,
                49.23793792631362
               ]
              ]
             ],
             "type": "Polygon"
            },
            "id": "6",
            "properties": {
             "geo_point_2d": "{ \"lon\": -123.12180091574463, \"lat\": 49.245556462368654 }",
             "name": "SOUTH CAMBIE",
             "tree_species_proportion": 0.8571428571428571
            },
            "type": "Feature"
           },
           {
            "geometry": {
             "coordinates": [
              [
               [
                -123.15527343750001,
                49.23452377226088
               ],
               [
                -123.15508270263673,
                49.23939895536637
               ],
               [
                -123.15507507324219,
                49.23947524931169
               ],
               [
                -123.15505981445314,
                49.23955535795426
               ],
               [
                -123.15504455566406,
                49.23963165189957
               ],
               [
                -123.15502166748047,
                49.23970794584489
               ],
               [
                -123.1549835205078,
                49.23978423979019
               ],
               [
                -123.15494537353516,
                49.2398605337355
               ],
               [
                -123.1549072265625,
                49.23993301298356
               ],
               [
                -123.15485382080078,
                49.240005492231596
               ],
               [
                -123.15480041503908,
                49.2400741567824
               ],
               [
                -123.15473937988281,
                49.240142821333166
               ],
               [
                -123.15467071533203,
                49.24020767118668
               ],
               [
                -123.15459442138672,
                49.24027252104021
               ],
               [
                -123.15451812744142,
                49.24033355619647
               ],
               [
                -123.15444183349608,
                49.24039077665544
               ],
               [
                -123.15435028076173,
                49.24044418241716
               ],
               [
                -123.15425872802736,
                49.24049758817888
               ],
               [
                -123.15416717529297,
                49.24054336454608
               ],
               [
                -123.15406799316408,
                49.24058914091325
               ],
               [
                -123.15396118164062,
                49.24063110258319
               ],
               [
                -123.15386199951172,
                49.240669249555836
               ],
               [
                -123.15374755859375,
                49.24070358183123
               ],
               [
                -123.15364074707033,
                49.240734099409345
               ],
               [
                -123.15352630615236,
                49.240760802290225
               ],
               [
                -123.15341186523438,
                49.24077987577653
               ],
               [
                -123.15328979492189,
                49.24079894926287
               ],
               [
                -123.1531753540039,
                49.24081420805194
               ],
               [
                -123.15305328369142,
                49.24082183744646
               ],
               [
                -123.15293121337892,
                49.240829466840985
               ],
               [
                -123.15281677246095,
                49.240829466840985
               ],
               [
                -123.15269470214845,
                49.24082565214373
               ],
               [
                -123.15257263183592,
                49.24082183744646
               ],
               [
                -123.15245819091798,
                49.24081039335467
               ],
               [
                -123.15233612060545,
                49.240795134565595
               ],
               [
                -123.15222167968751,
                49.240772246382015
               ],
               [
                -123.15210723876955,
                49.24074935819842
               ],
               [
                -123.15199279785156,
                49.24072265531754
               ],
               [
                -123.1500701904297,
                49.24038696195817
               ],
               [
                -123.14994049072266,
                49.240367888471845
               ],
               [
                -123.14981842041016,
                49.240352629682775
               ],
               [
                -123.14968872070311,
                49.24034500028825
               ],
               [
                -123.1495590209961,
                49.24033737089373
               ],
               [
                -123.14942932128905,
                49.24033355619646
               ],
               [
                -123.14929962158203,
                49.24033737089373
               ],
               [
                -123.14916992187499,
                49.24034500028825
               ],
               [
                -123.14904022216797,
                49.24035644438005
               ],
               [
                -123.14891815185547,
                49.24037170316912
               ],
               [
                -123.14878845214842,
                49.24039077665544
               ],
               [
                -123.14866638183594,
                49.24041366483903
               ],
               [
                -123.14854431152344,
                49.24044418241716
               ],
               [
                -123.14842224121094,
                49.240474699995275
               ],
               [
                -123.14830780029297,
                49.24051284696796
               ],
               [
                -123.148193359375,
                49.24055480863786
               ],
               [
                -123.14808654785158,
                49.24059677030778
               ],
               [
                -123.14797973632812,
                49.24064636137223
               ],
               [
                -123.1478729248047,
                49.24069976713394
               ],
               [
                -123.14778137207033,
                49.24075317289568
               ],
               [
                -123.14768218994142,
                49.24081039335467
               ],
               [
                -123.14759826660156,
                49.2408714285109
               ],
               [
                -123.1475143432617,
                49.240936278364416
               ],
               [
                -123.14743041992188,
                49.24100494291521
               ],
               [
                -123.1473617553711,
                49.241073607465985
               ],
               [
                -123.14729309082031,
                49.24114608671403
               ],
               [
                -123.14723205566405,
                49.24122238065935
               ],
               [
                -123.14717864990234,
                49.241298674604664
               ],
               [
                -123.14712524414062,
                49.24137496854999
               ],
               [
                -123.14708709716795,
                49.24145507719255
               ],
               [
                -123.14704895019533,
                49.24153900053239
               ],
               [
                -123.14701843261717,
                49.241619109174984
               ],
               [
                -123.14699554443358,
                49.24170303251482
               ],
               [
                -123.14698028564453,
                49.24178695585467
               ],
               [
                -123.14697265624999,
                49.241870879194515
               ],
               [
                -123.14696502685547,
                49.24195480253437
               ],
               [
                -123.14694976806642,
                49.2425613393996
               ],
               [
                -123.14694976806642,
                49.24273300077653
               ],
               [
                -123.14697265624999,
                49.242900847456234
               ],
               [
                -123.14700317382812,
                49.243072508833194
               ],
               [
                -123.14704895019533,
                49.243240355512874
               ],
               [
                -123.14710235595703,
                49.24340438749529
               ],
               [
                -123.14717864990234,
                49.243568419477725
               ],
               [
                -123.14726257324219,
                49.24372863676288
               ],
               [
                -123.14736938476562,
                49.24388503935077
               ],
               [
                -123.15238189697264,
                49.250621794721894
               ],
               [
                -123.1524658203125,
                49.25074767973165
               ],
               [
                -123.15254211425781,
                49.2508773794387
               ],
               [
                -123.1526107788086,
                49.251007079145715
               ],
               [
                -123.15266418457031,
                49.25114059355003
               ],
               [
                -123.1527099609375,
                49.25127792265159
               ],
               [
                -123.15274047851561,
                49.25141525175315
               ],
               [
                -123.1527633666992,
                49.25155258085472
               ],
               [
                -123.15277099609375,
                49.25169372465353
               ],
               [
                -123.1527633666992,
                49.25183105375512
               ],
               [
                -123.15259552001952,
                49.25722503568872
               ],
               [
                -123.14598846435547,
                49.25712203886255
               ],
               [
                -123.13842010498047,
                49.257007597944586
               ],
               [
                -123.1383056640625,
                49.25709915067896
               ],
               [
                -123.13819122314453,
                49.257190703413336
               ],
               [
                -123.13806152343751,
                49.25727462675319
               ],
               [
                -123.13793182373047,
                49.25735473539575
               ],
               [
                -123.1377944946289,
                49.25743102934107
               ],
               [
                -123.13764953613281,
                49.25750350858911
               ],
               [
                -123.13750457763672,
                49.257568358442626
               ],
               [
                -123.13735198974611,
                49.25762939359888
               ],
               [
                -123.13719177246094,
                49.2576827993606
               ],
               [
                -123.13702392578126,
                49.25773239042506
               ],
               [
                -123.13685607910158,
                49.257778166792235
               ],
               [
                -123.13668823242186,
                49.25781249906764
               ],
               [
                -123.13651275634766,
                49.25784683134303
               ],
               [
                -123.13633728027345,
                49.257869719526624
               ],
               [
                -123.13616180419922,
                49.25788879301295
               ],
               [
                -123.13597869873045,
                49.257904051802015
               ],
               [
                -123.13565826416016,
                49.257915495893805
               ],
               [
                -123.13533782958983,
                49.257915495893805
               ],
               [
                -123.13500976562499,
                49.257904051802015
               ],
               [
                -123.13468933105469,
                49.2578811636184
               ],
               [
                -123.13436889648436,
                49.25784683134303
               ],
               [
                -123.1340560913086,
                49.257797240278585
               ],
               [
                -123.13374328613281,
                49.25774001981959
               ],
               [
                -123.13343811035156,
                49.25767135526882
               ],
               [
                -123.13313293457031,
                49.25759124662623
               ],
               [
                -123.13284301757812,
                49.25749969389185
               ],
               [
                -123.13256072998047,
                49.25739669706567
               ],
               [
                -123.13228607177734,
                49.257282256147725
               ],
               [
                -123.13201904296875,
                49.25716018583521
               ],
               [
                -123.1317672729492,
                49.257030486128194
               ],
               [
                -123.12721252441408,
                49.25696945097193
               ],
               [
                -123.12804412841797,
                49.23390579130386
               ],
               [
                -123.13959503173827,
                49.234272002241354
               ],
               [
                -123.15527343750001,
                49.23452377226088
               ]
              ]
             ],
             "type": "Polygon"
            },
            "id": "7",
            "properties": {
             "geo_point_2d": "{ \"lon\": -123.13976016672807, \"lat\": 49.245680976154581 }",
             "name": "SHAUGHNESSY",
             "tree_species_proportion": 0.6615384615384615
            },
            "type": "Feature"
           },
           {
            "geometry": {
             "coordinates": [
              [
               [
                -123.0568313598633,
                49.20420074369628
               ],
               [
                -123.05846405029298,
                49.2042198171826
               ],
               [
                -123.05944824218749,
                49.204242705366205
               ],
               [
                -123.06043243408203,
                49.20430374052245
               ],
               [
                -123.06140899658203,
                49.20439529325683
               ],
               [
                -123.0623779296875,
                49.20452499296387
               ],
               [
                -123.06333160400392,
                49.204692839643556
               ],
               [
                -123.0642776489258,
                49.20489501859865
               ],
               [
                -123.06519317626952,
                49.20512771513184
               ],
               [
                -123.0660934448242,
                49.205398558637704
               ],
               [
                -123.06697082519533,
                49.20569991972168
               ],
               [
                -123.06781768798827,
                49.20603179838379
               ],
               [
                -123.06854248046875,
                49.2063407888623
               ],
               [
                -123.0688247680664,
                49.20645522978027
               ],
               [
                -123.06912231445314,
                49.20655822660646
               ],
               [
                -123.06942749023436,
                49.20664977934083
               ],
               [
                -123.06974029541017,
                49.2067298879834
               ],
               [
                -123.07006072998047,
                49.206794737836915
               ],
               [
                -123.07438659667969,
                49.207599638959955
               ],
               [
                -123.07478332519531,
                49.207645415327164
               ],
               [
                -123.07517242431639,
                49.20767593290528
               ],
               [
                -123.07556915283203,
                49.20769500639161
               ],
               [
                -123.07596588134766,
                49.20769500639161
               ],
               [
                -123.07636260986328,
                49.20768356229981
               ],
               [
                -123.07675170898438,
                49.207656859418954
               ],
               [
                -123.0771484375,
                49.207614897749025
               ],
               [
                -123.07701110839844,
                49.21918487455574
               ],
               [
                -123.07742309570314,
                49.21997070219244
               ],
               [
                -123.07703399658203,
                49.232666014692505
               ],
               [
                -123.06674194335938,
                49.23255538847181
               ],
               [
                -123.06444549560548,
                49.23286437895032
               ],
               [
                -123.05885314941406,
                49.23280715849134
               ],
               [
                -123.04875183105469,
                49.23275375272962
               ],
               [
                -123.0488052368164,
                49.229293822309685
               ],
               [
                -123.0500717163086,
                49.229293822309685
               ],
               [
                -123.05055999755858,
                49.21715927030766
               ],
               [
                -123.05063629150392,
                49.216915129682675
               ],
               [
                -123.05073547363281,
                49.216674803754955
               ],
               [
                -123.05085754394531,
                49.216442107221724
               ],
               [
                -123.05099487304688,
                49.21620941068854
               ],
               [
                -123.05115509033205,
                49.21598434354985
               ],
               [
                -123.05133819580077,
                49.21576690580571
               ],
               [
                -123.05153656005861,
                49.21555709745609
               ],
               [
                -123.05175018310547,
                49.21535491850101
               ],
               [
                -123.05437469482422,
                49.21306228544437
               ],
               [
                -123.0544891357422,
                49.2129592886182
               ],
               [
                -123.05459594726562,
                49.21285247709476
               ],
               [
                -123.05469512939452,
                49.21274185087406
               ],
               [
                -123.0547866821289,
                49.212627409956085
               ],
               [
                -123.0548629760742,
                49.21251296903813
               ],
               [
                -123.05493164062499,
                49.212390898725616
               ],
               [
                -123.05499267578125,
                49.212268828413116
               ],
               [
                -123.05503845214844,
                49.212146758100616
               ],
               [
                -123.05507659912108,
                49.21202087309085
               ],
               [
                -123.05509948730467,
                49.2118949880811
               ],
               [
                -123.05545806884767,
                49.20962524320802
               ],
               [
                -123.05572509765625,
                49.209148406049835
               ],
               [
                -123.05604553222655,
                49.20868682768068
               ],
               [
                -123.05641174316406,
                49.20824050810059
               ],
               [
                -123.05649566650389,
                49.20814132597169
               ],
               [
                -123.05656433105467,
                49.20804214384277
               ],
               [
                -123.05663299560547,
                49.20794296171388
               ],
               [
                -123.0566864013672,
                49.207836150190424
               ],
               [
                -123.05673217773436,
                49.207729338666994
               ],
               [
                -123.05677795410155,
                49.20762252714357
               ],
               [
                -123.0568084716797,
                49.207515715620126
               ],
               [
                -123.05682373046874,
                49.20740508939943
               ],
               [
                -123.05683898925781,
                49.20729446317871
               ],
               [
                -123.05684661865233,
                49.20718383695801
               ],
               [
                -123.0568313598633,
                49.20420074369628
               ]
              ]
             ],
             "type": "Polygon"
            },
            "id": "8",
            "properties": {
             "geo_point_2d": "{ \"lon\": -123.06413471832595, \"lat\": 49.220011940057667 }",
             "name": "VICTORIA-FRASERVIEW",
             "tree_species_proportion": 0.5061728395061729
            },
            "type": "Feature"
           },
           {
            "geometry": {
             "coordinates": [
              [
               [
                -123.15259552001952,
                49.25722503568872
               ],
               [
                -123.16487884521484,
                49.257427214643805
               ],
               [
                -123.16487884521484,
                49.25756835844264
               ],
               [
                -123.17807006835938,
                49.25776672270045
               ],
               [
                -123.1781005859375,
                49.257164000532484
               ],
               [
                -123.17792510986328,
                49.2569389333938
               ],
               [
                -123.17616271972656,
                49.25561141874535
               ],
               [
                -123.17501068115233,
                49.25408172514183
               ],
               [
                -123.17190551757812,
                49.25155258085472
               ],
               [
                -123.1696014404297,
                49.24896240141134
               ],
               [
                -123.17092895507812,
                49.24967193510274
               ],
               [
                -123.17218780517578,
                49.250045775434785
               ],
               [
                -123.17095184326172,
                49.24845886137228
               ],
               [
                -123.17056274414061,
                49.24811935331564
               ],
               [
                -123.17015838623047,
                49.24788284208516
               ],
               [
                -123.17024993896484,
                49.234703063032356
               ],
               [
                -123.15527343750001,
                49.23452377226088
               ],
               [
                -123.15508270263673,
                49.23939895536637
               ],
               [
                -123.15506744384766,
                49.23947906400897
               ],
               [
                -123.15503692626955,
                49.239562987348805
               ],
               [
                -123.15500640869139,
                49.23964309599139
               ],
               [
                -123.15496826171876,
                49.239723204633954
               ],
               [
                -123.15492248535156,
                49.23979949857926
               ],
               [
                -123.15487670898438,
                49.239879607221845
               ],
               [
                -123.15481567382812,
                49.2399520864699
               ],
               [
                -123.15475463867189,
                49.24002456571794
               ],
               [
                -123.1546859741211,
                49.24009704496598
               ],
               [
                -123.15461730957031,
                49.24016570951677
               ],
               [
                -123.15453338623045,
                49.240230559370296
               ],
               [
                -123.15444946289062,
                49.24029159452653
               ],
               [
                -123.15435791015625,
                49.24035262968279
               ],
               [
                -123.15426635742188,
                49.240406035444494
               ],
               [
                -123.15416717529297,
                49.24045944120622
               ],
               [
                -123.15406036376952,
                49.240509032270694
               ],
               [
                -123.15396118164062,
                49.24055480863786
               ],
               [
                -123.15384674072266,
                49.24059677030778
               ],
               [
                -123.15373229980467,
                49.24063491728044
               ],
               [
                -123.15361785888673,
                49.240669249555836
               ],
               [
                -123.1534957885742,
                49.24069976713394
               ],
               [
                -123.15337371826172,
                49.24072647001482
               ],
               [
                -123.15325164794922,
                49.24074935819841
               ],
               [
                -123.15312957763672,
                49.24076461698747
               ],
               [
                -123.15299987792967,
                49.240776061079266
               ],
               [
                -123.15287780761719,
                49.240787505171056
               ],
               [
                -123.15274810791016,
                49.240791319868336
               ],
               [
                -123.15261840820311,
                49.240791319868336
               ],
               [
                -123.15249633789062,
                49.240783690473805
               ],
               [
                -123.15236663818361,
                49.24077606107926
               ],
               [
                -123.15223693847656,
                49.24076080229022
               ],
               [
                -123.15211486816406,
                49.24074554350114
               ],
               [
                -123.15199279785156,
                49.24072265531754
               ],
               [
                -123.1500701904297,
                49.24038696195817
               ],
               [
                -123.14994049072266,
                49.240367888471845
               ],
               [
                -123.14981842041016,
                49.240352629682775
               ],
               [
                -123.14968872070311,
                49.24034118559099
               ],
               [
                -123.1495590209961,
                49.24033737089373
               ],
               [
                -123.14942932128905,
                49.24033355619646
               ],
               [
                -123.14929962158203,
                49.24033737089373
               ],
               [
                -123.14916992187499,
                49.24034118559099
               ],
               [
                -123.14904022216797,
                49.24035262968279
               ],
               [
                -123.14891815185547,
                49.24036788847185
               ],
               [
                -123.14878845214842,
                49.24039077665544
               ],
               [
                -123.14866638183594,
                49.24041366483903
               ],
               [
                -123.14854431152344,
                49.2404403677199
               ],
               [
                -123.14842224121094,
                49.240474699995275
               ],
               [
                -123.14830780029297,
                49.24051284696796
               ],
               [
                -123.148193359375,
                49.24055099394059
               ],
               [
                -123.14808654785158,
                49.24059677030778
               ],
               [
                -123.14797973632812,
                49.24064636137223
               ],
               [
                -123.1478729248047,
                49.240695952436695
               ],
               [
                -123.14777374267577,
                49.24075317289568
               ],
               [
                -123.14768218994142,
                49.24081039335467
               ],
               [
                -123.14759063720705,
                49.24087142851091
               ],
               [
                -123.14750671386719,
                49.240936278364416
               ],
               [
                -123.14743041992188,
                49.24100494291521
               ],
               [
                -123.1473617553711,
                49.241073607465985
               ],
               [
                -123.14729309082031,
                49.24114608671403
               ],
               [
                -123.14723205566405,
                49.24122238065935
               ],
               [
                -123.14717864990234,
                49.241298674604664
               ],
               [
                -123.14712524414062,
                49.24137496854999
               ],
               [
                -123.14708709716795,
                49.24145507719255
               ],
               [
                -123.14704895019533,
                49.24153900053239
               ],
               [
                -123.14701843261717,
                49.241619109174984
               ],
               [
                -123.14699554443358,
                49.24170303251482
               ],
               [
                -123.14698028564453,
                49.24178695585467
               ],
               [
                -123.14697265624999,
                49.241870879194515
               ],
               [
                -123.14696502685547,
                49.24195480253437
               ],
               [
                -123.14694976806642,
                49.2425613393996
               ],
               [
                -123.14694976806642,
                49.24273300077653
               ],
               [
                -123.14697265624999,
                49.242900847456234
               ],
               [
                -123.14700317382812,
                49.243072508833194
               ],
               [
                -123.14704895019533,
                49.243240355512874
               ],
               [
                -123.14710235595703,
                49.24340438749529
               ],
               [
                -123.14717864990234,
                49.243568419477725
               ],
               [
                -123.14726257324219,
                49.24372863676288
               ],
               [
                -123.14736938476562,
                49.24388503935077
               ],
               [
                -123.15238189697264,
                49.250621794721894
               ],
               [
                -123.1524658203125,
                49.25074767973165
               ],
               [
                -123.15254211425781,
                49.2508773794387
               ],
               [
                -123.1526107788086,
                49.251007079145715
               ],
               [
                -123.15266418457031,
                49.25114059355003
               ],
               [
                -123.1527099609375,
                49.25127792265159
               ],
               [
                -123.15274047851561,
                49.25141525175315
               ],
               [
                -123.1527633666992,
                49.25155258085472
               ],
               [
                -123.15277099609375,
                49.25169372465353
               ],
               [
                -123.1527633666992,
                49.25183105375512
               ],
               [
                -123.15259552001952,
                49.25722503568872
               ]
              ]
             ],
             "type": "Polygon"
            },
            "id": "9",
            "properties": {
             "geo_point_2d": "{ \"lon\": -123.16166923820482, \"lat\": 49.246804909827887 }",
             "name": "ARBUTUS RIDGE",
             "tree_species_proportion": 0.6875
            },
            "type": "Feature"
           },
           {
            "geometry": {
             "coordinates": [
              [
               [
                -123.07701873779298,
                49.29024886991739
               ],
               [
                -123.06777954101562,
                49.290103911421305
               ],
               [
                -123.06262207031251,
                49.289535521528734
               ],
               [
                -123.06242370605469,
                49.290874480268954
               ],
               [
                -123.05648803710938,
                49.29348754789594
               ],
               [
                -123.05658721923827,
                49.26217651273953
               ],
               [
                -123.07746887207033,
                49.262336730024685
               ],
               [
                -123.07741546630858,
                49.26514053251494
               ],
               [
                -123.07701873779298,
                49.29024886991739
               ]
              ]
             ],
             "type": "Polygon"
            },
            "id": "10",
            "properties": {
             "geo_point_2d": "{ \"lon\": -123.06672822103268, \"lat\": 49.276439609304632 }",
             "name": "GRANDVIEW-WOODLAND",
             "tree_species_proportion": 0.6567164179104478
            },
            "type": "Feature"
           },
           {
            "geometry": {
             "coordinates": [
              [
               [
                -123.05658721923827,
                49.26198196317898
               ],
               [
                -123.05662536621094,
                49.24317550565935
               ],
               [
                -123.05811309814453,
                49.24182891752458
               ],
               [
                -123.05819702148436,
                49.24175262357927
               ],
               [
                -123.0582733154297,
                49.241672514936695
               ],
               [
                -123.05834197998048,
                49.241588591596845
               ],
               [
                -123.05841064453124,
                49.24150466825701
               ],
               [
                -123.0584716796875,
                49.2414169302199
               ],
               [
                -123.05851745605469,
                49.24132537748552
               ],
               [
                -123.05856323242188,
                49.24123763944841
               ],
               [
                -123.05860137939455,
                49.24114227201677
               ],
               [
                -123.05862426757811,
                49.241050719282406
               ],
               [
                -123.0586471557617,
                49.24095535185075
               ],
               [
                -123.05866241455078,
                49.24085998441911
               ],
               [
                -123.0586700439453,
                49.24076461698748
               ],
               [
                -123.05885314941406,
                49.23280715849134
               ],
               [
                -123.06444549560548,
                49.23286437895032
               ],
               [
                -123.06674194335938,
                49.23255538847181
               ],
               [
                -123.07703399658203,
                49.232666014692505
               ],
               [
                -123.09053802490233,
                49.23282241728041
               ],
               [
                -123.08984375,
                49.25637817289576
               ],
               [
                -123.07779693603514,
                49.25619888212427
               ],
               [
                -123.07778930664062,
                49.256633757612555
               ],
               [
                -123.07758331298827,
                49.256626128218016
               ],
               [
                -123.07746887207033,
                49.262336730024685
               ],
               [
                -123.05658721923827,
                49.26217651273953
               ],
               [
                -123.05658721923827,
                49.26198196317898
               ]
              ]
             ],
             "type": "Polygon"
            },
            "id": "11",
            "properties": {
             "geo_point_2d": "{ \"lon\": -123.07288459215947, \"lat\": 49.246686446286056 }",
             "name": "KENSINGTON-CEDAR COTTAGE",
             "tree_species_proportion": 0.67
            },
            "type": "Feature"
           },
           {
            "geometry": {
             "coordinates": [
              [
               [
                -123.02355957031249,
                49.20014572050289
               ],
               [
                -123.03997802734375,
                49.203960417768535
               ],
               [
                -123.04232025146484,
                49.20400237943846
               ],
               [
                -123.0568313598633,
                49.20420074369628
               ],
               [
                -123.05684661865233,
                49.20718383695801
               ],
               [
                -123.05683898925781,
                49.20729446317871
               ],
               [
                -123.05682373046874,
                49.20740508939943
               ],
               [
                -123.0568084716797,
                49.207515715620126
               ],
               [
                -123.05677795410155,
                49.20762252714357
               ],
               [
                -123.05673217773436,
                49.207729338666994
               ],
               [
                -123.0566864013672,
                49.207836150190424
               ],
               [
                -123.05663299560547,
                49.20794296171388
               ],
               [
                -123.05656433105467,
                49.20804214384277
               ],
               [
                -123.05649566650389,
                49.20814132597169
               ],
               [
                -123.05641174316406,
                49.20824050810059
               ],
               [
                -123.05604553222655,
                49.20868682768068
               ],
               [
                -123.05572509765625,
                49.209148406049835
               ],
               [
                -123.05545806884767,
                49.20962524320802
               ],
               [
                -123.05509948730467,
                49.2118949880811
               ],
               [
                -123.05507659912108,
                49.21202087309085
               ],
               [
                -123.05503845214844,
                49.212146758100616
               ],
               [
                -123.05499267578125,
                49.212268828413116
               ],
               [
                -123.05493164062499,
                49.212390898725616
               ],
               [
                -123.0548629760742,
                49.21251296903813
               ],
               [
                -123.0547866821289,
                49.212627409956085
               ],
               [
                -123.05469512939452,
                49.21274185087406
               ],
               [
                -123.05459594726562,
                49.21285247709476
               ],
               [
                -123.0544891357422,
                49.2129592886182
               ],
               [
                -123.05437469482422,
                49.21306228544437
               ],
               [
                -123.05175018310547,
                49.21535491850101
               ],
               [
                -123.05153656005861,
                49.21555709745609
               ],
               [
                -123.05133819580077,
                49.21576690580571
               ],
               [
                -123.05115509033205,
                49.21598434354985
               ],
               [
                -123.05099487304688,
                49.21620941068854
               ],
               [
                -123.05085754394531,
                49.216442107221724
               ],
               [
                -123.05073547363281,
                49.216674803754955
               ],
               [
                -123.05063629150392,
                49.216915129682675
               ],
               [
                -123.05055999755858,
                49.21715927030766
               ],
               [
                -123.0500717163086,
                49.229293822309685
               ],
               [
                -123.0488052368164,
                49.229293822309685
               ],
               [
                -123.04875183105469,
                49.23275375272962
               ],
               [
                -123.0467071533203,
                49.23288726713391
               ],
               [
                -123.03839874267578,
                49.232872008344856
               ],
               [
                -123.0383071899414,
                49.232860564253045
               ],
               [
                -123.03821563720703,
                49.23285293485854
               ],
               [
                -123.03811645507812,
                49.232845305464
               ],
               [
                -123.03802490234375,
                49.23284530546399
               ],
               [
                -123.03792572021484,
                49.23284530546398
               ],
               [
                -123.03783416748047,
                49.23284912016127
               ],
               [
                -123.0377426147461,
                49.232856749555786
               ],
               [
                -123.0376510620117,
                49.23286819364759
               ],
               [
                -123.03755950927733,
                49.23288345243665
               ],
               [
                -123.03746795654298,
                49.23289871122571
               ],
               [
                -123.0373764038086,
                49.232921599409316
               ],
               [
                -123.03728485107422,
                49.2329444875929
               ],
               [
                -123.03720092773436,
                49.23297119047376
               ],
               [
                -123.03711700439453,
                49.23299789335462
               ],
               [
                -123.03704071044923,
                49.23303222563003
               ],
               [
                -123.03695678710938,
                49.2330665579054
               ],
               [
                -123.0368881225586,
                49.233104704878066
               ],
               [
                -123.03681182861328,
                49.23314285185071
               ],
               [
                -123.0367431640625,
                49.23318481352066
               ],
               [
                -123.03667449951172,
                49.233230589887825
               ],
               [
                -123.03661346435545,
                49.23327636625501
               ],
               [
                -123.03656005859375,
                49.23332595731947
               ],
               [
                -123.03650665283203,
                49.23337936308118
               ],
               [
                -123.03645324707033,
                49.23342895414565
               ],
               [
                -123.03585815429689,
                49.23410415556167
               ],
               [
                -123.03250885009766,
                49.23235320951673
               ],
               [
                -123.03236389160158,
                49.23228454496595
               ],
               [
                -123.03221130371094,
                49.2322235098097
               ],
               [
                -123.03205871582031,
                49.232166289350715
               ],
               [
                -123.03189849853516,
                49.23211669828626
               ],
               [
                -123.03173065185547,
                49.232070921919075
               ],
               [
                -123.03156280517578,
                49.232028960249146
               ],
               [
                -123.0313949584961,
                49.23199844267102
               ],
               [
                -123.03122711181642,
                49.231971739790175
               ],
               [
                -123.03105163574219,
                49.23194885160657
               ],
               [
                -123.03086853027342,
                49.231937407514785
               ],
               [
                -123.03069305419922,
                49.23192977812023
               ],
               [
                -123.03051757812501,
                49.23192977812023
               ],
               [
                -123.03034210205078,
                49.231933592817505
               ],
               [
                -123.02356719970705,
                49.23226928617689
               ],
               [
                -123.02326202392578,
                49.20940780546388
               ],
               [
                -123.02355957031249,
                49.20014572050289
               ]
              ]
             ],
             "type": "Polygon"
            },
            "id": "12",
            "properties": {
             "geo_point_2d": "{ \"lon\": -123.03764702895802, \"lat\": 49.217021670797429 }",
             "name": "KILLARNEY",
             "tree_species_proportion": 0.3917525773195876
            },
            "type": "Feature"
           },
           {
            "geometry": {
             "coordinates": [
              [
               [
                -123.13768005371092,
                49.27531814481966
               ],
               [
                -123.14374542236328,
                49.27323150541536
               ],
               [
                -123.14389801025389,
                49.273178099653656
               ],
               [
                -123.14404296875001,
                49.27311706449739
               ],
               [
                -123.14418792724611,
                49.273052214643876
               ],
               [
                -123.14432525634767,
                49.272983550093095
               ],
               [
                -123.14445495605469,
                49.27291107084505
               ],
               [
                -123.1445846557617,
                49.27283096220247
               ],
               [
                -123.14469909667967,
                49.27274703886264
               ],
               [
                -123.14481353759766,
                49.27265930082552
               ],
               [
                -123.14491271972655,
                49.27256774809115
               ],
               [
                -123.14500427246094,
                49.272472380659494
               ],
               [
                -123.14509582519531,
                49.27237319853059
               ],
               [
                -123.14517211914061,
                49.27227401640169
               ],
               [
                -123.1452407836914,
                49.27217101957552
               ],
               [
                -123.14530181884766,
                49.272064208052086
               ],
               [
                -123.14535522460938,
                49.27195739652865
               ],
               [
                -123.14540100097656,
                49.271846770307945
               ],
               [
                -123.14598846435547,
                49.25712203886255
               ],
               [
                -123.16487884521484,
                49.25741958524926
               ],
               [
                -123.16487884521484,
                49.25756835844264
               ],
               [
                -123.18399047851561,
                49.257865904829366
               ],
               [
                -123.18392944335939,
                49.25976562406764
               ],
               [
                -123.18593597412111,
                49.26113891508327
               ],
               [
                -123.18548583984376,
                49.2749710073685
               ],
               [
                -123.17374420166016,
                49.274341582319664
               ],
               [
                -123.16479492187499,
                49.27556610014193
               ],
               [
                -123.15970611572266,
                49.27554702665561
               ],
               [
                -123.15265655517578,
                49.28030776884313
               ],
               [
                -123.14600372314455,
                49.280315398237654
               ],
               [
                -123.14358520507812,
                49.279666899702505
               ],
               [
                -123.1412582397461,
                49.27829360868688
               ],
               [
                -123.13768005371092,
                49.27531814481966
               ]
              ]
             ],
             "type": "Polygon"
            },
            "id": "13",
            "properties": {
             "geo_point_2d": "{ \"lon\": -123.16329474017252, \"lat\": 49.267539848486912 }",
             "name": "KITSILANO",
             "tree_species_proportion": 0.6851851851851852
            },
            "type": "Feature"
           },
           {
            "geometry": {
             "coordinates": [
              [
               [
                -123.0992889404297,
                49.289272307417406
               ],
               [
                -123.09390258789064,
                49.29051589872601
               ],
               [
                -123.07701873779298,
                49.29024886991739
               ],
               [
                -123.07741546630858,
                49.26514053251494
               ],
               [
                -123.08094787597656,
                49.265155791304
               ],
               [
                -123.08120727539064,
                49.265171050093066
               ],
               [
                -123.08145904541014,
                49.265193938276646
               ],
               [
                -123.08171081542969,
                49.26522445585478
               ],
               [
                -123.08196258544923,
                49.26527023222196
               ],
               [
                -123.08874511718751,
                49.26657867338409
               ],
               [
                -123.08895111083984,
                49.266624449751276
               ],
               [
                -123.08915710449219,
                49.26665878202664
               ],
               [
                -123.08936309814455,
                49.2666892996048
               ],
               [
                -123.08956909179686,
                49.26670837309112
               ],
               [
                -123.08978271484374,
                49.26672363188019
               ],
               [
                -123.08999633789061,
                49.26672744657744
               ],
               [
                -123.09612274169923,
                49.266769408247356
               ],
               [
                -123.09619903564453,
                49.2667770376419
               ],
               [
                -123.09628295898436,
                49.266788481733705
               ],
               [
                -123.0963592529297,
                49.266803740522754
               ],
               [
                -123.096435546875,
                49.266818999311816
               ],
               [
                -123.09651184082031,
                49.26683807279815
               ],
               [
                -123.09658813476561,
                49.26686096098174
               ],
               [
                -123.0966567993164,
                49.266883849165325
               ],
               [
                -123.09672546386719,
                49.266910552046184
               ],
               [
                -123.09679412841797,
                49.266941069624316
               ],
               [
                -123.09686279296875,
                49.26697158720244
               ],
               [
                -123.09692382812501,
                49.26700591947784
               ],
               [
                -123.10066986083984,
                49.269130705854806
               ],
               [
                -123.10060119628906,
                49.270889281294274
               ],
               [
                -123.10003662109375,
                49.271923064253244
               ],
               [
                -123.09999847412111,
                49.272750853559906
               ],
               [
                -123.0992889404297,
                49.289272307417406
               ]
              ]
             ],
             "type": "Polygon"
            },
            "id": "14",
            "properties": {
             "geo_point_2d": "{ \"lon\": -123.08823528054062, \"lat\": 49.278219577647242 }",
             "name": "STRATHCONA",
             "tree_species_proportion": 0.40350877192982454
            },
            "type": "Feature"
           },
           {
            "geometry": {
             "coordinates": [
              [
               [
                -123.10696411132812,
                49.20415878202636
               ],
               [
                -123.10616302490233,
                49.21887588407721
               ],
               [
                -123.10562133789061,
                49.23311614896985
               ],
               [
                -123.09053802490233,
                49.23282241728041
               ],
               [
                -123.07703399658203,
                49.232666014692505
               ],
               [
                -123.07742309570314,
                49.21997070219244
               ],
               [
                -123.07701110839844,
                49.21918487455574
               ],
               [
                -123.0771484375,
                49.207614897749025
               ],
               [
                -123.07750701904297,
                49.20756149198732
               ],
               [
                -123.07786560058592,
                49.2074966421338
               ],
               [
                -123.07821655273438,
                49.207420348188485
               ],
               [
                -123.07855987548828,
                49.20733261015138
               ],
               [
                -123.07889556884766,
                49.20723342802246
               ],
               [
                -123.0792236328125,
                49.20712280180177
               ],
               [
                -123.0799560546875,
                49.206874846479494
               ],
               [
                -123.08071899414062,
                49.206661223432626
               ],
               [
                -123.08149719238281,
                49.206478117963876
               ],
               [
                -123.08839416503908,
                49.204776762983386
               ],
               [
                -123.08956146240234,
                49.204444884321276
               ],
               [
                -123.08972930908203,
                49.204383849165026
               ],
               [
                -123.0898971557617,
                49.204326628706035
               ],
               [
                -123.09007263183595,
                49.2042770376416
               ],
               [
                -123.09024810791016,
                49.20423507597168
               ],
               [
                -123.0904312133789,
                49.20419692899901
               ],
               [
                -123.09061431884767,
                49.20416641142089
               ],
               [
                -123.09079742431639,
                49.20414352323731
               ],
               [
                -123.09098815917967,
                49.204124449750964
               ],
               [
                -123.09117126464844,
                49.20411682035643
               ],
               [
                -123.09136199951172,
                49.204113005659174
               ],
               [
                -123.10379028320312,
                49.20408248808105
               ],
               [
                -123.10507202148438,
                49.204071043989245
               ],
               [
                -123.10635375976561,
                49.2041206350537
               ],
               [
                -123.10696411132812,
                49.20415878202636
               ]
              ]
             ],
             "type": "Polygon"
            },
            "id": "15",
            "properties": {
             "geo_point_2d": "{ \"lon\": -123.09203800098149, \"lat\": 49.218756150539072 }",
             "name": "SUNSET",
             "tree_species_proportion": 0.8301886792452831
            },
            "type": "Feature"
           },
           {
            "geometry": {
             "coordinates": [
              [
               [
                -123.22444915771486,
                49.2789230337357
               ],
               [
                -123.2051544189453,
                49.27805709745641
               ],
               [
                -123.18941497802734,
                49.27521514799351
               ],
               [
                -123.18548583984376,
                49.2749710073685
               ],
               [
                -123.18550109863281,
                49.27325439359895
               ],
               [
                -123.18594360351562,
                49.26113891508327
               ],
               [
                -123.18392944335939,
                49.25976562406764
               ],
               [
                -123.18399047851561,
                49.257865904829366
               ],
               [
                -123.20321655273439,
                49.258148192427015
               ],
               [
                -123.21538543701172,
                49.25833129789575
               ],
               [
                -123.21508789062501,
                49.26735687162627
               ],
               [
                -123.21713256835938,
                49.2673339834427
               ],
               [
                -123.2183837890625,
                49.26725006010284
               ],
               [
                -123.21961975097655,
                49.267108916304004
               ],
               [
                -123.21962738037111,
                49.26882934477082
               ],
               [
                -123.22189331054689,
                49.26853942777862
               ],
               [
                -123.22174835205077,
                49.27025985624544
               ],
               [
                -123.22431945800781,
                49.272266387007164
               ],
               [
                -123.22484588623045,
                49.274654387495445
               ],
               [
                -123.22457122802734,
                49.27789688017126
               ],
               [
                -123.22444915771486,
                49.2789230337357
               ]
              ]
             ],
             "type": "Polygon"
            },
            "id": "16",
            "properties": {
             "geo_point_2d": "{ \"lon\": -123.20346748255886, \"lat\": 49.268401210185914 }",
             "name": "WEST POINT GREY",
             "tree_species_proportion": 0.5581395348837209
            },
            "type": "Feature"
           },
           {
            "geometry": {
             "coordinates": [
              [
               [
                -123.17016601562501,
                49.24789047147971
               ],
               [
                -123.17024993896484,
                49.234703063032356
               ],
               [
                -123.17870330810548,
                49.234722136518705
               ],
               [
                -123.17909240722656,
                49.21680450346197
               ],
               [
                -123.17908477783203,
                49.21555709745609
               ],
               [
                -123.17910003662108,
                49.21555709745609
               ],
               [
                -123.17975616455078,
                49.21558761503423
               ],
               [
                -123.18041229248047,
                49.21563720609868
               ],
               [
                -123.18106079101561,
                49.215713500044004
               ],
               [
                -123.18170166015624,
                49.215812682172896
               ],
               [
                -123.18232727050781,
                49.2159347524854
               ],
               [
                -123.18295288085936,
                49.2160797109815
               ],
               [
                -123.18355560302734,
                49.216247557661184
               ],
               [
                -123.18415069580078,
                49.21643447782719
               ],
               [
                -123.18472290039062,
                49.216644286176795
               ],
               [
                -123.1852798461914,
                49.216873168012754
               ],
               [
                -123.18581390380858,
                49.21712112333501
               ],
               [
                -123.1863327026367,
                49.21739196684088
               ],
               [
                -123.18682098388672,
                49.2176780691358
               ],
               [
                -123.18728637695314,
                49.21797943021979
               ],
               [
                -123.18772888183592,
                49.21829986479009
               ],
               [
                -123.18795013427734,
                49.218463896772526
               ],
               [
                -123.18818664550781,
                49.218616484663144
               ],
               [
                -123.18843841552733,
                49.218761443159245
               ],
               [
                -123.18869781494139,
                49.2188987722608
               ],
               [
                -123.18896484375001,
                49.219024657270566
               ],
               [
                -123.18924713134767,
                49.219142912885786
               ],
               [
                -123.18953704833984,
                49.21924972440924
               ],
               [
                -123.18983459472655,
                49.219348906538166
               ],
               [
                -123.19014739990236,
                49.21943282987801
               ],
               [
                -123.19046020507812,
                49.21950912382332
               ],
               [
                -123.1907730102539,
                49.219573973676816
               ],
               [
                -123.19110107421875,
                49.21962356474128
               ],
               [
                -123.1975860595703,
                49.22055435087409
               ],
               [
                -123.19785308837892,
                49.22060012724128
               ],
               [
                -123.19811248779298,
                49.220653533002995
               ],
               [
                -123.1983642578125,
                49.22071838285651
               ],
               [
                -123.19861602783203,
                49.22079086210457
               ],
               [
                -123.1988525390625,
                49.220874785444394
               ],
               [
                -123.19908905029297,
                49.22096633817878
               ],
               [
                -123.19931793212892,
                49.22106170561042
               ],
               [
                -123.1995315551758,
                49.22116851713387
               ],
               [
                -123.19974517822267,
                49.221282958051845
               ],
               [
                -123.19994354248047,
                49.22140502836434
               ],
               [
                -123.20550537109374,
                49.224994658491305
               ],
               [
                -123.20590972900389,
                49.225299834272555
               ],
               [
                -123.20629119873048,
                49.225616454145595
               ],
               [
                -123.20664215087889,
                49.225944518110445
               ],
               [
                -123.20697021484374,
                49.22628784086436
               ],
               [
                -123.20726776123047,
                49.2266387930128
               ],
               [
                -123.20754241943358,
                49.22700118925303
               ],
               [
                -123.20888519287108,
                49.22894668485851
               ],
               [
                -123.20916748046875,
                49.2292594900343
               ],
               [
                -123.20948028564452,
                49.22956085111828
               ],
               [
                -123.20982360839844,
                49.22984695341319
               ],
               [
                -123.2101821899414,
                49.230121611616326
               ],
               [
                -123.21057128906251,
                49.23038101103039
               ],
               [
                -123.21098327636719,
                49.230625151655396
               ],
               [
                -123.21141815185545,
                49.23085403349131
               ],
               [
                -123.21985626220702,
                49.235023497602675
               ],
               [
                -123.2219467163086,
                49.23657607938979
               ],
               [
                -123.21992492675781,
                49.23954772855973
               ],
               [
                -123.2085952758789,
                49.235183714887846
               ],
               [
                -123.20560455322267,
                49.23720168974136
               ],
               [
                -123.1968307495117,
                49.23485565092299
               ],
               [
                -123.1968536376953,
                49.23651504423354
               ],
               [
                -123.19857025146484,
                49.236518858930815
               ],
               [
                -123.19857025146484,
                49.23834609892106
               ],
               [
                -123.1968536376953,
                49.23847961332534
               ],
               [
                -123.19678497314452,
                49.246196745893755
               ],
               [
                -123.19854736328125,
                49.246208189985545
               ],
               [
                -123.19858551025392,
                49.246208189985545
               ],
               [
                -123.19863128662111,
                49.246208189985545
               ],
               [
                -123.1986770629883,
                49.2462120046828
               ],
               [
                -123.19871520996094,
                49.246215819380076
               ],
               [
                -123.19876098632812,
                49.24622344877462
               ],
               [
                -123.1987991333008,
                49.24623107816914
               ],
               [
                -123.19884490966798,
                49.24623870756366
               ],
               [
                -123.19888305664062,
                49.246246336958194
               ],
               [
                -123.19892120361328,
                49.24625778105002
               ],
               [
                -123.19895935058592,
                49.24627303983906
               ],
               [
                -123.1989974975586,
                49.246288298628116
               ],
               [
                -123.19903564453126,
                49.24629974271992
               ],
               [
                -123.19906616210938,
                49.246318816206255
               ],
               [
                -123.20494079589842,
                49.24926376249533
               ],
               [
                -123.2009963989258,
                49.249973296186745
               ],
               [
                -123.20079040527344,
                49.25001144315941
               ],
               [
                -123.20057678222656,
                49.25003814604025
               ],
               [
                -123.20036315917969,
                49.25005721952656
               ],
               [
                -123.20014190673827,
                49.25006866361837
               ],
               [
                -123.19992828369139,
                49.25007247831563
               ],
               [
                -123.1986770629883,
                49.25007629301293
               ],
               [
                -123.1986770629883,
                49.249923705122285
               ],
               [
                -123.19660949707031,
                49.24992751981954
               ],
               [
                -123.19654846191405,
                49.25651931669457
               ],
               [
                -123.20288085937499,
                49.25661468412623
               ],
               [
                -123.20321655273439,
                49.258148192427015
               ],
               [
                -123.18399047851561,
                49.257865904829366
               ],
               [
                -123.17807006835938,
                49.25776672270045
               ],
               [
                -123.1781005859375,
                49.257164000532484
               ],
               [
                -123.17792510986328,
                49.2569389333938
               ],
               [
                -123.17616271972656,
                49.25561141874535
               ],
               [
                -123.17501068115233,
                49.25408172514183
               ],
               [
                -123.17347717285158,
                49.252849577925026
               ],
               [
                -123.1718978881836,
                49.25154495146018
               ],
               [
                -123.1696014404297,
                49.24896240141134
               ],
               [
                -123.17092895507812,
                49.24967193510274
               ],
               [
                -123.17218780517578,
                49.250045775434785
               ],
               [
                -123.17095184326172,
                49.24844741728048
               ],
               [
                -123.17051696777342,
                49.248092650434785
               ],
               [
                -123.17016601562501,
                49.24789047147971
               ]
              ]
             ],
             "type": "Polygon"
            },
            "id": "17",
            "properties": {
             "geo_point_2d": "{ \"lon\": -123.18954680338996, \"lat\": 49.237961905344271 }",
             "name": "DUNBAR-SOUTHLANDS",
             "tree_species_proportion": 0.6714285714285714
            },
            "type": "Feature"
           },
           {
            "geometry": {
             "coordinates": [
              [
               [
                -123.14598846435547,
                49.25712203886255
               ],
               [
                -123.14540100097656,
                49.271846770307945
               ],
               [
                -123.14534759521484,
                49.2719612112259
               ],
               [
                -123.1452865600586,
                49.272075652143904
               ],
               [
                -123.14521789550781,
                49.27218627836458
               ],
               [
                -123.1451416015625,
                49.27229690458529
               ],
               [
                -123.14505004882812,
                49.27239990141145
               ],
               [
                -123.14495086669922,
                49.272502898237626
               ],
               [
                -123.14484405517577,
                49.27260208036652
               ],
               [
                -123.14473724365234,
                49.27269744779819
               ],
               [
                -123.14461517333984,
                49.27278900053254
               ],
               [
                -123.1444854736328,
                49.2728729238724
               ],
               [
                -123.14434814453124,
                49.27295684721224
               ],
               [
                -123.1442108154297,
                49.27303314115756
               ],
               [
                -123.14405822753906,
                49.27310562040561
               ],
               [
                -123.14390563964844,
                49.27317047025911
               ],
               [
                -123.14374542236328,
                49.27323150541536
               ],
               [
                -123.1392822265625,
                49.274826048872406
               ],
               [
                -123.13768005371092,
                49.27531814481966
               ],
               [
                -123.12928009033203,
                49.2695312490677
               ],
               [
                -123.12116241455078,
                49.26953887846223
               ],
               [
                -123.11444854736328,
                49.2717742910599
               ],
               [
                -123.11504364013672,
                49.25687026884301
               ],
               [
                -123.12721252441408,
                49.25709915067896
               ],
               [
                -123.12721252441408,
                49.25696945097193
               ],
               [
                -123.1317672729492,
                49.257030486128194
               ],
               [
                -123.13200378417967,
                49.25715255644068
               ],
               [
                -123.1322479248047,
                49.257266997358656
               ],
               [
                -123.1324996948242,
                49.257373808882086
               ],
               [
                -123.13276672363283,
                49.25747299101099
               ],
               [
                -123.1330337524414,
                49.25756072904809
               ],
               [
                -123.13331604003906,
                49.25764083769068
               ],
               [
                -123.13359832763672,
                49.25770950224146
               ],
               [
                -123.1338882446289,
                49.257770537397704
               ],
               [
                -123.13417816162108,
                49.257820128462164
               ],
               [
                -123.13447570800781,
                49.25785827543482
               ],
               [
                -123.13478088378906,
                49.25788497831567
               ],
               [
                -123.13507843017577,
                49.25790405180202
               ],
               [
                -123.13538360595702,
                49.25791168119654
               ],
               [
                -123.13568878173828,
                49.25790786649928
               ],
               [
                -123.135986328125,
                49.25789642240748
               ],
               [
                -123.13616943359376,
                49.25788497831567
               ],
               [
                -123.13634490966797,
                49.25786590482936
               ],
               [
                -123.13652038574217,
                49.257839201948514
               ],
               [
                -123.1366958618164,
                49.257808684370374
               ],
               [
                -123.1368637084961,
                49.25777435209498
               ],
               [
                -123.13703155517578,
                49.2577285757278
               ],
               [
                -123.13719177246094,
                49.2576827993606
               ],
               [
                -123.13735198974611,
                49.25762557890161
               ],
               [
                -123.13750457763672,
                49.257568358442626
               ],
               [
                -123.13765716552733,
                49.25749969389185
               ],
               [
                -123.13780212402345,
                49.25743102934108
               ],
               [
                -123.13793945312499,
                49.25735473539575
               ],
               [
                -123.13806915283203,
                49.25727462675318
               ],
               [
                -123.13819122314453,
                49.257190703413336
               ],
               [
                -123.1383056640625,
                49.25709915067896
               ],
               [
                -123.13842010498047,
                49.257007597944586
               ],
               [
                -123.14598846435547,
                49.25712203886255
               ]
              ]
             ],
             "type": "Polygon"
            },
            "id": "18",
            "properties": {
             "geo_point_2d": "{ \"lon\": -123.1310488653851, \"lat\": 49.264540486169757 }",
             "name": "FAIRVIEW",
             "tree_species_proportion": 0.4
            },
            "type": "Feature"
           },
           {
            "geometry": {
             "coordinates": [
              [
               [
                -123.10066986083984,
                49.269130705854806
               ],
               [
                -123.09692382812501,
                49.26700591947784
               ],
               [
                -123.09688568115234,
                49.266975401899714
               ],
               [
                -123.09683990478516,
                49.26694869901886
               ],
               [
                -123.09679412841797,
                49.26692581083526
               ],
               [
                -123.09674072265625,
                49.26689910795439
               ],
               [
                -123.09669494628906,
                49.26688003446808
               ],
               [
                -123.09664154052736,
                49.26685714628449
               ],
               [
                -123.09658813476561,
                49.2668418874954
               ],
               [
                -123.0965347290039,
                49.266826628706355
               ],
               [
                -123.09647369384764,
                49.266811369917285
               ],
               [
                -123.09642028808594,
                49.26679992582549
               ],
               [
                -123.0963592529297,
                49.26678848173369
               ],
               [
                -123.09629821777344,
                49.26678085233917
               ],
               [
                -123.09623718261717,
                49.26677322294464
               ],
               [
                -123.09618377685547,
                49.26677322294464
               ],
               [
                -123.09612274169923,
                49.266769408247356
               ],
               [
                -123.08999633789061,
                49.26672744657744
               ],
               [
                -123.08967590332031,
                49.26670837309112
               ],
               [
                -123.08936309814455,
                49.26667404081573
               ],
               [
                -123.08905792236328,
                49.2666320791458
               ],
               [
                -123.08874511718751,
                49.26657867338409
               ],
               [
                -123.08196258544923,
                49.26527023222196
               ],
               [
                -123.08179473876955,
                49.26523589994658
               ],
               [
                -123.08162689208983,
                49.265209197065715
               ],
               [
                -123.08145904541014,
                49.26518630888213
               ],
               [
                -123.08129119873047,
                49.265171050093066
               ],
               [
                -123.08111572265625,
                49.26515960600126
               ],
               [
                -123.08094787597656,
                49.265155791304
               ],
               [
                -123.07741546630858,
                49.26514053251494
               ],
               [
                -123.07758331298827,
                49.256626128218016
               ],
               [
                -123.07778930664062,
                49.256633757612555
               ],
               [
                -123.07779693603514,
                49.25619888212427
               ],
               [
                -123.08984375,
                49.25637817289576
               ],
               [
                -123.10120391845705,
                49.25654601957543
               ],
               [
                -123.11504364013672,
                49.25687026884301
               ],
               [
                -123.11444854736328,
                49.2717742910599
               ],
               [
                -123.11107635498047,
                49.272926329634096
               ],
               [
                -123.10169982910158,
                49.27297210600129
               ],
               [
                -123.09999847412111,
                49.272750853559906
               ],
               [
                -123.10003662109375,
                49.271923064253244
               ],
               [
                -123.10060119628906,
                49.270889281294274
               ],
               [
                -123.10066986083984,
                49.269130705854806
               ]
              ]
             ],
             "type": "Polygon"
            },
            "id": "19",
            "properties": {
             "geo_point_2d": "{ \"lon\": -123.09851312036905, \"lat\": 49.263065249728648 }",
             "name": "MOUNT PLEASANT",
             "tree_species_proportion": 0.7428571428571429
            },
            "type": "Feature"
           },
           {
            "geometry": {
             "coordinates": [
              [
               [
                -123.02355957031249,
                49.23479080106947
               ],
               [
                -123.02356719970705,
                49.23226928617689
               ],
               [
                -123.03034210205078,
                49.231933592817505
               ],
               [
                -123.03051757812501,
                49.23192977812023
               ],
               [
                -123.03069305419922,
                49.23192977812023
               ],
               [
                -123.03086853027342,
                49.231937407514785
               ],
               [
                -123.03105163574219,
                49.23194885160657
               ],
               [
                -123.03122711181642,
                49.231971739790175
               ],
               [
                -123.0313949584961,
                49.23199844267102
               ],
               [
                -123.03156280517578,
                49.232028960249146
               ],
               [
                -123.03173065185547,
                49.232070921919075
               ],
               [
                -123.03189849853516,
                49.23211669828626
               ],
               [
                -123.03205871582031,
                49.232166289350715
               ],
               [
                -123.03221130371094,
                49.2322235098097
               ],
               [
                -123.03236389160158,
                49.23228454496595
               ],
               [
                -123.03250885009766,
                49.23235320951673
               ],
               [
                -123.03585815429689,
                49.23410415556167
               ],
               [
                -123.03645324707033,
                49.23342895414565
               ],
               [
                -123.03650665283203,
                49.23337554838393
               ],
               [
                -123.0365676879883,
                49.233318327924934
               ],
               [
                -123.03662872314453,
                49.233264922163215
               ],
               [
                -123.03669738769531,
                49.233215331098755
               ],
               [
                -123.0367660522461,
                49.233169554731575
               ],
               [
                -123.0368423461914,
                49.23312377836439
               ],
               [
                -123.0369186401367,
                49.23308181669446
               ],
               [
                -123.03700256347656,
                49.233043669721795
               ],
               [
                -123.03708648681639,
                49.23300552274916
               ],
               [
                -123.03717803955077,
                49.23297119047377
               ],
               [
                -123.03726959228516,
                49.23294067289563
               ],
               [
                -123.03736114501953,
                49.2329139700148
               ],
               [
                -123.0374526977539,
                49.23289108183119
               ],
               [
                -123.03755187988281,
                49.23287200834486
               ],
               [
                -123.0376510620117,
                49.232856749555786
               ],
               [
                -123.03775024414064,
                49.232841490766745
               ],
               [
                -123.03784942626953,
                49.2328338613722
               ],
               [
                -123.0467071533203,
                49.23288726713391
               ],
               [
                -123.04875183105469,
                49.23275375272962
               ],
               [
                -123.05885314941406,
                49.23280715849134
               ],
               [
                -123.0586700439453,
                49.24076461698748
               ],
               [
                -123.05866241455078,
                49.24085998441911
               ],
               [
                -123.0586471557617,
                49.24095535185075
               ],
               [
                -123.05862426757811,
                49.241050719282406
               ],
               [
                -123.05860137939455,
                49.24114227201677
               ],
               [
                -123.05856323242188,
                49.24123763944841
               ],
               [
                -123.05851745605469,
                49.24132537748552
               ],
               [
                -123.0584716796875,
                49.2414169302199
               ],
               [
                -123.05841064453124,
                49.24150466825701
               ],
               [
                -123.05834197998048,
                49.241588591596845
               ],
               [
                -123.0582733154297,
                49.241672514936695
               ],
               [
                -123.05819702148436,
                49.24175262357927
               ],
               [
                -123.05811309814453,
                49.24182891752458
               ],
               [
                -123.05662536621094,
                49.24317550565935
               ],
               [
                -123.05658721923827,
                49.26198196317898
               ],
               [
                -123.04424285888672,
                49.26193618681179
               ],
               [
                -123.04424285888672,
                49.26187133695827
               ],
               [
                -123.03262329101564,
                49.26182937528834
               ],
               [
                -123.03239440917969,
                49.26183318998563
               ],
               [
                -123.03216552734374,
                49.26184463407742
               ],
               [
                -123.03193664550783,
                49.26186752226102
               ],
               [
                -123.03170776367188,
                49.26189422514187
               ],
               [
                -123.03148651123048,
                49.261932372114536
               ],
               [
                -123.03126525878906,
                49.26197814848171
               ],
               [
                -123.03104400634766,
                49.262027739546156
               ],
               [
                -123.03083801269531,
                49.26208877470243
               ],
               [
                -123.03063201904295,
                49.2621574392532
               ],
               [
                -123.03042602539062,
                49.262229918501255
               ],
               [
                -123.03023529052736,
                49.2623138418411
               ],
               [
                -123.03004455566408,
                49.26240157987821
               ],
               [
                -123.02986907958984,
                49.26249694730984
               ],
               [
                -123.02969360351562,
                49.26259612943875
               ],
               [
                -123.02953338623047,
                49.262706755659444
               ],
               [
                -123.02794647216797,
                49.26375198271025
               ],
               [
                -123.02762603759764,
                49.263980864546184
               ],
               [
                -123.02729034423828,
                49.264198302290325
               ],
               [
                -123.02693176269531,
                49.26440429594267
               ],
               [
                -123.02655792236328,
                49.26459503080595
               ],
               [
                -123.0261688232422,
                49.26477050688016
               ],
               [
                -123.02576446533205,
                49.26493453886258
               ],
               [
                -123.02534484863281,
                49.26508331205594
               ],
               [
                -123.02491760253906,
                49.265220641157526
               ],
               [
                -123.02447509765625,
                49.265338896772754
               ],
               [
                -123.0240249633789,
                49.26544189359891
               ],
               [
                -123.02356719970705,
                49.265525816938755
               ],
               [
                -123.02355957031249,
                49.23479080106947
               ]
              ]
             ],
             "type": "Polygon"
            },
            "id": "20",
            "properties": {
             "geo_point_2d": "{ \"lon\": -123.040166464563, \"lat\": 49.247342733638504 }",
             "name": "RENFREW-COLLINGWOOD",
             "tree_species_proportion": 0.4
            },
            "type": "Feature"
           },
           {
            "geometry": {
             "coordinates": [
              [
               [
                -123.13768005371092,
                49.27531814481966
               ],
               [
                -123.1412582397461,
                49.27829360868688
               ],
               [
                -123.1426773071289,
                49.28133010771033
               ],
               [
                -123.14553833007812,
                49.28436279203652
               ],
               [
                -123.14540863037108,
                49.287136076948634
               ],
               [
                -123.14775085449217,
                49.2889060964799
               ],
               [
                -123.14168548583984,
                49.29291915800335
               ],
               [
                -123.13809967041016,
                49.293514250776795
               ],
               [
                -123.13668060302734,
                49.29445648100141
               ],
               [
                -123.12109375,
                49.28436660673378
               ],
               [
                -123.13233184814453,
                49.276931761763024
               ],
               [
                -123.13768005371092,
                49.27531814481966
               ]
              ]
             ],
             "type": "Polygon"
            },
            "id": "21",
            "properties": {
             "geo_point_2d": "{ \"lon\": -123.13543765302629, \"lat\": 49.285011188472005 }",
             "name": "WEST END",
             "tree_species_proportion": 0.46875
            },
            "type": "Feature"
           }
          ]
         },
         "encoding": {
          "color": {
           "field": "properties.tree_species_proportion",
           "scale": {
            "scheme": "blues"
           },
           "title": "Proportion",
           "type": "quantitative"
          },
          "tooltip": [
           {
            "field": "properties.name",
            "title": "Neighborhood",
            "type": "nominal"
           },
           {
            "field": "properties.tree_species_proportion",
            "format": ".2%",
            "title": "Tree Species Proportion",
            "type": "quantitative"
           }
          ]
         },
         "height": 400,
         "mark": {
          "stroke": "#706545",
          "type": "geoshape"
         },
         "name": "view_1",
         "projection": {
          "reflectY": true,
          "type": "identity"
         },
         "title": "Proportion of Streets with At Least 15 Species",
         "width": 600
        },
        {
         "data": {
          "format": {
           "type": "json"
          },
          "url": "altairdata/altair-data-5abc978e1bf3ad2f2da3cc3338ce2c90.json"
         },
         "encoding": {
          "tooltip": [
           {
            "field": "ON_STREET",
            "type": "nominal"
           },
           {
            "field": "Species_Count",
            "type": "quantitative"
           }
          ],
          "x": {
           "field": "ON_STREET",
           "type": "nominal"
          },
          "y": {
           "field": "Species_Count",
           "title": "Unique Species Count",
           "type": "quantitative"
          }
         },
         "height": 200,
         "mark": {
          "type": "bar"
         },
         "title": "Unique Species Count by Street",
         "transform": [
          {
           "filter": {
            "param": "Neighborhood"
           }
          }
         ]
        }
       ]
      },
      "image/png": "[encoded data removed]",
      "text/plain": [
       "<VegaLite 5 object>\n",
       "\n",
       "If you see this message, it means the renderer has not been properly enabled\n",
       "for the frontend that you are using. For more information, see\n",
       "https://altair-viz.github.io/user_guide/display_frontends.html#troubleshooting\n"
      ]
     },
     "execution_count": 7,
     "metadata": {},
     "output_type": "execute_result"
    }
   ],
   "source": [
    "# Data preparation\n",
    "\n",
    "# Dictionary of streets within each neighbourhood\n",
    "neighborhood_streets_dict = public_trees_cleaned.groupby(\"NEIGHBOURHOOD_NAME\")[\"ON_STREET\"].unique().apply(list).to_dict()\n",
    "\n",
    "# List of trees that have been manually planted\n",
    "public_trees_manual = public_trees_cleaned.loc[public_trees_cleaned['DATE_PLANTED'].notnull()]\n",
    "\n",
    "# Dictionary of species within each street\n",
    "# countgenus = public_trees_manual.groupby([\"ON_STREET\"]).size().unstack(fill_value=0).to_dict(orient=\"index\")\n",
    "# streets_species_dict = public_trees_manual.groupby(\"ON_STREET\")[\"SPECIES_NAME\"].unique().apply(list).to_dict()\n",
    "streets_species_count = public_trees_manual.groupby(['ON_STREET']).agg(NEIGHBOURHOOD_NAME=('NEIGHBOURHOOD_NAME', 'first'), Species_Count=('SPECIES_NAME', 'nunique'),).reset_index()\n",
    "\n",
    "min_species = 15 \n",
    "\n",
    "# Define a function to calculate proportions based on a minimum number of species\n",
    "def calculate_proportions(min_species):\n",
    "    neighborhood_proportions = {}\n",
    "    for neighborhood, streets in neighborhood_streets_dict.items():\n",
    "        total_streets = len(streets)\n",
    "        if total_streets == 0:\n",
    "            neighborhood_proportions[neighborhood] = 0\n",
    "            continue\n",
    "        streets_with_min_species = sum(\n",
    "            1 for street in streets if streets_species_count.loc[\n",
    "                streets_species_count[\"ON_STREET\"] == street, \"Species_Count\"\n",
    "            ].sum() >= min_species\n",
    "        )\n",
    "        neighborhood_proportions[neighborhood] = streets_with_min_species / total_streets\n",
    "    return neighborhood_proportions\n",
    "\n",
    "neighborhood_proportions = calculate_proportions(min_species)\n",
    "gdf[\"tree_species_proportion\"] = gdf[\"name\"].map(lambda x: neighborhood_proportions.get(x, 0)).fillna(0)\n",
    "geojson_data = json.loads(gdf.to_json())\n",
    "\n",
    "# Create a selection for clicking on a neighborhood on the map\n",
    "neighborhood_click = alt.selection_point(\n",
    "    fields=[\"properties.name\"],\n",
    "    name=\"Neighborhood\", \n",
    "    clear=True\n",
    ")\n",
    "\n",
    "tree_map = alt.Chart(alt.Data(values=geojson_data[\"features\"])).mark_geoshape(\n",
    "    stroke='#706545'\n",
    ").encode(\n",
    "    color=alt.Color(\n",
    "        \"properties.tree_species_proportion:Q\",\n",
    "        scale=alt.Scale(scheme=\"blues\"),\n",
    "        title=\"Proportion\"\n",
    "    ),\n",
    "    tooltip=[\n",
    "        alt.Tooltip(\"properties.name:N\", title=\"Neighborhood\"),\n",
    "        alt.Tooltip(\"properties.tree_species_proportion:Q\", title=\"Tree Species Proportion\", format=\".2%\")\n",
    "    ]\n",
    ").properties(\n",
    "    width=600,\n",
    "    height=400,\n",
    "    title=f\"Proportion of Streets with At Least {min_species} Species\"\n",
    ").project(type='identity', reflectY=True).add_params(neighborhood_click)\n",
    "\n",
    "# Bar plot showing streets and number of unique species in the selected neighborhood\n",
    "bar_chart = alt.Chart(streets_species_count).mark_bar().encode(\n",
    "    x=alt.X('ON_STREET:N'),\n",
    "    y=alt.Y('Species_Count:Q', title='Unique Species Count'),\n",
    "    tooltip=['ON_STREET:N', 'Species_Count:Q']\n",
    ").transform_filter(\n",
    "    neighborhood_click\n",
    ").properties(\n",
    "    height=200,\n",
    "    title=\"Unique Species Count by Street\"\n",
    ")\n",
    "\n",
    "tree_map & bar_chart"
   ]
  }
 ],
 "metadata": {
  "kernelspec": {
   "display_name": "Python [conda env:anaconda3]",
   "language": "python",
   "name": "conda-env-anaconda3-py"
  },
  "language_info": {
   "codemirror_mode": {
    "name": "ipython",
    "version": 3
   },
   "file_extension": ".py",
   "mimetype": "text/x-python",
   "name": "python",
   "nbconvert_exporter": "python",
   "pygments_lexer": "ipython3",
   "version": "3.12.2"
  }
 },
 "nbformat": 4,
 "nbformat_minor": 5
}
