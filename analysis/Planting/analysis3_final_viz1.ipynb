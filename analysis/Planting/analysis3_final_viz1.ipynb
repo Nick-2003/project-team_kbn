{
 "cells": [
  {
   "cell_type": "markdown",
   "id": "61d8d83a-f206-4ff1-80be-4613fa5fc985",
   "metadata": {},
   "source": [
    "# Nicholas Tam Final Visualization"
   ]
  },
  {
   "cell_type": "markdown",
   "id": "b3c04a14-9c8f-4344-9866-acb3d754057a",
   "metadata": {},
   "source": [
    "## Research Question/Interests\n",
    "Research question: Given the tree dataset, how would we want to arrange the types of trees to be planted in certain locations, such that they could survive and significantly improve the ecosystem?\n",
    "\n",
    "Given the research question, it would be ideal to analyze relevant properties, such as the relative sizes of each location and the proportions of planted trees for each species.\n",
    "\n",
    "The following questions will be used as guidelines to supplement the question:\n",
    "- What are the numbers and proportions of planted trees, by species and genus?\n",
    "- Which locations within each neighbourhood can host wide varieties of species?\n",
    "- How do trees that have been planted directly compare in terms of diameter and height to those that have grown naturally?"
   ]
  },
  {
   "cell_type": "markdown",
   "id": "25092bdf-051c-487b-84eb-ada1018d5287",
   "metadata": {},
   "source": [
    "## Subquestion of interest: What are the numbers and proportions of planted trees, by species and genus?"
   ]
  },
  {
   "cell_type": "code",
   "execution_count": 1,
   "id": "4714e9f7-2c4b-4874-89b3-962964a62855",
   "metadata": {},
   "outputs": [],
   "source": [
    "import altair as alt\n",
    "import pandas as pd\n",
    "from toolz.curried import pipe\n",
    "import os\n",
    "from pygbif import species\n",
    "\n",
    "import sys\n",
    "sys.path.append(\"../../code\")\n",
    "sys.path.append(\"../../images\")\n",
    "import data_clean\n",
    "import preprocess_query_family\n",
    "import preprocess_query_pollen\n",
    "import preprocess_change_col_type\n",
    "import altair_data_transformer\n",
    "from IPython.display import Image\n",
    "import geopandas as gpd\n",
    "import json"
   ]
  },
  {
   "cell_type": "code",
   "execution_count": 2,
   "id": "f127cf44-ff74-4b55-9760-70f810f3538b",
   "metadata": {},
   "outputs": [
    {
     "data": {
      "text/plain": [
       "DataTransformerRegistry.enable('json_dir')"
      ]
     },
     "execution_count": 2,
     "metadata": {},
     "output_type": "execute_result"
    }
   ],
   "source": [
    "# Create a new data transformer that stores the files in a directory\n",
    "data_dir = 'altairdata'\n",
    "altair_data_transformer.setup_altair_for_large_data(data_dir)\n",
    "\n",
    "# Set up file path to save images\n",
    "viz_folder = '../../images/ntam_viz/'\n",
    "\n",
    "# Handle large data sets (default shows only 5000)\n",
    "# See here: https://altair-viz.github.io/user_guide/data_transformers.html\n",
    "alt.data_transformers.disable_max_rows()"
   ]
  },
  {
   "cell_type": "markdown",
   "id": "7c29ab03-c0c3-4cd1-be02-c78887eb7206",
   "metadata": {},
   "source": [
    "## Processed Data\n",
    "- Upon loading `public_trees_cleaned.csv`, need to set the attribute types for `HEIGHT_RANGE`, `TREE_ID`, `CIVIC_NUMBER`, and `ON_STREET_BLOCK`.\n",
    "- `public_trees_planted` is created to filter for species with existing planted trees."
   ]
  },
  {
   "cell_type": "code",
   "execution_count": 3,
   "id": "a02d139d-2849-41e2-96a0-6da19786b633",
   "metadata": {},
   "outputs": [
    {
     "data": {
      "text/html": [
       "<div>\n",
       "<style scoped>\n",
       "    .dataframe tbody tr th:only-of-type {\n",
       "        vertical-align: middle;\n",
       "    }\n",
       "\n",
       "    .dataframe tbody tr th {\n",
       "        vertical-align: top;\n",
       "    }\n",
       "\n",
       "    .dataframe thead th {\n",
       "        text-align: right;\n",
       "    }\n",
       "</style>\n",
       "<table border=\"1\" class=\"dataframe\">\n",
       "  <thead>\n",
       "    <tr style=\"text-align: right;\">\n",
       "      <th></th>\n",
       "      <th>TREE_ID</th>\n",
       "      <th>CIVIC_NUMBER</th>\n",
       "      <th>STD_STREET</th>\n",
       "      <th>GENUS_NAME</th>\n",
       "      <th>SPECIES_NAME</th>\n",
       "      <th>CULTIVAR_NAME</th>\n",
       "      <th>COMMON_NAME</th>\n",
       "      <th>ON_STREET_BLOCK</th>\n",
       "      <th>ON_STREET</th>\n",
       "      <th>NEIGHBOURHOOD_NAME</th>\n",
       "      <th>...</th>\n",
       "      <th>DIAMETER</th>\n",
       "      <th>DATE_PLANTED</th>\n",
       "      <th>Geom</th>\n",
       "      <th>geo_point_2d</th>\n",
       "      <th>LATITUDE</th>\n",
       "      <th>LONGITUDE</th>\n",
       "      <th>NOMENCLATURE</th>\n",
       "      <th>ON_ADDRESS</th>\n",
       "      <th>FAMILY_NAME</th>\n",
       "      <th>HAS_POLLEN</th>\n",
       "    </tr>\n",
       "  </thead>\n",
       "  <tbody>\n",
       "    <tr>\n",
       "      <th>0</th>\n",
       "      <td>229002</td>\n",
       "      <td>2128</td>\n",
       "      <td>E 54TH AV</td>\n",
       "      <td>FAGUS</td>\n",
       "      <td>SYLVATICA</td>\n",
       "      <td>DAWYCKII</td>\n",
       "      <td>DAWYCK'S BEECH</td>\n",
       "      <td>2100</td>\n",
       "      <td>E 54TH AV</td>\n",
       "      <td>VICTORIA-FRASERVIEW</td>\n",
       "      <td>...</td>\n",
       "      <td>3.0</td>\n",
       "      <td>2014-03-12</td>\n",
       "      <td>{\"coordinates\": [-123.06377300024464, 49.22020...</td>\n",
       "      <td>49.22020099919947, -123.06377300024464</td>\n",
       "      <td>49.220201</td>\n",
       "      <td>-123.063773</td>\n",
       "      <td>FAGUS SYLVATICA</td>\n",
       "      <td>2100 E 54TH AV VICTORIA-FRASERVIEW (EVEN)</td>\n",
       "      <td>FAGACEAE</td>\n",
       "      <td>True</td>\n",
       "    </tr>\n",
       "    <tr>\n",
       "      <th>1</th>\n",
       "      <td>229005</td>\n",
       "      <td>8443</td>\n",
       "      <td>FREMLIN ST</td>\n",
       "      <td>ACER</td>\n",
       "      <td>TRUNCATUM</td>\n",
       "      <td>PACIFIC SUNSET</td>\n",
       "      <td>PACIFIC SUNSET MAPLE</td>\n",
       "      <td>8400</td>\n",
       "      <td>FREMLIN ST</td>\n",
       "      <td>MARPOLE</td>\n",
       "      <td>...</td>\n",
       "      <td>12.0</td>\n",
       "      <td>2010-11-08</td>\n",
       "      <td>{\"coordinates\": [-123.12751900039063, 49.20967...</td>\n",
       "      <td>49.20967799914094, -123.12751900039063</td>\n",
       "      <td>49.209678</td>\n",
       "      <td>-123.127519</td>\n",
       "      <td>ACER TRUNCATUM</td>\n",
       "      <td>8400 FREMLIN ST MARPOLE (ODD)</td>\n",
       "      <td>ACERACEAE</td>\n",
       "      <td>False</td>\n",
       "    </tr>\n",
       "    <tr>\n",
       "      <th>2</th>\n",
       "      <td>229013</td>\n",
       "      <td>1407</td>\n",
       "      <td>W 59TH AV</td>\n",
       "      <td>PRUNUS</td>\n",
       "      <td>CERASIFERA</td>\n",
       "      <td>NIGRA</td>\n",
       "      <td>NIGHT PURPLE LEAF PLUM</td>\n",
       "      <td>7400</td>\n",
       "      <td>CARTIER ST</td>\n",
       "      <td>MARPOLE</td>\n",
       "      <td>...</td>\n",
       "      <td>3.0</td>\n",
       "      <td>2010-10-20</td>\n",
       "      <td>{\"coordinates\": [-123.13790199955884, 49.21762...</td>\n",
       "      <td>49.21762499869929, -123.13790199955884</td>\n",
       "      <td>49.217625</td>\n",
       "      <td>-123.137902</td>\n",
       "      <td>PRUNUS CERASIFERA</td>\n",
       "      <td>7400 CARTIER ST MARPOLE (ODD)</td>\n",
       "      <td>ROSACEAE</td>\n",
       "      <td>True</td>\n",
       "    </tr>\n",
       "    <tr>\n",
       "      <th>3</th>\n",
       "      <td>229015</td>\n",
       "      <td>489</td>\n",
       "      <td>W 2ND AV</td>\n",
       "      <td>PYRUS</td>\n",
       "      <td>CALLERYANA</td>\n",
       "      <td>CHANTICLEER</td>\n",
       "      <td>CHANTICLEER PEAR</td>\n",
       "      <td>400</td>\n",
       "      <td>W 2ND AV</td>\n",
       "      <td>MOUNT PLEASANT</td>\n",
       "      <td>...</td>\n",
       "      <td>3.0</td>\n",
       "      <td>2009-12-10</td>\n",
       "      <td>{\"coordinates\": [-123.11410500027938, 49.26698...</td>\n",
       "      <td>49.26698999931175, -123.11410500027938</td>\n",
       "      <td>49.266990</td>\n",
       "      <td>-123.114105</td>\n",
       "      <td>PYRUS CALLERYANA</td>\n",
       "      <td>400 W 2ND AV MOUNT PLEASANT (MED)</td>\n",
       "      <td>ROSACEAE</td>\n",
       "      <td>False</td>\n",
       "    </tr>\n",
       "    <tr>\n",
       "      <th>4</th>\n",
       "      <td>229016</td>\n",
       "      <td>489</td>\n",
       "      <td>W 2ND AV</td>\n",
       "      <td>PYRUS</td>\n",
       "      <td>CALLERYANA</td>\n",
       "      <td>CHANTICLEER</td>\n",
       "      <td>CHANTICLEER PEAR</td>\n",
       "      <td>400</td>\n",
       "      <td>W 2ND AV</td>\n",
       "      <td>MOUNT PLEASANT</td>\n",
       "      <td>...</td>\n",
       "      <td>3.0</td>\n",
       "      <td>2009-12-10</td>\n",
       "      <td>{\"coordinates\": [-123.11399200056373, 49.26704...</td>\n",
       "      <td>49.267045998933334, -123.11399200056373</td>\n",
       "      <td>49.267046</td>\n",
       "      <td>-123.113992</td>\n",
       "      <td>PYRUS CALLERYANA</td>\n",
       "      <td>400 W 2ND AV MOUNT PLEASANT (MED)</td>\n",
       "      <td>ROSACEAE</td>\n",
       "      <td>False</td>\n",
       "    </tr>\n",
       "  </tbody>\n",
       "</table>\n",
       "<p>5 rows × 23 columns</p>\n",
       "</div>"
      ],
      "text/plain": [
       "  TREE_ID CIVIC_NUMBER  STD_STREET GENUS_NAME SPECIES_NAME   CULTIVAR_NAME  \\\n",
       "0  229002         2128   E 54TH AV      FAGUS    SYLVATICA        DAWYCKII   \n",
       "1  229005         8443  FREMLIN ST       ACER    TRUNCATUM  PACIFIC SUNSET   \n",
       "2  229013         1407   W 59TH AV     PRUNUS   CERASIFERA           NIGRA   \n",
       "3  229015          489    W 2ND AV      PYRUS   CALLERYANA     CHANTICLEER   \n",
       "4  229016          489    W 2ND AV      PYRUS   CALLERYANA     CHANTICLEER   \n",
       "\n",
       "              COMMON_NAME ON_STREET_BLOCK   ON_STREET   NEIGHBOURHOOD_NAME  \\\n",
       "0          DAWYCK'S BEECH            2100   E 54TH AV  VICTORIA-FRASERVIEW   \n",
       "1    PACIFIC SUNSET MAPLE            8400  FREMLIN ST              MARPOLE   \n",
       "2  NIGHT PURPLE LEAF PLUM            7400  CARTIER ST              MARPOLE   \n",
       "3        CHANTICLEER PEAR             400    W 2ND AV       MOUNT PLEASANT   \n",
       "4        CHANTICLEER PEAR             400    W 2ND AV       MOUNT PLEASANT   \n",
       "\n",
       "   ... DIAMETER  DATE_PLANTED  \\\n",
       "0  ...      3.0    2014-03-12   \n",
       "1  ...     12.0    2010-11-08   \n",
       "2  ...      3.0    2010-10-20   \n",
       "3  ...      3.0    2009-12-10   \n",
       "4  ...      3.0    2009-12-10   \n",
       "\n",
       "                                                Geom  \\\n",
       "0  {\"coordinates\": [-123.06377300024464, 49.22020...   \n",
       "1  {\"coordinates\": [-123.12751900039063, 49.20967...   \n",
       "2  {\"coordinates\": [-123.13790199955884, 49.21762...   \n",
       "3  {\"coordinates\": [-123.11410500027938, 49.26698...   \n",
       "4  {\"coordinates\": [-123.11399200056373, 49.26704...   \n",
       "\n",
       "                              geo_point_2d   LATITUDE   LONGITUDE  \\\n",
       "0   49.22020099919947, -123.06377300024464  49.220201 -123.063773   \n",
       "1   49.20967799914094, -123.12751900039063  49.209678 -123.127519   \n",
       "2   49.21762499869929, -123.13790199955884  49.217625 -123.137902   \n",
       "3   49.26698999931175, -123.11410500027938  49.266990 -123.114105   \n",
       "4  49.267045998933334, -123.11399200056373  49.267046 -123.113992   \n",
       "\n",
       "        NOMENCLATURE                                 ON_ADDRESS  FAMILY_NAME  \\\n",
       "0    FAGUS SYLVATICA  2100 E 54TH AV VICTORIA-FRASERVIEW (EVEN)     FAGACEAE   \n",
       "1     ACER TRUNCATUM              8400 FREMLIN ST MARPOLE (ODD)    ACERACEAE   \n",
       "2  PRUNUS CERASIFERA              7400 CARTIER ST MARPOLE (ODD)     ROSACEAE   \n",
       "3   PYRUS CALLERYANA          400 W 2ND AV MOUNT PLEASANT (MED)     ROSACEAE   \n",
       "4   PYRUS CALLERYANA          400 W 2ND AV MOUNT PLEASANT (MED)     ROSACEAE   \n",
       "\n",
       "  HAS_POLLEN  \n",
       "0       True  \n",
       "1      False  \n",
       "2       True  \n",
       "3      False  \n",
       "4      False  \n",
       "\n",
       "[5 rows x 23 columns]"
      ]
     },
     "execution_count": 3,
     "metadata": {},
     "output_type": "execute_result"
    }
   ],
   "source": [
    "public_trees_cleaned = pd.read_csv(\"../../data/processed/public_trees_cleaned.csv\")\n",
    "priority_order = ['10-20', '20-30', '30-40', '40-50', '50-60', '60-70', '70-80', '80-90', '>90']\n",
    "public_trees_cleaned['HEIGHT_RANGE'] = pd.Categorical(public_trees_cleaned['HEIGHT_RANGE'], categories=priority_order, ordered=True)\n",
    "public_trees_cleaned[['TREE_ID', 'CIVIC_NUMBER', 'ON_STREET_BLOCK']] = public_trees_cleaned[['TREE_ID', 'CIVIC_NUMBER', 'ON_STREET_BLOCK']].astype(str)\n",
    "\n",
    "public_trees_cleaned.head()"
   ]
  },
  {
   "cell_type": "code",
   "execution_count": 4,
   "id": "e04ce587-6f84-4a54-b902-d7ab633f8ccd",
   "metadata": {},
   "outputs": [],
   "source": [
    "planted_species = public_trees_cleaned.loc[public_trees_cleaned['DATE_PLANTED'].notnull(), 'SPECIES_NAME'].unique()\n",
    "public_trees_planted = public_trees_cleaned[public_trees_cleaned['SPECIES_NAME'].isin(planted_species)]"
   ]
  },
  {
   "cell_type": "markdown",
   "id": "24e1a614-9f1e-4886-8c58-29d393dfa574",
   "metadata": {},
   "source": [
    "## Visualization 1: What are the counts and proportions of planted trees?\n",
    "\n",
    "### Marks\n",
    "- Bar plot:  \n",
    "  - Used to accurately display the proportions of planted specimens between species, ordered by total number of specimens.\n",
    "  - Bar lengths represent proportions of planted specimens for given species, and color differentiation displays the species' total population size.\n",
    "- Dot plot:\n",
    "  - Used to provide an interpretable display of the variation in proportions and total populations.\n",
    "  - Population size is log-transformed to allow for easier interpretation of values given drastic variations in such.\n",
    "\n",
    "### Channels\n",
    "- Bar plot: \n",
    "  - Position:  \n",
    "    - Y-axis represents species.\n",
    "    - X-axis represents the proportions of planted specimens for given species.\n",
    "  - Color represents the species' total population size, log-transformed, and uses a sequential continuous color palette to display the change in log-transformed total populations, and to display the differences in population sizes should the data be filtered by the widgets.\n",
    "  - Opacity: Upon brushing on a given range of species, the opacity of all other areas are set to be low, drawing attention to the species under analysis.\n",
    "  - Tooltip: Displays the corresponding species, genus, proportions of planted specimens and total population size, improving clarity.\n",
    "- Dot plot:\n",
    "  - Position:  \n",
    "    - X-axis represents log-transformed population size, to allow for easier interpretation of values given drastic variations in such.\n",
    "    - Y-axis represents the proportions of planted specimens for given species.\n",
    "  - Opacity: Upon brushing on a given range of points, the opacity of all other points are set to be low, drawing attention to the points under analysis.\n",
    "  - Tooltip: Displays the corresponding species, genus, proportions of planted specimens and total population size, improving clarity.\n",
    "\n",
    "### Interaction and UI Widgets \n",
    "- Genus Dropdown:  \n",
    "  - Filters trees based on genus, dynamically updating both the histogram and dot plot. \n",
    "  - This ensures the user can apply focused comparisons of counts and proportions between similar species.\n",
    "\n",
    "- Min Total Count Input Box:  \n",
    "  - Allows users to select a minimum total population size, to ensure that the values displayed have sufficient samples to conduct analyses with.\n",
    "  - Set to 300 by default.\n",
    "\n",
    "- Min Proportion and Max Proportion Sliders:\n",
    "    - Allows users to select minimum and maximum proportions of planted species, to find species that can be used for practical analysis of characteristics between planted and non-planted samples.\n",
    "    - Set to 0.3 and 0.7 respectively by default.\n",
    "\n",
    "- Bidirectional Selection:  \n",
    "  - Users can brush on either plot to filter values on both sides.\n",
    "  - Species selection from the bar plot, proportion and log-transformed total count from the dot plot. \n",
    "\n",
    "- Linked Filtering:  \n",
    "  - Ensures the bar plot and dot plot remain synchronized. Brushing on either view updates both visualizations, creating a cohesive exploration experience.\n",
    "\n",
    "- Conditional Highlighting:  \n",
    "  - Upon brushing into specific marks, the opacity of all other related marks are set to be low, drawing attention to the area under analysis, improving focus and reducing cognitive load.\n",
    "\n",
    "- Tooltip Enhancements:  \n",
    "  - Tooltips provide precise numerical values for proportions of planted specimens and total population size corresponding to each species, enhancing interpretability without cluttering the visualization. \n",
    "\n",
    "### Tasks Supported by the Visualization\n",
    "- Retrieve Value: Tooltips allow users to extract specific details, such as proportions of planted specimens and total population size corresponding to each species. \n",
    "- Filter: Users can filter data by genus selection (via dropdown), selection of boundaries for population size (via textbox) and proportions of planted specimens (via sliders), and brushing within either plot, enabling focused exploration.\n",
    "- Compute Derived Value: To obtain the proportion of planted specimens over the total populations for each species, two aggregations were required. The first aggregation involved counting the number of trees with explicit `DATE_PLANTED` values grouped by species, under the assumption that all trees without the `DATE_PLANTED` were not planted trees, while the second involved counting the total number trees for the species that had `DATE_PLANTED` specimens. The proportion was obtained by dividing the number of planted specimens over the total number of specimens for each species.\n",
    "- Sort: Species in the bar plot are are sorted by population size.\n",
    "\n",
    "### Why These Choices Were Effective\n",
    "- Data Processing:  \n",
    "   - Aggregating proportion of planted specimens over the total populations for each species ensures the visualization is concise and focused on species with sufficiently large amounts of samples to conduct analyses with.  \n",
    "   - Filtering the dataset avoids overwhelming users with less relevant data while still providing meaningful insights into planted proportions.  \n",
    "\n",
    "- Comprehensive Analysis:  \n",
    "   - The bar plot and dot plot visualise variations of proportions of planted specimens across species and population sizes. \n",
    "   - Together, they allow users to discover which species has sufficient data for both planted and non-planted specimens through the combinations of the total number of trees and the proportion of planted samples.\n",
    "\n",
    "- Dynamic Exploration:  \n",
    "   - The dropdown menu, input box, sliders and bidirectional interactions allow users to explore the data dynamically, refining their analysis based on genus, population size, proportions and species.  \n",
    "   - Linked filtering ensures consistency between the bar plot and dot plot, maintaining a seamless exploration experience.\n",
    "\n",
    "- Enhanced Interpretability:  \n",
    "   - Tooltips and conditional highlighting make the visualization accessible to a wide audience, supporting informed decision-making about species with greater flexibility in terms of what species could be focused on."
   ]
  },
  {
   "cell_type": "code",
   "execution_count": 5,
   "id": "0e8b9b93-34c9-4d93-8fd3-fae817348f34",
   "metadata": {},
   "outputs": [
    {
     "data": {
      "text/html": [
       "<div>\n",
       "<style scoped>\n",
       "    .dataframe tbody tr th:only-of-type {\n",
       "        vertical-align: middle;\n",
       "    }\n",
       "\n",
       "    .dataframe tbody tr th {\n",
       "        vertical-align: top;\n",
       "    }\n",
       "\n",
       "    .dataframe thead th {\n",
       "        text-align: right;\n",
       "    }\n",
       "</style>\n",
       "<table border=\"1\" class=\"dataframe\">\n",
       "  <thead>\n",
       "    <tr style=\"text-align: right;\">\n",
       "      <th></th>\n",
       "      <th>SPECIES_NAME</th>\n",
       "      <th>GENUS_NAME</th>\n",
       "      <th>Planted_Count</th>\n",
       "      <th>Total_Count</th>\n",
       "      <th>Proportion_Planted</th>\n",
       "    </tr>\n",
       "  </thead>\n",
       "  <tbody>\n",
       "    <tr>\n",
       "      <th>0</th>\n",
       "      <td>ABIES</td>\n",
       "      <td>PICEA</td>\n",
       "      <td>37</td>\n",
       "      <td>328</td>\n",
       "      <td>0.112805</td>\n",
       "    </tr>\n",
       "    <tr>\n",
       "      <th>1</th>\n",
       "      <td>ACERIFOLIA   X</td>\n",
       "      <td>PLATANUS</td>\n",
       "      <td>606</td>\n",
       "      <td>2305</td>\n",
       "      <td>0.262907</td>\n",
       "    </tr>\n",
       "    <tr>\n",
       "      <th>2</th>\n",
       "      <td>ACUMINATA</td>\n",
       "      <td>MAGNOLIA</td>\n",
       "      <td>3</td>\n",
       "      <td>28</td>\n",
       "      <td>0.107143</td>\n",
       "    </tr>\n",
       "    <tr>\n",
       "      <th>3</th>\n",
       "      <td>ACUTISSIMA</td>\n",
       "      <td>QUERCUS</td>\n",
       "      <td>420</td>\n",
       "      <td>533</td>\n",
       "      <td>0.787992</td>\n",
       "    </tr>\n",
       "    <tr>\n",
       "      <th>4</th>\n",
       "      <td>ALBA</td>\n",
       "      <td>MORUS</td>\n",
       "      <td>6</td>\n",
       "      <td>84</td>\n",
       "      <td>0.071429</td>\n",
       "    </tr>\n",
       "    <tr>\n",
       "      <th>...</th>\n",
       "      <td>...</td>\n",
       "      <td>...</td>\n",
       "      <td>...</td>\n",
       "      <td>...</td>\n",
       "      <td>...</td>\n",
       "    </tr>\n",
       "    <tr>\n",
       "      <th>217</th>\n",
       "      <td>X WAREI</td>\n",
       "      <td>QUERCUS</td>\n",
       "      <td>33</td>\n",
       "      <td>56</td>\n",
       "      <td>0.589286</td>\n",
       "    </tr>\n",
       "    <tr>\n",
       "      <th>218</th>\n",
       "      <td>X YEDOENSIS</td>\n",
       "      <td>PRUNUS</td>\n",
       "      <td>2086</td>\n",
       "      <td>2609</td>\n",
       "      <td>0.799540</td>\n",
       "    </tr>\n",
       "    <tr>\n",
       "      <th>219</th>\n",
       "      <td>XX</td>\n",
       "      <td>MAGNOLIA</td>\n",
       "      <td>1486</td>\n",
       "      <td>1854</td>\n",
       "      <td>0.801510</td>\n",
       "    </tr>\n",
       "    <tr>\n",
       "      <th>220</th>\n",
       "      <td>ZENII</td>\n",
       "      <td>MAGNOLIA</td>\n",
       "      <td>2</td>\n",
       "      <td>2</td>\n",
       "      <td>1.000000</td>\n",
       "    </tr>\n",
       "    <tr>\n",
       "      <th>221</th>\n",
       "      <td>ZUMI</td>\n",
       "      <td>MALUS</td>\n",
       "      <td>1416</td>\n",
       "      <td>1497</td>\n",
       "      <td>0.945892</td>\n",
       "    </tr>\n",
       "  </tbody>\n",
       "</table>\n",
       "<p>222 rows × 5 columns</p>\n",
       "</div>"
      ],
      "text/plain": [
       "       SPECIES_NAME GENUS_NAME  Planted_Count  Total_Count  Proportion_Planted\n",
       "0             ABIES      PICEA             37          328            0.112805\n",
       "1    ACERIFOLIA   X   PLATANUS            606         2305            0.262907\n",
       "2         ACUMINATA   MAGNOLIA              3           28            0.107143\n",
       "3        ACUTISSIMA    QUERCUS            420          533            0.787992\n",
       "4              ALBA      MORUS              6           84            0.071429\n",
       "..              ...        ...            ...          ...                 ...\n",
       "217         X WAREI    QUERCUS             33           56            0.589286\n",
       "218     X YEDOENSIS     PRUNUS           2086         2609            0.799540\n",
       "219              XX   MAGNOLIA           1486         1854            0.801510\n",
       "220           ZENII   MAGNOLIA              2            2            1.000000\n",
       "221            ZUMI      MALUS           1416         1497            0.945892\n",
       "\n",
       "[222 rows x 5 columns]"
      ]
     },
     "execution_count": 5,
     "metadata": {},
     "output_type": "execute_result"
    }
   ],
   "source": [
    "species_planted_count = public_trees_planted.groupby(['SPECIES_NAME']).agg(GENUS_NAME=('GENUS_NAME', 'first'),Planted_Count=('DATE_PLANTED', 'count'),).reset_index()\n",
    "species_total_count = public_trees_planted['SPECIES_NAME'].value_counts().reset_index(name='Total_Count')\n",
    "species_summary = species_planted_count.merge(species_total_count, on='SPECIES_NAME')\n",
    "species_summary['Proportion_Planted'] = species_summary['Planted_Count'] / species_summary['Total_Count']\n",
    "species_summary"
   ]
  },
  {
   "cell_type": "code",
   "execution_count": 6,
   "id": "d518a915-91f6-4512-82ba-13907328ea50",
   "metadata": {},
   "outputs": [],
   "source": [
    "# Dropdown family\n",
    "list_genus = public_trees_planted['GENUS_NAME'].unique().tolist()\n",
    "dropdown_genus = alt.binding_select(options=[None] + list_genus, name='Genus: ', labels = ['All'] + list_genus)\n",
    "selection_genus = alt.selection_point(fields=['GENUS_NAME'], bind=dropdown_genus)\n",
    "predicate_genus = (selection_genus | (alt.datum.GENUS_NAME == None))\n",
    "\n",
    "# Input min count\n",
    "input_box = alt.binding(input=\"number\", name=\"Min Total Count: \")\n",
    "filter_total_count = alt.param(name='SelectorName', value=300, bind=input_box)\n",
    "predicate_mincount = alt.datum.Total_Count >= filter_total_count\n",
    "\n",
    "# Sliders for Proportion_Planted (min & max)\n",
    "min_prop_slider = alt.binding_range(min=0, max=1, step=0.01, name=\"Min Proportion: \")\n",
    "max_prop_slider = alt.binding_range(min=0, max=1, step=0.01, name=\"Max Proportion: \")\n",
    "\n",
    "filter_min_prop = alt.param(name=\"min_prop_filter\", value=0.3, bind=min_prop_slider)\n",
    "filter_max_prop = alt.param(name=\"max_prop_filter\", value=0.7, bind=max_prop_slider)\n",
    "\n",
    "predicate_proportion = (alt.datum.Proportion_Planted >= filter_min_prop) & (alt.datum.Proportion_Planted <= filter_max_prop)\n",
    "\n",
    "# Brushed for bar and scatter plots\n",
    "brush_bars = alt.selection_interval(encodings=['x'], name=\"brushBars\")  # Select diameter range in histogram\n",
    "brush_scatter = alt.selection_interval(encodings=['x', 'y'], name=\"brushScatter\")  # Select species in scatter plot\n",
    "\n",
    "# Bar plot\n",
    "bar_sum = (\n",
    "    alt.Chart(species_summary)\n",
    "    # .transform_calculate(\n",
    "    #     Proportion_Planted=\"datum.Planted_Count / datum.Total_Count\"\n",
    "    # )\n",
    "    .mark_bar()\n",
    "    .encode(\n",
    "        alt.X('SPECIES_NAME:N', title='Species', sort='color'),\n",
    "        alt.Y('Proportion_Planted:Q', title='Proportion', scale=alt.Scale(domain=[0, 1])),\n",
    "        alt.Color('Total_Count', \n",
    "                  scale=alt.Scale(type='log', scheme='viridis', reverse=True), \n",
    "                  title='log_{10}(Total_Count)', \n",
    "                  legend=alt.Legend(orient=\"left\", direction=\"vertical\"),\n",
    "                 ),\n",
    "        opacity=alt.condition(brush_bars, alt.value(1), alt.value(0.1)),\n",
    "        tooltip=[\n",
    "            alt.Tooltip(\"SPECIES_NAME:N\", title=\"Species\"),\n",
    "            alt.Tooltip(\"GENUS_NAME:N\", title=\"Genus\"),\n",
    "            alt.Tooltip(\"Proportion_Planted:Q\", title=\"Planted Proportion\"),\n",
    "            alt.Tooltip(\"Total_Count:Q\", title=\"Total Number of Trees\"),\n",
    "        ]\n",
    "    ).properties(\n",
    "        title='Proportions of Planted Trees for Species with Date Data',\n",
    "    )\n",
    "    .add_params(selection_genus, filter_total_count, filter_min_prop, filter_max_prop, brush_bars)  # Add interactivity\n",
    "    .transform_filter(predicate_genus & predicate_mincount & predicate_proportion & brush_scatter)\n",
    "    .properties(\n",
    "        title='Proportions of Planted Trees for each Species with Planted Trees',\n",
    "        height=140, \n",
    "        width=1900\n",
    "    )\n",
    ") \n",
    "\n",
    "# Scatterplot\n",
    "point_sum = (\n",
    "    alt.Chart(species_summary).mark_point(filled=True, size=50).encode(\n",
    "        alt.X('Total_Count', scale=alt.Scale(type='log'), title='log_{10}(Total_Count)'),\n",
    "        alt.Y('Proportion_Planted:Q', title='Proportion', scale=alt.Scale(domain=[0, 1])),\n",
    "        opacity=alt.condition(brush_scatter, alt.value(1), alt.value(0.2)),\n",
    "        tooltip=[\n",
    "            alt.Tooltip(\"SPECIES_NAME:N\", title=\"Species\"),\n",
    "            alt.Tooltip(\"GENUS_NAME:N\", title=\"Genus\"),\n",
    "            alt.Tooltip(\"Proportion_Planted:Q\", title=\"Planted Proportion\"),\n",
    "            alt.Tooltip(\"Total_Count:Q\", title=\"Total Number of Trees\"),\n",
    "        ]\n",
    "    )\n",
    "    .add_params(selection_genus, filter_total_count, filter_min_prop, filter_max_prop, brush_scatter)  # Add interactivity\n",
    "    .transform_filter(predicate_genus & predicate_mincount & predicate_proportion & brush_bars)\n",
    "    .properties(\n",
    "        title='Proportions against log_{10}(Total Count) for Species with Planted Trees',\n",
    "        height=300,\n",
    "        width=400,\n",
    "    )\n",
    ")"
   ]
  },
  {
   "cell_type": "code",
   "execution_count": 7,
   "id": "c7906fd5-f378-4a5d-ae0f-0b8d589163de",
   "metadata": {},
   "outputs": [
    {
     "name": "stderr",
     "output_type": "stream",
     "text": [
      "/opt/anaconda3/lib/python3.12/site-packages/altair/utils/core.py:395: FutureWarning: the convert_dtype parameter is deprecated and will be removed in a future version.  Do ``ser.astype(object).apply()`` instead if you want ``convert_dtype=False``.\n",
      "  col = df[col_name].apply(to_list_if_array, convert_dtype=False)\n",
      "/opt/anaconda3/lib/python3.12/site-packages/altair/utils/core.py:395: FutureWarning: the convert_dtype parameter is deprecated and will be removed in a future version.  Do ``ser.astype(object).apply()`` instead if you want ``convert_dtype=False``.\n",
      "  col = df[col_name].apply(to_list_if_array, convert_dtype=False)\n",
      "/opt/anaconda3/lib/python3.12/site-packages/altair/utils/core.py:395: FutureWarning: the convert_dtype parameter is deprecated and will be removed in a future version.  Do ``ser.astype(object).apply()`` instead if you want ``convert_dtype=False``.\n",
      "  col = df[col_name].apply(to_list_if_array, convert_dtype=False)\n",
      "/opt/anaconda3/lib/python3.12/site-packages/altair/utils/core.py:395: FutureWarning: the convert_dtype parameter is deprecated and will be removed in a future version.  Do ``ser.astype(object).apply()`` instead if you want ``convert_dtype=False``.\n",
      "  col = df[col_name].apply(to_list_if_array, convert_dtype=False)\n",
      "/opt/anaconda3/lib/python3.12/site-packages/altair/utils/core.py:395: FutureWarning: the convert_dtype parameter is deprecated and will be removed in a future version.  Do ``ser.astype(object).apply()`` instead if you want ``convert_dtype=False``.\n",
      "  col = df[col_name].apply(to_list_if_array, convert_dtype=False)\n",
      "/opt/anaconda3/lib/python3.12/site-packages/altair/utils/core.py:395: FutureWarning: the convert_dtype parameter is deprecated and will be removed in a future version.  Do ``ser.astype(object).apply()`` instead if you want ``convert_dtype=False``.\n",
      "  col = df[col_name].apply(to_list_if_array, convert_dtype=False)\n"
     ]
    },
    {
     "data": {
      "application/vnd.vegalite.v5+json": {
       "$schema": "https://vega.github.io/schema/vega-lite/v5.8.0.json",
       "config": {
        "axis": {
         "titleFontSize": 14
        },
        "legend": {
         "labelFontSize": 12,
         "titleFontSize": 12
        },
        "title": {
         "anchor": "start",
         "font": "Courier",
         "fontSize": 18
        },
        "view": {
         "continuousHeight": 300,
         "continuousWidth": 300
        }
       },
       "data": {
        "format": {
         "type": "json"
        },
        "url": "altairdata/altair-data-3251ec8cc9636e29d9f8b1b430314c51.json"
       },
       "params": [
        {
         "bind": {
          "input": "select",
          "labels": [
           "All",
           "FAGUS",
           "ACER",
           "PRUNUS",
           "PYRUS",
           "MAGNOLIA",
           "MALUS",
           "QUERCUS",
           "CARPINUS",
           "PINUS",
           "CRATAEGUS",
           "CORNUS",
           "GLEDITSIA",
           "CERCIDIPHYLLUM",
           "ABIES",
           "PLATANUS",
           "CELTIS",
           "STYRAX",
           "FRAXINUS",
           "CLADRASTIS",
           "PARROTIA",
           "CATALPA",
           "ULMUS",
           "SYRINGA",
           "ROBINIA",
           "LIQUIDAMBAR",
           "ZELKOVA",
           "TILIA",
           "CERCIS",
           "PSEUDOTSUGA",
           "SORBUS",
           "GINKGO",
           "FICUS",
           "AESCULUS",
           "CHAMAECYPARIS",
           "NYSSA",
           "CALLITROPSIS",
           "SEQUOIADENDRON",
           "THUJA",
           "GYMNOCLADUS",
           "AMELANCHIER",
           "HIBISCUS",
           "DAVIDIA",
           "ALNUS",
           "TAXUS",
           "PICEA",
           "TSUGA",
           "POPULUS",
           "HEPTACODIUM",
           "BETULA",
           "STEWARTIA",
           "METASEQUOIA",
           "CEDRUS",
           "JUGLANS",
           "CORYLUS",
           "KOELREUTERIA",
           "LIRIODENDRON",
           "ILEX",
           "JUNIPERUS",
           "CASTANEA",
           "MORUS",
           "MAACKIA",
           "TAXODIUM",
           "LABURNUM",
           "OSTRYA",
           "SOPHORA",
           "RHUS",
           "CALOCEDRUS",
           "LARIX",
           "SEQUOIA",
           "ARBUTUS",
           "PTEROCARYA",
           "VIBURNUM",
           "SALIX",
           "HAMAMELIS",
           "PAULOWNIA",
           "STYPHNOLOBIUM",
           "RHAMNUS",
           "MESPILUS",
           "EUONYMUS",
           "RHODODENDRON",
           "TRACHYCARPUS",
           "NOTHOFAGUS",
           "EUCOMMIA",
           "CRYPTOMERIA",
           "CARYA",
           "ALBIZIA",
           "WEIGELA",
           "AUCUBA",
           "PIERIS",
           "BROUSSONETIA",
           "COTINUS",
           "CAMELLIA",
           "CUPRESSUS",
           "EUCALYPTUS",
           "BAMBOO",
           "EMMENOPTERYS",
           "PTEROSTYRAX",
           "ELAEAGNUS",
           "COTONEASTER",
           "SAMBUCUS",
           "LAGERSTROEMIA",
           "PHYLLOSTACHYS",
           "LABURNOCYTISUS"
          ],
          "name": "Genus: ",
          "options": [
           null,
           "FAGUS",
           "ACER",
           "PRUNUS",
           "PYRUS",
           "MAGNOLIA",
           "MALUS",
           "QUERCUS",
           "CARPINUS",
           "PINUS",
           "CRATAEGUS",
           "CORNUS",
           "GLEDITSIA",
           "CERCIDIPHYLLUM",
           "ABIES",
           "PLATANUS",
           "CELTIS",
           "STYRAX",
           "FRAXINUS",
           "CLADRASTIS",
           "PARROTIA",
           "CATALPA",
           "ULMUS",
           "SYRINGA",
           "ROBINIA",
           "LIQUIDAMBAR",
           "ZELKOVA",
           "TILIA",
           "CERCIS",
           "PSEUDOTSUGA",
           "SORBUS",
           "GINKGO",
           "FICUS",
           "AESCULUS",
           "CHAMAECYPARIS",
           "NYSSA",
           "CALLITROPSIS",
           "SEQUOIADENDRON",
           "THUJA",
           "GYMNOCLADUS",
           "AMELANCHIER",
           "HIBISCUS",
           "DAVIDIA",
           "ALNUS",
           "TAXUS",
           "PICEA",
           "TSUGA",
           "POPULUS",
           "HEPTACODIUM",
           "BETULA",
           "STEWARTIA",
           "METASEQUOIA",
           "CEDRUS",
           "JUGLANS",
           "CORYLUS",
           "KOELREUTERIA",
           "LIRIODENDRON",
           "ILEX",
           "JUNIPERUS",
           "CASTANEA",
           "MORUS",
           "MAACKIA",
           "TAXODIUM",
           "LABURNUM",
           "OSTRYA",
           "SOPHORA",
           "RHUS",
           "CALOCEDRUS",
           "LARIX",
           "SEQUOIA",
           "ARBUTUS",
           "PTEROCARYA",
           "VIBURNUM",
           "SALIX",
           "HAMAMELIS",
           "PAULOWNIA",
           "STYPHNOLOBIUM",
           "RHAMNUS",
           "MESPILUS",
           "EUONYMUS",
           "RHODODENDRON",
           "TRACHYCARPUS",
           "NOTHOFAGUS",
           "EUCOMMIA",
           "CRYPTOMERIA",
           "CARYA",
           "ALBIZIA",
           "WEIGELA",
           "AUCUBA",
           "PIERIS",
           "BROUSSONETIA",
           "COTINUS",
           "CAMELLIA",
           "CUPRESSUS",
           "EUCALYPTUS",
           "BAMBOO",
           "EMMENOPTERYS",
           "PTEROSTYRAX",
           "ELAEAGNUS",
           "COTONEASTER",
           "SAMBUCUS",
           "LAGERSTROEMIA",
           "PHYLLOSTACHYS",
           "LABURNOCYTISUS"
          ]
         },
         "name": "param_1",
         "select": {
          "fields": [
           "GENUS_NAME"
          ],
          "type": "point"
         },
         "views": [
          "view_1",
          "view_2"
         ]
        },
        {
         "bind": {
          "input": "number",
          "name": "Min Total Count: "
         },
         "name": "SelectorName",
         "value": 300
        },
        {
         "bind": {
          "input": "range",
          "max": 1,
          "min": 0,
          "name": "Min Proportion: ",
          "step": 0.01
         },
         "name": "min_prop_filter",
         "value": 0.3
        },
        {
         "bind": {
          "input": "range",
          "max": 1,
          "min": 0,
          "name": "Max Proportion: ",
          "step": 0.01
         },
         "name": "max_prop_filter",
         "value": 0.7
        },
        {
         "name": "brushBars",
         "select": {
          "encodings": [
           "x"
          ],
          "type": "interval"
         },
         "views": [
          "view_1"
         ]
        },
        {
         "name": "brushScatter",
         "select": {
          "encodings": [
           "x",
           "y"
          ],
          "type": "interval"
         },
         "views": [
          "view_2"
         ]
        }
       ],
       "vconcat": [
        {
         "encoding": {
          "color": {
           "field": "Total_Count",
           "legend": {
            "direction": "vertical",
            "orient": "left"
           },
           "scale": {
            "reverse": true,
            "scheme": "viridis",
            "type": "log"
           },
           "title": "log_{10}(Total_Count)",
           "type": "quantitative"
          },
          "opacity": {
           "condition": {
            "param": "brushBars",
            "value": 1
           },
           "value": 0.1
          },
          "tooltip": [
           {
            "field": "SPECIES_NAME",
            "title": "Species",
            "type": "nominal"
           },
           {
            "field": "GENUS_NAME",
            "title": "Genus",
            "type": "nominal"
           },
           {
            "field": "Proportion_Planted",
            "title": "Planted Proportion",
            "type": "quantitative"
           },
           {
            "field": "Total_Count",
            "title": "Total Number of Trees",
            "type": "quantitative"
           }
          ],
          "x": {
           "field": "SPECIES_NAME",
           "sort": "color",
           "title": "Species",
           "type": "nominal"
          },
          "y": {
           "field": "Proportion_Planted",
           "scale": {
            "domain": [
             0,
             1
            ]
           },
           "title": "Proportion",
           "type": "quantitative"
          }
         },
         "height": 140,
         "mark": {
          "type": "bar"
         },
         "name": "view_1",
         "title": "Proportions of Planted Trees for each Species with Planted Trees",
         "transform": [
          {
           "filter": {
            "and": [
             {
              "and": [
               {
                "and": [
                 {
                  "or": [
                   {
                    "param": "param_1"
                   },
                   "(datum.GENUS_NAME === null)"
                  ]
                 },
                 "(datum.Total_Count >= SelectorName)"
                ]
               },
               "((datum.Proportion_Planted >= min_prop_filter) && (datum.Proportion_Planted <= max_prop_filter))"
              ]
             },
             {
              "param": "brushScatter"
             }
            ]
           }
          }
         ],
         "width": 1900
        },
        {
         "encoding": {
          "opacity": {
           "condition": {
            "param": "brushScatter",
            "value": 1
           },
           "value": 0.2
          },
          "tooltip": [
           {
            "field": "SPECIES_NAME",
            "title": "Species",
            "type": "nominal"
           },
           {
            "field": "GENUS_NAME",
            "title": "Genus",
            "type": "nominal"
           },
           {
            "field": "Proportion_Planted",
            "title": "Planted Proportion",
            "type": "quantitative"
           },
           {
            "field": "Total_Count",
            "title": "Total Number of Trees",
            "type": "quantitative"
           }
          ],
          "x": {
           "field": "Total_Count",
           "scale": {
            "type": "log"
           },
           "title": "log_{10}(Total_Count)",
           "type": "quantitative"
          },
          "y": {
           "field": "Proportion_Planted",
           "scale": {
            "domain": [
             0,
             1
            ]
           },
           "title": "Proportion",
           "type": "quantitative"
          }
         },
         "height": 300,
         "mark": {
          "filled": true,
          "size": 50,
          "type": "point"
         },
         "name": "view_2",
         "title": "Proportions against log_{10}(Total Count) for Species with Planted Trees",
         "transform": [
          {
           "filter": {
            "and": [
             {
              "and": [
               {
                "and": [
                 {
                  "or": [
                   {
                    "param": "param_1"
                   },
                   "(datum.GENUS_NAME === null)"
                  ]
                 },
                 "(datum.Total_Count >= SelectorName)"
                ]
               },
               "((datum.Proportion_Planted >= min_prop_filter) && (datum.Proportion_Planted <= max_prop_filter))"
              ]
             },
             {
              "param": "brushBars"
             }
            ]
           }
          }
         ],
         "width": 400
        }
       ]
      },
      "image/png": "[encoded data removed]",
      "text/plain": [
       "<VegaLite 5 object>\n",
       "\n",
       "If you see this message, it means the renderer has not been properly enabled\n",
       "for the frontend that you are using. For more information, see\n",
       "https://altair-viz.github.io/user_guide/display_frontends.html#troubleshooting\n"
      ]
     },
     "execution_count": 7,
     "metadata": {},
     "output_type": "execute_result"
    }
   ],
   "source": [
    "viz1 = (bar_sum & point_sum).configure_title(\n",
    "    fontSize=18,\n",
    "    font='Courier',\n",
    "    anchor='start',\n",
    ").configure_axis(\n",
    "    titleFontSize=14, # Change font size for axis \n",
    ").configure_legend(\n",
    "    titleFontSize=12,\n",
    "    labelFontSize=12\n",
    ")\n",
    "# .configure_view(continuousWidth=900, continuousHeight=140)\n",
    "viz1.save(viz_folder+'plant_viz1.png')\n",
    "viz1.save(viz_folder+'plant_viz1.html')\n",
    "viz1"
   ]
  },
  {
   "cell_type": "code",
   "execution_count": null,
   "id": "67586f51-2f5f-4468-ad8c-1094b99b114f",
   "metadata": {},
   "outputs": [],
   "source": []
  }
 ],
 "metadata": {
  "kernelspec": {
   "display_name": "Python [conda env:anaconda3]",
   "language": "python",
   "name": "conda-env-anaconda3-py"
  },
  "language_info": {
   "codemirror_mode": {
    "name": "ipython",
    "version": 3
   },
   "file_extension": ".py",
   "mimetype": "text/x-python",
   "name": "python",
   "nbconvert_exporter": "python",
   "pygments_lexer": "ipython3",
   "version": "3.12.2"
  }
 },
 "nbformat": 4,
 "nbformat_minor": 5
}
