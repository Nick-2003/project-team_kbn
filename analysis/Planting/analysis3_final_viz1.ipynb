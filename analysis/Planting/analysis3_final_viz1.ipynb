{
 "cells": [
  {
   "cell_type": "markdown",
   "id": "61d8d83a-f206-4ff1-80be-4613fa5fc985",
   "metadata": {},
   "source": [
    "# Nicholas Tam Final Visualization"
   ]
  },
  {
   "cell_type": "markdown",
   "id": "b3c04a14-9c8f-4344-9866-acb3d754057a",
   "metadata": {},
   "source": [
    "## Research Question/Interests\n",
    "Research question: Given the tree dataset, how would we want to arrange the types of trees to be planted in certain locations, such that they could survive and significantly improve the ecosystem?\n",
    "\n",
    "Given the research question, it would be ideal to analyze relevant properties, such as the relative sizes of each location and the proportions of planted trees for each species.\n",
    "\n",
    "The following questions will be used as guidelines to supplement the question:\n",
    "- What are the numbers and proportions of planted trees, by species, genus, or family?\n",
    "- Which planted species exist in many different locations within each neighbourhood?\n",
    "- How do trees that have been planted directly compare in terms of diameter to those that have grown naturally?\n",
    "- What is the distribution of ages for specific tree species?\n",
    "\n",
    "## Task Analysis\n",
    "- Compute: Compute the average percentage differences in `DIAMETER` between planted and non-planted trees, and the ages by the number of days between `DATE_PLANTED` and March 5 2025.\n",
    "- Filter: Filter out `SPECIES_NAME` such that there are plenty of both planted and non-planted trees.\n",
    "- Characterize distribution: Find the distribution of ages for planted tree `SPECIES_NAME`.\n",
    "- Sort: Rank `SPECIES_NAME` for appearing in the greatest number of `NEIGHBOURHOOD_NAME` and having large proportions of each corresponding`ON_STREET` containing them.\n",
    "- Retrieve value: Retrieve the number of trees that have been planted, separated by `SPECIES_NAME`. "
   ]
  },
  {
   "cell_type": "code",
   "execution_count": 1,
   "id": "3ea4da87-cd0d-400a-b6c0-5dbd5e01475c",
   "metadata": {},
   "outputs": [],
   "source": [
    "# !conda install -y geopandas"
   ]
  },
  {
   "cell_type": "code",
   "execution_count": 2,
   "id": "4714e9f7-2c4b-4874-89b3-962964a62855",
   "metadata": {},
   "outputs": [],
   "source": [
    "import altair as alt\n",
    "import pandas as pd\n",
    "from toolz.curried import pipe\n",
    "import os\n",
    "from pygbif import species\n",
    "\n",
    "import sys\n",
    "sys.path.append(\"../../code\")\n",
    "sys.path.append(\"../../images\")\n",
    "import data_clean\n",
    "import preprocess_query_family\n",
    "import preprocess_query_pollen\n",
    "import preprocess_change_col_type\n",
    "import altair_data_transformer\n",
    "from IPython.display import Image\n",
    "import geopandas as gpd\n",
    "import json"
   ]
  },
  {
   "cell_type": "code",
   "execution_count": 3,
   "id": "f127cf44-ff74-4b55-9760-70f810f3538b",
   "metadata": {},
   "outputs": [
    {
     "data": {
      "text/plain": [
       "DataTransformerRegistry.enable('json_dir')"
      ]
     },
     "execution_count": 3,
     "metadata": {},
     "output_type": "execute_result"
    }
   ],
   "source": [
    "# Create a new data transformer that stores the files in a directory\n",
    "data_dir = 'altairdata'\n",
    "altair_data_transformer.setup_altair_for_large_data(data_dir)\n",
    "\n",
    "# Set up file path to save images\n",
    "viz_folder = '../../images/ntam_viz/'\n",
    "\n",
    "# Handle large data sets (default shows only 5000)\n",
    "# See here: https://altair-viz.github.io/user_guide/data_transformers.html\n",
    "alt.data_transformers.disable_max_rows()"
   ]
  },
  {
   "cell_type": "markdown",
   "id": "7c29ab03-c0c3-4cd1-be02-c78887eb7206",
   "metadata": {},
   "source": [
    "## Processed Data\n",
    "- Upon loading `public_trees_cleaned.csv`, need to set the attribute types for `HEIGHT_RANGE`, `TREE_ID`, `CIVIC_NUMBER`, and `ON_STREET_BLOCK`.\n",
    "- `public_trees_planted` is created to filter for species with existing planted trees."
   ]
  },
  {
   "cell_type": "code",
   "execution_count": 4,
   "id": "a02d139d-2849-41e2-96a0-6da19786b633",
   "metadata": {},
   "outputs": [
    {
     "data": {
      "text/html": [
       "<div>\n",
       "<style scoped>\n",
       "    .dataframe tbody tr th:only-of-type {\n",
       "        vertical-align: middle;\n",
       "    }\n",
       "\n",
       "    .dataframe tbody tr th {\n",
       "        vertical-align: top;\n",
       "    }\n",
       "\n",
       "    .dataframe thead th {\n",
       "        text-align: right;\n",
       "    }\n",
       "</style>\n",
       "<table border=\"1\" class=\"dataframe\">\n",
       "  <thead>\n",
       "    <tr style=\"text-align: right;\">\n",
       "      <th></th>\n",
       "      <th>TREE_ID</th>\n",
       "      <th>CIVIC_NUMBER</th>\n",
       "      <th>STD_STREET</th>\n",
       "      <th>GENUS_NAME</th>\n",
       "      <th>SPECIES_NAME</th>\n",
       "      <th>CULTIVAR_NAME</th>\n",
       "      <th>COMMON_NAME</th>\n",
       "      <th>ON_STREET_BLOCK</th>\n",
       "      <th>ON_STREET</th>\n",
       "      <th>NEIGHBOURHOOD_NAME</th>\n",
       "      <th>...</th>\n",
       "      <th>DATE_PLANTED</th>\n",
       "      <th>Geom</th>\n",
       "      <th>geo_point_2d</th>\n",
       "      <th>LATITUDE</th>\n",
       "      <th>LONGITUDE</th>\n",
       "      <th>NOMENCLATURE</th>\n",
       "      <th>ON_ADDRESS</th>\n",
       "      <th>PLANTED_STATUS</th>\n",
       "      <th>FAMILY_NAME</th>\n",
       "      <th>HAS_POLLEN</th>\n",
       "    </tr>\n",
       "  </thead>\n",
       "  <tbody>\n",
       "    <tr>\n",
       "      <th>0</th>\n",
       "      <td>229002</td>\n",
       "      <td>2128</td>\n",
       "      <td>E 54TH AV</td>\n",
       "      <td>FAGUS</td>\n",
       "      <td>SYLVATICA</td>\n",
       "      <td>DAWYCKII</td>\n",
       "      <td>DAWYCK'S BEECH</td>\n",
       "      <td>2100</td>\n",
       "      <td>E 54TH AV</td>\n",
       "      <td>VICTORIA-FRASERVIEW</td>\n",
       "      <td>...</td>\n",
       "      <td>2014-03-12</td>\n",
       "      <td>{\"coordinates\": [-123.06377300024464, 49.22020...</td>\n",
       "      <td>49.22020099919947, -123.06377300024464</td>\n",
       "      <td>49.220201</td>\n",
       "      <td>-123.063773</td>\n",
       "      <td>FAGUS SYLVATICA</td>\n",
       "      <td>2100 E 54TH AV VICTORIA-FRASERVIEW (EVEN)</td>\n",
       "      <td>Planted</td>\n",
       "      <td>FAGACEAE</td>\n",
       "      <td>True</td>\n",
       "    </tr>\n",
       "    <tr>\n",
       "      <th>1</th>\n",
       "      <td>229005</td>\n",
       "      <td>8443</td>\n",
       "      <td>FREMLIN ST</td>\n",
       "      <td>ACER</td>\n",
       "      <td>TRUNCATUM</td>\n",
       "      <td>PACIFIC SUNSET</td>\n",
       "      <td>PACIFIC SUNSET MAPLE</td>\n",
       "      <td>8400</td>\n",
       "      <td>FREMLIN ST</td>\n",
       "      <td>MARPOLE</td>\n",
       "      <td>...</td>\n",
       "      <td>2010-11-08</td>\n",
       "      <td>{\"coordinates\": [-123.12751900039063, 49.20967...</td>\n",
       "      <td>49.20967799914094, -123.12751900039063</td>\n",
       "      <td>49.209678</td>\n",
       "      <td>-123.127519</td>\n",
       "      <td>ACER TRUNCATUM</td>\n",
       "      <td>8400 FREMLIN ST MARPOLE (ODD)</td>\n",
       "      <td>Planted</td>\n",
       "      <td>ACERACEAE</td>\n",
       "      <td>False</td>\n",
       "    </tr>\n",
       "    <tr>\n",
       "      <th>2</th>\n",
       "      <td>229013</td>\n",
       "      <td>1407</td>\n",
       "      <td>W 59TH AV</td>\n",
       "      <td>PRUNUS</td>\n",
       "      <td>CERASIFERA</td>\n",
       "      <td>NIGRA</td>\n",
       "      <td>NIGHT PURPLE LEAF PLUM</td>\n",
       "      <td>7400</td>\n",
       "      <td>CARTIER ST</td>\n",
       "      <td>MARPOLE</td>\n",
       "      <td>...</td>\n",
       "      <td>2010-10-20</td>\n",
       "      <td>{\"coordinates\": [-123.13790199955884, 49.21762...</td>\n",
       "      <td>49.21762499869929, -123.13790199955884</td>\n",
       "      <td>49.217625</td>\n",
       "      <td>-123.137902</td>\n",
       "      <td>PRUNUS CERASIFERA</td>\n",
       "      <td>7400 CARTIER ST MARPOLE (ODD)</td>\n",
       "      <td>Planted</td>\n",
       "      <td>ROSACEAE</td>\n",
       "      <td>True</td>\n",
       "    </tr>\n",
       "    <tr>\n",
       "      <th>3</th>\n",
       "      <td>229015</td>\n",
       "      <td>489</td>\n",
       "      <td>W 2ND AV</td>\n",
       "      <td>PYRUS</td>\n",
       "      <td>CALLERYANA</td>\n",
       "      <td>CHANTICLEER</td>\n",
       "      <td>CHANTICLEER PEAR</td>\n",
       "      <td>400</td>\n",
       "      <td>W 2ND AV</td>\n",
       "      <td>MOUNT PLEASANT</td>\n",
       "      <td>...</td>\n",
       "      <td>2009-12-10</td>\n",
       "      <td>{\"coordinates\": [-123.11410500027938, 49.26698...</td>\n",
       "      <td>49.26698999931175, -123.11410500027938</td>\n",
       "      <td>49.266990</td>\n",
       "      <td>-123.114105</td>\n",
       "      <td>PYRUS CALLERYANA</td>\n",
       "      <td>400 W 2ND AV MOUNT PLEASANT (MED)</td>\n",
       "      <td>Planted</td>\n",
       "      <td>ROSACEAE</td>\n",
       "      <td>False</td>\n",
       "    </tr>\n",
       "    <tr>\n",
       "      <th>4</th>\n",
       "      <td>229016</td>\n",
       "      <td>489</td>\n",
       "      <td>W 2ND AV</td>\n",
       "      <td>PYRUS</td>\n",
       "      <td>CALLERYANA</td>\n",
       "      <td>CHANTICLEER</td>\n",
       "      <td>CHANTICLEER PEAR</td>\n",
       "      <td>400</td>\n",
       "      <td>W 2ND AV</td>\n",
       "      <td>MOUNT PLEASANT</td>\n",
       "      <td>...</td>\n",
       "      <td>2009-12-10</td>\n",
       "      <td>{\"coordinates\": [-123.11399200056373, 49.26704...</td>\n",
       "      <td>49.267045998933334, -123.11399200056373</td>\n",
       "      <td>49.267046</td>\n",
       "      <td>-123.113992</td>\n",
       "      <td>PYRUS CALLERYANA</td>\n",
       "      <td>400 W 2ND AV MOUNT PLEASANT (MED)</td>\n",
       "      <td>Planted</td>\n",
       "      <td>ROSACEAE</td>\n",
       "      <td>False</td>\n",
       "    </tr>\n",
       "  </tbody>\n",
       "</table>\n",
       "<p>5 rows × 24 columns</p>\n",
       "</div>"
      ],
      "text/plain": [
       "  TREE_ID CIVIC_NUMBER  STD_STREET GENUS_NAME SPECIES_NAME   CULTIVAR_NAME  \\\n",
       "0  229002         2128   E 54TH AV      FAGUS    SYLVATICA        DAWYCKII   \n",
       "1  229005         8443  FREMLIN ST       ACER    TRUNCATUM  PACIFIC SUNSET   \n",
       "2  229013         1407   W 59TH AV     PRUNUS   CERASIFERA           NIGRA   \n",
       "3  229015          489    W 2ND AV      PYRUS   CALLERYANA     CHANTICLEER   \n",
       "4  229016          489    W 2ND AV      PYRUS   CALLERYANA     CHANTICLEER   \n",
       "\n",
       "              COMMON_NAME ON_STREET_BLOCK   ON_STREET   NEIGHBOURHOOD_NAME  \\\n",
       "0          DAWYCK'S BEECH            2100   E 54TH AV  VICTORIA-FRASERVIEW   \n",
       "1    PACIFIC SUNSET MAPLE            8400  FREMLIN ST              MARPOLE   \n",
       "2  NIGHT PURPLE LEAF PLUM            7400  CARTIER ST              MARPOLE   \n",
       "3        CHANTICLEER PEAR             400    W 2ND AV       MOUNT PLEASANT   \n",
       "4        CHANTICLEER PEAR             400    W 2ND AV       MOUNT PLEASANT   \n",
       "\n",
       "   ... DATE_PLANTED                                               Geom  \\\n",
       "0  ...   2014-03-12  {\"coordinates\": [-123.06377300024464, 49.22020...   \n",
       "1  ...   2010-11-08  {\"coordinates\": [-123.12751900039063, 49.20967...   \n",
       "2  ...   2010-10-20  {\"coordinates\": [-123.13790199955884, 49.21762...   \n",
       "3  ...   2009-12-10  {\"coordinates\": [-123.11410500027938, 49.26698...   \n",
       "4  ...   2009-12-10  {\"coordinates\": [-123.11399200056373, 49.26704...   \n",
       "\n",
       "                              geo_point_2d   LATITUDE   LONGITUDE  \\\n",
       "0   49.22020099919947, -123.06377300024464  49.220201 -123.063773   \n",
       "1   49.20967799914094, -123.12751900039063  49.209678 -123.127519   \n",
       "2   49.21762499869929, -123.13790199955884  49.217625 -123.137902   \n",
       "3   49.26698999931175, -123.11410500027938  49.266990 -123.114105   \n",
       "4  49.267045998933334, -123.11399200056373  49.267046 -123.113992   \n",
       "\n",
       "        NOMENCLATURE                                 ON_ADDRESS  \\\n",
       "0    FAGUS SYLVATICA  2100 E 54TH AV VICTORIA-FRASERVIEW (EVEN)   \n",
       "1     ACER TRUNCATUM              8400 FREMLIN ST MARPOLE (ODD)   \n",
       "2  PRUNUS CERASIFERA              7400 CARTIER ST MARPOLE (ODD)   \n",
       "3   PYRUS CALLERYANA          400 W 2ND AV MOUNT PLEASANT (MED)   \n",
       "4   PYRUS CALLERYANA          400 W 2ND AV MOUNT PLEASANT (MED)   \n",
       "\n",
       "   PLANTED_STATUS  FAMILY_NAME HAS_POLLEN  \n",
       "0         Planted     FAGACEAE       True  \n",
       "1         Planted    ACERACEAE      False  \n",
       "2         Planted     ROSACEAE       True  \n",
       "3         Planted     ROSACEAE      False  \n",
       "4         Planted     ROSACEAE      False  \n",
       "\n",
       "[5 rows x 24 columns]"
      ]
     },
     "execution_count": 4,
     "metadata": {},
     "output_type": "execute_result"
    }
   ],
   "source": [
    "public_trees_cleaned = pd.read_csv(\"../../data/processed/public_trees_cleaned.csv\")\n",
    "priority_order = ['10-20', '20-30', '30-40', '40-50', '50-60', '60-70', '70-80', '80-90', '>90']\n",
    "public_trees_cleaned['HEIGHT_RANGE'] = pd.Categorical(public_trees_cleaned['HEIGHT_RANGE'], categories=priority_order, ordered=True)\n",
    "public_trees_cleaned[['TREE_ID', 'CIVIC_NUMBER', 'ON_STREET_BLOCK']] = public_trees_cleaned[['TREE_ID', 'CIVIC_NUMBER', 'ON_STREET_BLOCK']].astype(str)\n",
    "\n",
    "public_trees_cleaned.head()"
   ]
  },
  {
   "cell_type": "code",
   "execution_count": 5,
   "id": "e04ce587-6f84-4a54-b902-d7ab633f8ccd",
   "metadata": {},
   "outputs": [],
   "source": [
    "planted_species = public_trees_cleaned.loc[public_trees_cleaned['DATE_PLANTED'].notnull(), 'SPECIES_NAME'].unique()\n",
    "public_trees_planted = public_trees_cleaned[public_trees_cleaned['SPECIES_NAME'].isin(planted_species)]"
   ]
  },
  {
   "cell_type": "markdown",
   "id": "24e1a614-9f1e-4886-8c58-29d393dfa574",
   "metadata": {},
   "source": [
    "## Visualization 1: What are the counts and proportions of planted trees?"
   ]
  },
  {
   "cell_type": "code",
   "execution_count": 6,
   "id": "0e8b9b93-34c9-4d93-8fd3-fae817348f34",
   "metadata": {},
   "outputs": [
    {
     "data": {
      "text/html": [
       "<div>\n",
       "<style scoped>\n",
       "    .dataframe tbody tr th:only-of-type {\n",
       "        vertical-align: middle;\n",
       "    }\n",
       "\n",
       "    .dataframe tbody tr th {\n",
       "        vertical-align: top;\n",
       "    }\n",
       "\n",
       "    .dataframe thead th {\n",
       "        text-align: right;\n",
       "    }\n",
       "</style>\n",
       "<table border=\"1\" class=\"dataframe\">\n",
       "  <thead>\n",
       "    <tr style=\"text-align: right;\">\n",
       "      <th></th>\n",
       "      <th>SPECIES_NAME</th>\n",
       "      <th>GENUS_NAME</th>\n",
       "      <th>Planted_Count</th>\n",
       "      <th>Total_Count</th>\n",
       "      <th>Proportion_Planted</th>\n",
       "    </tr>\n",
       "  </thead>\n",
       "  <tbody>\n",
       "    <tr>\n",
       "      <th>0</th>\n",
       "      <td>ABIES</td>\n",
       "      <td>PICEA</td>\n",
       "      <td>37</td>\n",
       "      <td>328</td>\n",
       "      <td>0.112805</td>\n",
       "    </tr>\n",
       "    <tr>\n",
       "      <th>1</th>\n",
       "      <td>ACERIFOLIA   X</td>\n",
       "      <td>PLATANUS</td>\n",
       "      <td>606</td>\n",
       "      <td>2305</td>\n",
       "      <td>0.262907</td>\n",
       "    </tr>\n",
       "    <tr>\n",
       "      <th>2</th>\n",
       "      <td>ACUMINATA</td>\n",
       "      <td>MAGNOLIA</td>\n",
       "      <td>3</td>\n",
       "      <td>28</td>\n",
       "      <td>0.107143</td>\n",
       "    </tr>\n",
       "    <tr>\n",
       "      <th>3</th>\n",
       "      <td>ACUTISSIMA</td>\n",
       "      <td>QUERCUS</td>\n",
       "      <td>420</td>\n",
       "      <td>533</td>\n",
       "      <td>0.787992</td>\n",
       "    </tr>\n",
       "    <tr>\n",
       "      <th>4</th>\n",
       "      <td>ALBA</td>\n",
       "      <td>MORUS</td>\n",
       "      <td>6</td>\n",
       "      <td>84</td>\n",
       "      <td>0.071429</td>\n",
       "    </tr>\n",
       "    <tr>\n",
       "      <th>...</th>\n",
       "      <td>...</td>\n",
       "      <td>...</td>\n",
       "      <td>...</td>\n",
       "      <td>...</td>\n",
       "      <td>...</td>\n",
       "    </tr>\n",
       "    <tr>\n",
       "      <th>217</th>\n",
       "      <td>X WAREI</td>\n",
       "      <td>QUERCUS</td>\n",
       "      <td>33</td>\n",
       "      <td>56</td>\n",
       "      <td>0.589286</td>\n",
       "    </tr>\n",
       "    <tr>\n",
       "      <th>218</th>\n",
       "      <td>X YEDOENSIS</td>\n",
       "      <td>PRUNUS</td>\n",
       "      <td>2086</td>\n",
       "      <td>2609</td>\n",
       "      <td>0.799540</td>\n",
       "    </tr>\n",
       "    <tr>\n",
       "      <th>219</th>\n",
       "      <td>XX</td>\n",
       "      <td>MAGNOLIA</td>\n",
       "      <td>1486</td>\n",
       "      <td>1854</td>\n",
       "      <td>0.801510</td>\n",
       "    </tr>\n",
       "    <tr>\n",
       "      <th>220</th>\n",
       "      <td>ZENII</td>\n",
       "      <td>MAGNOLIA</td>\n",
       "      <td>2</td>\n",
       "      <td>2</td>\n",
       "      <td>1.000000</td>\n",
       "    </tr>\n",
       "    <tr>\n",
       "      <th>221</th>\n",
       "      <td>ZUMI</td>\n",
       "      <td>MALUS</td>\n",
       "      <td>1416</td>\n",
       "      <td>1497</td>\n",
       "      <td>0.945892</td>\n",
       "    </tr>\n",
       "  </tbody>\n",
       "</table>\n",
       "<p>222 rows × 5 columns</p>\n",
       "</div>"
      ],
      "text/plain": [
       "       SPECIES_NAME GENUS_NAME  Planted_Count  Total_Count  Proportion_Planted\n",
       "0             ABIES      PICEA             37          328            0.112805\n",
       "1    ACERIFOLIA   X   PLATANUS            606         2305            0.262907\n",
       "2         ACUMINATA   MAGNOLIA              3           28            0.107143\n",
       "3        ACUTISSIMA    QUERCUS            420          533            0.787992\n",
       "4              ALBA      MORUS              6           84            0.071429\n",
       "..              ...        ...            ...          ...                 ...\n",
       "217         X WAREI    QUERCUS             33           56            0.589286\n",
       "218     X YEDOENSIS     PRUNUS           2086         2609            0.799540\n",
       "219              XX   MAGNOLIA           1486         1854            0.801510\n",
       "220           ZENII   MAGNOLIA              2            2            1.000000\n",
       "221            ZUMI      MALUS           1416         1497            0.945892\n",
       "\n",
       "[222 rows x 5 columns]"
      ]
     },
     "execution_count": 6,
     "metadata": {},
     "output_type": "execute_result"
    }
   ],
   "source": [
    "species_planted_count = public_trees_planted.groupby(['SPECIES_NAME']).agg(GENUS_NAME=('GENUS_NAME', 'first'),Planted_Count=('DATE_PLANTED', 'count'),).reset_index()\n",
    "species_total_count = public_trees_planted['SPECIES_NAME'].value_counts().reset_index(name='Total_Count')\n",
    "species_summary = species_planted_count.merge(species_total_count, on='SPECIES_NAME')\n",
    "species_summary['Proportion_Planted'] = species_summary['Planted_Count'] / species_summary['Total_Count']\n",
    "species_summary"
   ]
  },
  {
   "cell_type": "code",
   "execution_count": 13,
   "id": "d518a915-91f6-4512-82ba-13907328ea50",
   "metadata": {},
   "outputs": [
    {
     "name": "stderr",
     "output_type": "stream",
     "text": [
      "/opt/anaconda3/lib/python3.12/site-packages/altair/utils/core.py:395: FutureWarning: the convert_dtype parameter is deprecated and will be removed in a future version.  Do ``ser.astype(object).apply()`` instead if you want ``convert_dtype=False``.\n",
      "  col = df[col_name].apply(to_list_if_array, convert_dtype=False)\n",
      "/opt/anaconda3/lib/python3.12/site-packages/altair/utils/core.py:395: FutureWarning: the convert_dtype parameter is deprecated and will be removed in a future version.  Do ``ser.astype(object).apply()`` instead if you want ``convert_dtype=False``.\n",
      "  col = df[col_name].apply(to_list_if_array, convert_dtype=False)\n"
     ]
    },
    {
     "data": {
      "application/vnd.vegalite.v5+json": {
       "$schema": "https://vega.github.io/schema/vega-lite/v5.8.0.json",
       "config": {
        "view": {
         "continuousHeight": 300,
         "continuousWidth": 300
        }
       },
       "data": {
        "format": {
         "type": "json"
        },
        "url": "altairdata/altair-data-3251ec8cc9636e29d9f8b1b430314c51.json"
       },
       "params": [
        {
         "bind": {
          "input": "select",
          "labels": [
           "All",
           "FAGUS",
           "ACER",
           "PRUNUS",
           "PYRUS",
           "MAGNOLIA",
           "MALUS",
           "QUERCUS",
           "CARPINUS",
           "PINUS",
           "CRATAEGUS",
           "CORNUS",
           "GLEDITSIA",
           "CERCIDIPHYLLUM",
           "ABIES",
           "PLATANUS",
           "CELTIS",
           "STYRAX",
           "FRAXINUS",
           "CLADRASTIS",
           "PARROTIA",
           "CATALPA",
           "ULMUS",
           "SYRINGA",
           "ROBINIA",
           "LIQUIDAMBAR",
           "ZELKOVA",
           "TILIA",
           "CERCIS",
           "PSEUDOTSUGA",
           "SORBUS",
           "GINKGO",
           "FICUS",
           "AESCULUS",
           "CHAMAECYPARIS",
           "NYSSA",
           "CALLITROPSIS",
           "SEQUOIADENDRON",
           "THUJA",
           "GYMNOCLADUS",
           "AMELANCHIER",
           "HIBISCUS",
           "DAVIDIA",
           "ALNUS",
           "TAXUS",
           "PICEA",
           "TSUGA",
           "POPULUS",
           "HEPTACODIUM",
           "BETULA",
           "STEWARTIA",
           "METASEQUOIA",
           "CEDRUS",
           "JUGLANS",
           "CORYLUS",
           "KOELREUTERIA",
           "LIRIODENDRON",
           "ILEX",
           "JUNIPERUS",
           "CASTANEA",
           "MORUS",
           "MAACKIA",
           "TAXODIUM",
           "LABURNUM",
           "OSTRYA",
           "SOPHORA",
           "RHUS",
           "CALOCEDRUS",
           "LARIX",
           "SEQUOIA",
           "ARBUTUS",
           "PTEROCARYA",
           "VIBURNUM",
           "SALIX",
           "HAMAMELIS",
           "PAULOWNIA",
           "STYPHNOLOBIUM",
           "RHAMNUS",
           "MESPILUS",
           "EUONYMUS",
           "RHODODENDRON",
           "TRACHYCARPUS",
           "NOTHOFAGUS",
           "EUCOMMIA",
           "CRYPTOMERIA",
           "CARYA",
           "ALBIZIA",
           "WEIGELA",
           "AUCUBA",
           "PIERIS",
           "BROUSSONETIA",
           "COTINUS",
           "CAMELLIA",
           "CUPRESSUS",
           "EUCALYPTUS",
           "BAMBOO",
           "EMMENOPTERYS",
           "PTEROSTYRAX",
           "ELAEAGNUS",
           "COTONEASTER",
           "SAMBUCUS",
           "LAGERSTROEMIA",
           "PHYLLOSTACHYS",
           "LABURNOCYTISUS"
          ],
          "name": "Genus: ",
          "options": [
           null,
           "FAGUS",
           "ACER",
           "PRUNUS",
           "PYRUS",
           "MAGNOLIA",
           "MALUS",
           "QUERCUS",
           "CARPINUS",
           "PINUS",
           "CRATAEGUS",
           "CORNUS",
           "GLEDITSIA",
           "CERCIDIPHYLLUM",
           "ABIES",
           "PLATANUS",
           "CELTIS",
           "STYRAX",
           "FRAXINUS",
           "CLADRASTIS",
           "PARROTIA",
           "CATALPA",
           "ULMUS",
           "SYRINGA",
           "ROBINIA",
           "LIQUIDAMBAR",
           "ZELKOVA",
           "TILIA",
           "CERCIS",
           "PSEUDOTSUGA",
           "SORBUS",
           "GINKGO",
           "FICUS",
           "AESCULUS",
           "CHAMAECYPARIS",
           "NYSSA",
           "CALLITROPSIS",
           "SEQUOIADENDRON",
           "THUJA",
           "GYMNOCLADUS",
           "AMELANCHIER",
           "HIBISCUS",
           "DAVIDIA",
           "ALNUS",
           "TAXUS",
           "PICEA",
           "TSUGA",
           "POPULUS",
           "HEPTACODIUM",
           "BETULA",
           "STEWARTIA",
           "METASEQUOIA",
           "CEDRUS",
           "JUGLANS",
           "CORYLUS",
           "KOELREUTERIA",
           "LIRIODENDRON",
           "ILEX",
           "JUNIPERUS",
           "CASTANEA",
           "MORUS",
           "MAACKIA",
           "TAXODIUM",
           "LABURNUM",
           "OSTRYA",
           "SOPHORA",
           "RHUS",
           "CALOCEDRUS",
           "LARIX",
           "SEQUOIA",
           "ARBUTUS",
           "PTEROCARYA",
           "VIBURNUM",
           "SALIX",
           "HAMAMELIS",
           "PAULOWNIA",
           "STYPHNOLOBIUM",
           "RHAMNUS",
           "MESPILUS",
           "EUONYMUS",
           "RHODODENDRON",
           "TRACHYCARPUS",
           "NOTHOFAGUS",
           "EUCOMMIA",
           "CRYPTOMERIA",
           "CARYA",
           "ALBIZIA",
           "WEIGELA",
           "AUCUBA",
           "PIERIS",
           "BROUSSONETIA",
           "COTINUS",
           "CAMELLIA",
           "CUPRESSUS",
           "EUCALYPTUS",
           "BAMBOO",
           "EMMENOPTERYS",
           "PTEROSTYRAX",
           "ELAEAGNUS",
           "COTONEASTER",
           "SAMBUCUS",
           "LAGERSTROEMIA",
           "PHYLLOSTACHYS",
           "LABURNOCYTISUS"
          ]
         },
         "name": "param_5",
         "select": {
          "fields": [
           "GENUS_NAME"
          ],
          "type": "point"
         },
         "views": [
          "view_3",
          "view_4"
         ]
        },
        {
         "bind": {
          "input": "number",
          "name": "Min Total Count: "
         },
         "name": "SelectorName",
         "value": 300
        },
        {
         "bind": {
          "input": "range",
          "max": 1,
          "min": 0,
          "name": "Min Proportion: ",
          "step": 0.01
         },
         "name": "min_prop_filter",
         "value": 0
        },
        {
         "bind": {
          "input": "range",
          "max": 1,
          "min": 0,
          "name": "Max Proportion: ",
          "step": 0.01
         },
         "name": "max_prop_filter",
         "value": 1
        },
        {
         "name": "brushBars",
         "select": {
          "encodings": [
           "x"
          ],
          "type": "interval"
         },
         "views": [
          "view_3"
         ]
        },
        {
         "name": "brushScatter",
         "select": {
          "encodings": [
           "x",
           "y"
          ],
          "type": "interval"
         },
         "views": [
          "view_4"
         ]
        }
       ],
       "vconcat": [
        {
         "encoding": {
          "color": {
           "field": "Total_Count",
           "scale": {
            "type": "log"
           },
           "title": "log_{10}(Total_Count)",
           "type": "quantitative"
          },
          "tooltip": [
           {
            "field": "SPECIES_NAME",
            "type": "nominal"
           },
           {
            "field": "GENUS_NAME",
            "type": "nominal"
           },
           {
            "field": "Proportion_Planted",
            "type": "quantitative"
           },
           {
            "field": "Total_Count",
            "type": "quantitative"
           }
          ],
          "x": {
           "field": "SPECIES_NAME",
           "sort": "color",
           "title": "Species",
           "type": "nominal"
          },
          "y": {
           "field": "Proportion_Planted",
           "scale": {
            "domain": [
             0,
             1
            ]
           },
           "title": "Proportion",
           "type": "quantitative"
          }
         },
         "height": 140,
         "mark": {
          "type": "bar"
         },
         "name": "view_3",
         "title": "Proportions of Planted Trees for Species with Date Data",
         "transform": [
          {
           "filter": {
            "and": [
             {
              "and": [
               {
                "and": [
                 {
                  "or": [
                   {
                    "param": "param_5"
                   },
                   "(datum.GENUS_NAME === null)"
                  ]
                 },
                 "(datum.Total_Count >= SelectorName)"
                ]
               },
               "((datum.Proportion_Planted >= min_prop_filter) && (datum.Proportion_Planted <= max_prop_filter))"
              ]
             },
             {
              "param": "brushScatter"
             }
            ]
           }
          }
         ]
        },
        {
         "encoding": {
          "tooltip": [
           {
            "field": "SPECIES_NAME",
            "type": "nominal"
           },
           {
            "field": "GENUS_NAME",
            "type": "nominal"
           },
           {
            "field": "Proportion_Planted",
            "type": "quantitative"
           },
           {
            "field": "Total_Count",
            "type": "quantitative"
           }
          ],
          "x": {
           "field": "Total_Count",
           "scale": {
            "type": "log"
           },
           "title": "log_{10}(Total_Count)",
           "type": "quantitative"
          },
          "y": {
           "field": "Proportion_Planted",
           "scale": {
            "domain": [
             0,
             1
            ]
           },
           "title": "Proportion",
           "type": "quantitative"
          }
         },
         "mark": {
          "type": "point"
         },
         "name": "view_4",
         "title": "Proportions of Planted Trees for Species with Date Data",
         "transform": [
          {
           "filter": {
            "and": [
             {
              "and": [
               {
                "and": [
                 {
                  "or": [
                   {
                    "param": "param_5"
                   },
                   "(datum.GENUS_NAME === null)"
                  ]
                 },
                 "(datum.Total_Count >= SelectorName)"
                ]
               },
               "((datum.Proportion_Planted >= min_prop_filter) && (datum.Proportion_Planted <= max_prop_filter))"
              ]
             },
             {
              "param": "brushBars"
             }
            ]
           }
          }
         ]
        }
       ]
      },
      "image/png": "[encoded data removed]",
      "text/plain": [
       "<VegaLite 5 object>\n",
       "\n",
       "If you see this message, it means the renderer has not been properly enabled\n",
       "for the frontend that you are using. For more information, see\n",
       "https://altair-viz.github.io/user_guide/display_frontends.html#troubleshooting\n"
      ]
     },
     "execution_count": 13,
     "metadata": {},
     "output_type": "execute_result"
    }
   ],
   "source": [
    "# Dropdown family\n",
    "list_genus = public_trees_planted['GENUS_NAME'].unique().tolist()\n",
    "dropdown_genus = alt.binding_select(options=[None] + list_genus, name='Genus: ', labels = ['All'] + list_genus)\n",
    "selection_genus = alt.selection_point(fields=['GENUS_NAME'], bind=dropdown_genus)\n",
    "sorted_species = public_trees_planted.sort_values([\"GENUS_NAME\", \"SPECIES_NAME\"])[\"SPECIES_NAME\"].tolist()\n",
    "predicate_genus = (selection_genus | (alt.datum.GENUS_NAME == None))\n",
    "\n",
    "# Input min count\n",
    "input_box = alt.binding(input=\"number\", name=\"Min Total Count: \")\n",
    "filter_total_count = alt.param(name='SelectorName', value=300, bind=input_box)\n",
    "predicate_mincount = alt.datum.Total_Count >= filter_total_count\n",
    "\n",
    "# Sliders for Proportion_Planted (min & max)\n",
    "min_prop_slider = alt.binding_range(min=0, max=1, step=0.01, name=\"Min Proportion: \")\n",
    "max_prop_slider = alt.binding_range(min=0, max=1, step=0.01, name=\"Max Proportion: \")\n",
    "\n",
    "filter_min_prop = alt.param(name=\"min_prop_filter\", value=0, bind=min_prop_slider)\n",
    "filter_max_prop = alt.param(name=\"max_prop_filter\", value=1, bind=max_prop_slider)\n",
    "\n",
    "predicate_proportion = (alt.datum.Proportion_Planted >= filter_min_prop) & (alt.datum.Proportion_Planted <= filter_max_prop)\n",
    "\n",
    "brush_scatter = alt.selection_interval(encodings=['x', 'y'], name=\"brushScatter\")  # Select species in scatter plot\n",
    "brush_bars = alt.selection_interval(encodings=['x'], name=\"brushBars\")  # Select diameter range in histogram\n",
    "\n",
    "bar_sum = (\n",
    "    alt.Chart(species_summary)\n",
    "    # .transform_calculate(\n",
    "    #     Proportion_Planted=\"datum.Planted_Count / datum.Total_Count\"\n",
    "    # )\n",
    "    .mark_bar()\n",
    "    .encode(\n",
    "        alt.X('SPECIES_NAME:N', title='Species', sort='color',),\n",
    "        alt.Y('Proportion_Planted:Q', title='Proportion', scale=alt.Scale(domain=[0, 1])),\n",
    "        alt.Color('Total_Count', scale=alt.Scale(type='log'), title='log_{10}(Total_Count)'),\n",
    "        alt.Tooltip(['SPECIES_NAME', 'GENUS_NAME', 'Proportion_Planted', 'Total_Count']),\n",
    "    ).properties(\n",
    "        title='Proportions of Planted Trees for Species with Date Data',\n",
    "    )\n",
    "    .add_params(selection_genus, filter_total_count, filter_min_prop, filter_max_prop, brush_bars)  # Add interactivity\n",
    "    .transform_filter(predicate_genus & predicate_mincount & predicate_proportion & brush_scatter)\n",
    "    .properties(\n",
    "        height=140, \n",
    "    )\n",
    ") \n",
    "\n",
    "point_sum = (\n",
    "    alt.Chart(species_summary).mark_point().encode(\n",
    "        alt.X('Total_Count', scale=alt.Scale(type='log'), title='log_{10}(Total_Count)'),\n",
    "        alt.Y('Proportion_Planted:Q', title='Proportion', scale=alt.Scale(domain=[0, 1])),\n",
    "        alt.Tooltip(['SPECIES_NAME', 'GENUS_NAME', 'Proportion_Planted', 'Total_Count']),\n",
    "    )\n",
    "    .add_params(selection_genus, filter_total_count, filter_min_prop, filter_max_prop, brush_scatter)  # Add interactivity\n",
    "    .transform_filter(predicate_genus & predicate_mincount & predicate_proportion & brush_bars)\n",
    "    .properties(\n",
    "        title='Proportions of Planted Trees for Species with Date Data',\n",
    "    )\n",
    ")\n",
    "bar_sum & point_sum"
   ]
  },
  {
   "cell_type": "code",
   "execution_count": null,
   "id": "c7906fd5-f378-4a5d-ae0f-0b8d589163de",
   "metadata": {},
   "outputs": [],
   "source": []
  }
 ],
 "metadata": {
  "kernelspec": {
   "display_name": "Python [conda env:anaconda3]",
   "language": "python",
   "name": "conda-env-anaconda3-py"
  },
  "language_info": {
   "codemirror_mode": {
    "name": "ipython",
    "version": 3
   },
   "file_extension": ".py",
   "mimetype": "text/x-python",
   "name": "python",
   "nbconvert_exporter": "python",
   "pygments_lexer": "ipython3",
   "version": "3.12.2"
  }
 },
 "nbformat": 4,
 "nbformat_minor": 5
}
