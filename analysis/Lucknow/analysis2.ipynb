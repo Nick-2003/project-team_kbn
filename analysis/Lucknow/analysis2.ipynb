{
 "cells": [
  {
   "cell_type": "markdown",
   "metadata": {},
   "source": [
    "# Kaylee Li"
   ]
  },
  {
   "cell_type": "markdown",
   "metadata": {},
   "source": [
    "## Research question/interests\r\n",
    "\r\n",
    "Briefly describe your research question or interests here."
   ]
  },
  {
   "cell_type": "markdown",
   "metadata": {},
   "source": []
  },
  {
   "cell_type": "code",
   "execution_count": 21,
   "metadata": {},
   "outputs": [],
   "source": [
    "import sys\n",
    "sys.path.append(\"../../code\")"
   ]
  },
  {
   "cell_type": "code",
   "execution_count": 22,
   "metadata": {},
   "outputs": [],
   "source": [
    "import kli_query_family\n",
    "import pandas as pd"
   ]
  },
  {
   "cell_type": "markdown",
   "metadata": {},
   "source": [
    "### Getting respective Family"
   ]
  },
  {
   "cell_type": "code",
   "execution_count": 19,
   "metadata": {},
   "outputs": [],
   "source": [
    "raw_df = pd.read_csv(\"../../data/raw/public-trees.csv\")"
   ]
  },
  {
   "cell_type": "code",
   "execution_count": 27,
   "metadata": {},
   "outputs": [],
   "source": [
    "genus_to_family_dict = kli_query_family.get_genus_to_family_mapping(raw_df)"
   ]
  },
  {
   "cell_type": "code",
   "execution_count": 29,
   "metadata": {},
   "outputs": [],
   "source": [
    "df_with_family = kli_query_family.add_family_column(raw_df, genus_to_family_dict)"
   ]
  },
  {
   "cell_type": "code",
   "execution_count": 30,
   "metadata": {},
   "outputs": [
    {
     "data": {
      "text/html": [
       "<div>\n",
       "<style scoped>\n",
       "    .dataframe tbody tr th:only-of-type {\n",
       "        vertical-align: middle;\n",
       "    }\n",
       "\n",
       "    .dataframe tbody tr th {\n",
       "        vertical-align: top;\n",
       "    }\n",
       "\n",
       "    .dataframe thead th {\n",
       "        text-align: right;\n",
       "    }\n",
       "</style>\n",
       "<table border=\"1\" class=\"dataframe\">\n",
       "  <thead>\n",
       "    <tr style=\"text-align: right;\">\n",
       "      <th></th>\n",
       "      <th>TREE_ID</th>\n",
       "      <th>CIVIC_NUMBER</th>\n",
       "      <th>STD_STREET</th>\n",
       "      <th>GENUS_NAME</th>\n",
       "      <th>SPECIES_NAME</th>\n",
       "      <th>CULTIVAR_NAME</th>\n",
       "      <th>COMMON_NAME</th>\n",
       "      <th>ON_STREET_BLOCK</th>\n",
       "      <th>ON_STREET</th>\n",
       "      <th>NEIGHBOURHOOD_NAME</th>\n",
       "      <th>STREET_SIDE_NAME</th>\n",
       "      <th>HEIGHT_RANGE_ID</th>\n",
       "      <th>HEIGHT_RANGE</th>\n",
       "      <th>DIAMETER</th>\n",
       "      <th>DATE_PLANTED</th>\n",
       "      <th>Geom</th>\n",
       "      <th>geo_point_2d</th>\n",
       "      <th>FAMILY_NAME</th>\n",
       "    </tr>\n",
       "  </thead>\n",
       "  <tbody>\n",
       "    <tr>\n",
       "      <th>0</th>\n",
       "      <td>68600</td>\n",
       "      <td>5801</td>\n",
       "      <td>COLUMBIA ST</td>\n",
       "      <td>FRAXINUS</td>\n",
       "      <td>PENNSYLVANICA</td>\n",
       "      <td>NaN</td>\n",
       "      <td>GREEN ASH</td>\n",
       "      <td>5800</td>\n",
       "      <td>COLUMBIA ST</td>\n",
       "      <td>OAKRIDGE</td>\n",
       "      <td>ODD</td>\n",
       "      <td>4</td>\n",
       "      <td>40-50</td>\n",
       "      <td>14.0</td>\n",
       "      <td>NaN</td>\n",
       "      <td>{\"coordinates\":[-123.1108790006131,49.23188599...</td>\n",
       "      <td>49.2318859989257, -123.1108790006131</td>\n",
       "      <td>OLEACEAE</td>\n",
       "    </tr>\n",
       "    <tr>\n",
       "      <th>1</th>\n",
       "      <td>68602</td>\n",
       "      <td>5801</td>\n",
       "      <td>COLUMBIA ST</td>\n",
       "      <td>FRAXINUS</td>\n",
       "      <td>PENNSYLVANICA</td>\n",
       "      <td>NaN</td>\n",
       "      <td>GREEN ASH</td>\n",
       "      <td>5800</td>\n",
       "      <td>COLUMBIA ST</td>\n",
       "      <td>OAKRIDGE</td>\n",
       "      <td>ODD</td>\n",
       "      <td>4</td>\n",
       "      <td>40-50</td>\n",
       "      <td>13.0</td>\n",
       "      <td>NaN</td>\n",
       "      <td>{\"coordinates\":[-123.11086799941732,49.2321829...</td>\n",
       "      <td>49.23218299864167, -123.11086799941732</td>\n",
       "      <td>OLEACEAE</td>\n",
       "    </tr>\n",
       "    <tr>\n",
       "      <th>2</th>\n",
       "      <td>68625</td>\n",
       "      <td>7520</td>\n",
       "      <td>COLUMBIA ST</td>\n",
       "      <td>ACER</td>\n",
       "      <td>RUBRUM</td>\n",
       "      <td>NaN</td>\n",
       "      <td>RED MAPLE</td>\n",
       "      <td>7500</td>\n",
       "      <td>COLUMBIA ST</td>\n",
       "      <td>MARPOLE</td>\n",
       "      <td>EVEN</td>\n",
       "      <td>4</td>\n",
       "      <td>40-50</td>\n",
       "      <td>19.0</td>\n",
       "      <td>1990-03-06</td>\n",
       "      <td>{\"coordinates\":[-123.11252099940711,49.2164559...</td>\n",
       "      <td>49.21645599928832, -123.11252099940711</td>\n",
       "      <td>SAPINDACEAE</td>\n",
       "    </tr>\n",
       "    <tr>\n",
       "      <th>3</th>\n",
       "      <td>68628</td>\n",
       "      <td>7580</td>\n",
       "      <td>COLUMBIA ST</td>\n",
       "      <td>ACER</td>\n",
       "      <td>RUBRUM</td>\n",
       "      <td>NaN</td>\n",
       "      <td>RED MAPLE</td>\n",
       "      <td>7500</td>\n",
       "      <td>COLUMBIA ST</td>\n",
       "      <td>MARPOLE</td>\n",
       "      <td>EVEN</td>\n",
       "      <td>2</td>\n",
       "      <td>20-30</td>\n",
       "      <td>10.5</td>\n",
       "      <td>1990-03-06</td>\n",
       "      <td>{\"coordinates\":[-123.1125259998752,49.21626399...</td>\n",
       "      <td>49.21626399915695, -123.1125259998752</td>\n",
       "      <td>SAPINDACEAE</td>\n",
       "    </tr>\n",
       "    <tr>\n",
       "      <th>4</th>\n",
       "      <td>68629</td>\n",
       "      <td>7580</td>\n",
       "      <td>COLUMBIA ST</td>\n",
       "      <td>ACER</td>\n",
       "      <td>RUBRUM</td>\n",
       "      <td>NaN</td>\n",
       "      <td>RED MAPLE</td>\n",
       "      <td>7500</td>\n",
       "      <td>COLUMBIA ST</td>\n",
       "      <td>MARPOLE</td>\n",
       "      <td>EVEN</td>\n",
       "      <td>4</td>\n",
       "      <td>40-50</td>\n",
       "      <td>14.0</td>\n",
       "      <td>1990-03-06</td>\n",
       "      <td>{\"coordinates\":[-123.11252799950525,49.2161969...</td>\n",
       "      <td>49.216196999461125, -123.11252799950525</td>\n",
       "      <td>SAPINDACEAE</td>\n",
       "    </tr>\n",
       "  </tbody>\n",
       "</table>\n",
       "</div>"
      ],
      "text/plain": [
       "   TREE_ID  CIVIC_NUMBER   STD_STREET GENUS_NAME   SPECIES_NAME CULTIVAR_NAME  \\\n",
       "0    68600          5801  COLUMBIA ST   FRAXINUS  PENNSYLVANICA           NaN   \n",
       "1    68602          5801  COLUMBIA ST   FRAXINUS  PENNSYLVANICA           NaN   \n",
       "2    68625          7520  COLUMBIA ST       ACER         RUBRUM           NaN   \n",
       "3    68628          7580  COLUMBIA ST       ACER         RUBRUM           NaN   \n",
       "4    68629          7580  COLUMBIA ST       ACER         RUBRUM           NaN   \n",
       "\n",
       "  COMMON_NAME  ON_STREET_BLOCK    ON_STREET NEIGHBOURHOOD_NAME  \\\n",
       "0   GREEN ASH             5800  COLUMBIA ST           OAKRIDGE   \n",
       "1   GREEN ASH             5800  COLUMBIA ST           OAKRIDGE   \n",
       "2   RED MAPLE             7500  COLUMBIA ST            MARPOLE   \n",
       "3   RED MAPLE             7500  COLUMBIA ST            MARPOLE   \n",
       "4   RED MAPLE             7500  COLUMBIA ST            MARPOLE   \n",
       "\n",
       "  STREET_SIDE_NAME  HEIGHT_RANGE_ID HEIGHT_RANGE  DIAMETER DATE_PLANTED  \\\n",
       "0              ODD                4        40-50      14.0          NaN   \n",
       "1              ODD                4        40-50      13.0          NaN   \n",
       "2             EVEN                4        40-50      19.0   1990-03-06   \n",
       "3             EVEN                2        20-30      10.5   1990-03-06   \n",
       "4             EVEN                4        40-50      14.0   1990-03-06   \n",
       "\n",
       "                                                Geom  \\\n",
       "0  {\"coordinates\":[-123.1108790006131,49.23188599...   \n",
       "1  {\"coordinates\":[-123.11086799941732,49.2321829...   \n",
       "2  {\"coordinates\":[-123.11252099940711,49.2164559...   \n",
       "3  {\"coordinates\":[-123.1125259998752,49.21626399...   \n",
       "4  {\"coordinates\":[-123.11252799950525,49.2161969...   \n",
       "\n",
       "                              geo_point_2d  FAMILY_NAME  \n",
       "0     49.2318859989257, -123.1108790006131     OLEACEAE  \n",
       "1   49.23218299864167, -123.11086799941732     OLEACEAE  \n",
       "2   49.21645599928832, -123.11252099940711  SAPINDACEAE  \n",
       "3    49.21626399915695, -123.1125259998752  SAPINDACEAE  \n",
       "4  49.216196999461125, -123.11252799950525  SAPINDACEAE  "
      ]
     },
     "execution_count": 30,
     "metadata": {},
     "output_type": "execute_result"
    }
   ],
   "source": [
    "df_with_family.head()"
   ]
  },
  {
   "cell_type": "code",
   "execution_count": 31,
   "metadata": {},
   "outputs": [],
   "source": [
    "df_with_family.to_csv(\"../../data/processed/public-trees-with-family.csv\")"
   ]
  },
  {
   "cell_type": "code",
   "execution_count": null,
   "metadata": {},
   "outputs": [],
   "source": []
  }
 ],
 "metadata": {
  "kernelspec": {
   "display_name": "Python 3 (ipykernel)",
   "language": "python",
   "name": "python3"
  },
  "language_info": {
   "codemirror_mode": {
    "name": "ipython",
    "version": 3
   },
   "file_extension": ".py",
   "mimetype": "text/x-python",
   "name": "python",
   "nbconvert_exporter": "python",
   "pygments_lexer": "ipython3",
   "version": "3.12.0"
  }
 },
 "nbformat": 4,
 "nbformat_minor": 4
}
