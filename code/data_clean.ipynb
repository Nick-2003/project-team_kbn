{
 "cells": [
  {
   "cell_type": "markdown",
   "id": "7a28ed55-90e4-408e-8e17-4738f2441fa8",
   "metadata": {},
   "source": [
    "# DSCI 320 KBN Data Cleaning\n",
    "\n",
    "## Initial Dataset\n",
    "- The `.csv` file from the website provided is more difficult to parse, so the `.xlsx` file that is also provided is used.\n",
    "- `TREE_ID`, `CIVIC_NUMBER`, `ON_STREET_BLOCK`, and `HEIGHT_RANGE_ID` are all treated as integers, `DIAMETER` is treated as a float, and the rest are treated as objects.\n",
    "- `CULTIVAR_NAME`, `NEIGHBOURHOOD_NAME`, and `DATE_PLANTED` are columns that have missing values.\n",
    "- `public_trees.nunique()` displays the number of unique values for each column. Notably, there is a discrepancy between the number of unique values for `HEIGHT_RANGE_ID` and the number of unique values for `HEIGHT_RANGE`. Since `GENUS_NAME` and `SPECIES_NAME`, along with `ON_STREET` and `ON_STREET_BLOCK`, are related to each other, the number of unique values may be more accurate if they are combined.\n",
    "- `public_trees.describe()` is used to further display that `TREE_ID`, `CIVIC_NUMBER`, `ON_STREET_BLOCK`, `HEIGHT_RANGE_ID` and `DIAMETER` are all treated as numeric, when only `HEIGHT_RANGE_ID` and `DIAMETER` could be numeric, along with the latitude and longitude from `geo_point_2d`."
   ]
  },
  {
   "cell_type": "code",
   "execution_count": 1,
   "id": "dcc1f72a-a8ba-4d7c-85d4-1c4de5dcadb1",
   "metadata": {},
   "outputs": [
    {
     "data": {
      "text/html": [
       "<div>\n",
       "<style scoped>\n",
       "    .dataframe tbody tr th:only-of-type {\n",
       "        vertical-align: middle;\n",
       "    }\n",
       "\n",
       "    .dataframe tbody tr th {\n",
       "        vertical-align: top;\n",
       "    }\n",
       "\n",
       "    .dataframe thead th {\n",
       "        text-align: right;\n",
       "    }\n",
       "</style>\n",
       "<table border=\"1\" class=\"dataframe\">\n",
       "  <thead>\n",
       "    <tr style=\"text-align: right;\">\n",
       "      <th></th>\n",
       "      <th>TREE_ID</th>\n",
       "      <th>CIVIC_NUMBER</th>\n",
       "      <th>STD_STREET</th>\n",
       "      <th>GENUS_NAME</th>\n",
       "      <th>SPECIES_NAME</th>\n",
       "      <th>CULTIVAR_NAME</th>\n",
       "      <th>COMMON_NAME</th>\n",
       "      <th>ON_STREET_BLOCK</th>\n",
       "      <th>ON_STREET</th>\n",
       "      <th>NEIGHBOURHOOD_NAME</th>\n",
       "      <th>STREET_SIDE_NAME</th>\n",
       "      <th>HEIGHT_RANGE_ID</th>\n",
       "      <th>HEIGHT_RANGE</th>\n",
       "      <th>DIAMETER</th>\n",
       "      <th>DATE_PLANTED</th>\n",
       "      <th>Geom</th>\n",
       "      <th>geo_point_2d</th>\n",
       "    </tr>\n",
       "  </thead>\n",
       "  <tbody>\n",
       "    <tr>\n",
       "      <th>0</th>\n",
       "      <td>68600</td>\n",
       "      <td>5801</td>\n",
       "      <td>COLUMBIA ST</td>\n",
       "      <td>FRAXINUS</td>\n",
       "      <td>PENNSYLVANICA</td>\n",
       "      <td>NaN</td>\n",
       "      <td>GREEN ASH</td>\n",
       "      <td>5800</td>\n",
       "      <td>COLUMBIA ST</td>\n",
       "      <td>OAKRIDGE</td>\n",
       "      <td>ODD</td>\n",
       "      <td>4</td>\n",
       "      <td>40-50</td>\n",
       "      <td>14.0</td>\n",
       "      <td>NaN</td>\n",
       "      <td>{\"coordinates\":[-123.1108790006131,49.23188599...</td>\n",
       "      <td>49.2318859989257, -123.1108790006131</td>\n",
       "    </tr>\n",
       "    <tr>\n",
       "      <th>1</th>\n",
       "      <td>68602</td>\n",
       "      <td>5801</td>\n",
       "      <td>COLUMBIA ST</td>\n",
       "      <td>FRAXINUS</td>\n",
       "      <td>PENNSYLVANICA</td>\n",
       "      <td>NaN</td>\n",
       "      <td>GREEN ASH</td>\n",
       "      <td>5800</td>\n",
       "      <td>COLUMBIA ST</td>\n",
       "      <td>OAKRIDGE</td>\n",
       "      <td>ODD</td>\n",
       "      <td>4</td>\n",
       "      <td>40-50</td>\n",
       "      <td>13.0</td>\n",
       "      <td>NaN</td>\n",
       "      <td>{\"coordinates\":[-123.11086799941732,49.2321829...</td>\n",
       "      <td>49.23218299864167, -123.11086799941732</td>\n",
       "    </tr>\n",
       "    <tr>\n",
       "      <th>2</th>\n",
       "      <td>68625</td>\n",
       "      <td>7520</td>\n",
       "      <td>COLUMBIA ST</td>\n",
       "      <td>ACER</td>\n",
       "      <td>RUBRUM</td>\n",
       "      <td>NaN</td>\n",
       "      <td>RED MAPLE</td>\n",
       "      <td>7500</td>\n",
       "      <td>COLUMBIA ST</td>\n",
       "      <td>MARPOLE</td>\n",
       "      <td>EVEN</td>\n",
       "      <td>4</td>\n",
       "      <td>40-50</td>\n",
       "      <td>19.0</td>\n",
       "      <td>1990-03-06</td>\n",
       "      <td>{\"coordinates\":[-123.11252099940711,49.2164559...</td>\n",
       "      <td>49.21645599928832, -123.11252099940711</td>\n",
       "    </tr>\n",
       "    <tr>\n",
       "      <th>3</th>\n",
       "      <td>68628</td>\n",
       "      <td>7580</td>\n",
       "      <td>COLUMBIA ST</td>\n",
       "      <td>ACER</td>\n",
       "      <td>RUBRUM</td>\n",
       "      <td>NaN</td>\n",
       "      <td>RED MAPLE</td>\n",
       "      <td>7500</td>\n",
       "      <td>COLUMBIA ST</td>\n",
       "      <td>MARPOLE</td>\n",
       "      <td>EVEN</td>\n",
       "      <td>2</td>\n",
       "      <td>20-30</td>\n",
       "      <td>10.5</td>\n",
       "      <td>1990-03-06</td>\n",
       "      <td>{\"coordinates\":[-123.1125259998752,49.21626399...</td>\n",
       "      <td>49.21626399915695, -123.1125259998752</td>\n",
       "    </tr>\n",
       "    <tr>\n",
       "      <th>4</th>\n",
       "      <td>68629</td>\n",
       "      <td>7580</td>\n",
       "      <td>COLUMBIA ST</td>\n",
       "      <td>ACER</td>\n",
       "      <td>RUBRUM</td>\n",
       "      <td>NaN</td>\n",
       "      <td>RED MAPLE</td>\n",
       "      <td>7500</td>\n",
       "      <td>COLUMBIA ST</td>\n",
       "      <td>MARPOLE</td>\n",
       "      <td>EVEN</td>\n",
       "      <td>4</td>\n",
       "      <td>40-50</td>\n",
       "      <td>14.0</td>\n",
       "      <td>1990-03-06</td>\n",
       "      <td>{\"coordinates\":[-123.11252799950525,49.2161969...</td>\n",
       "      <td>49.216196999461125, -123.11252799950525</td>\n",
       "    </tr>\n",
       "  </tbody>\n",
       "</table>\n",
       "</div>"
      ],
      "text/plain": [
       "   TREE_ID  CIVIC_NUMBER   STD_STREET GENUS_NAME   SPECIES_NAME CULTIVAR_NAME  \\\n",
       "0    68600          5801  COLUMBIA ST   FRAXINUS  PENNSYLVANICA           NaN   \n",
       "1    68602          5801  COLUMBIA ST   FRAXINUS  PENNSYLVANICA           NaN   \n",
       "2    68625          7520  COLUMBIA ST       ACER         RUBRUM           NaN   \n",
       "3    68628          7580  COLUMBIA ST       ACER         RUBRUM           NaN   \n",
       "4    68629          7580  COLUMBIA ST       ACER         RUBRUM           NaN   \n",
       "\n",
       "  COMMON_NAME  ON_STREET_BLOCK    ON_STREET NEIGHBOURHOOD_NAME  \\\n",
       "0   GREEN ASH             5800  COLUMBIA ST           OAKRIDGE   \n",
       "1   GREEN ASH             5800  COLUMBIA ST           OAKRIDGE   \n",
       "2   RED MAPLE             7500  COLUMBIA ST            MARPOLE   \n",
       "3   RED MAPLE             7500  COLUMBIA ST            MARPOLE   \n",
       "4   RED MAPLE             7500  COLUMBIA ST            MARPOLE   \n",
       "\n",
       "  STREET_SIDE_NAME  HEIGHT_RANGE_ID HEIGHT_RANGE  DIAMETER DATE_PLANTED  \\\n",
       "0              ODD                4        40-50      14.0          NaN   \n",
       "1              ODD                4        40-50      13.0          NaN   \n",
       "2             EVEN                4        40-50      19.0   1990-03-06   \n",
       "3             EVEN                2        20-30      10.5   1990-03-06   \n",
       "4             EVEN                4        40-50      14.0   1990-03-06   \n",
       "\n",
       "                                                Geom  \\\n",
       "0  {\"coordinates\":[-123.1108790006131,49.23188599...   \n",
       "1  {\"coordinates\":[-123.11086799941732,49.2321829...   \n",
       "2  {\"coordinates\":[-123.11252099940711,49.2164559...   \n",
       "3  {\"coordinates\":[-123.1125259998752,49.21626399...   \n",
       "4  {\"coordinates\":[-123.11252799950525,49.2161969...   \n",
       "\n",
       "                              geo_point_2d  \n",
       "0     49.2318859989257, -123.1108790006131  \n",
       "1   49.23218299864167, -123.11086799941732  \n",
       "2   49.21645599928832, -123.11252099940711  \n",
       "3    49.21626399915695, -123.1125259998752  \n",
       "4  49.216196999461125, -123.11252799950525  "
      ]
     },
     "execution_count": 1,
     "metadata": {},
     "output_type": "execute_result"
    }
   ],
   "source": [
    "import pandas as pd\n",
    "public_trees = pd.read_excel(\"../data/raw/public-trees.xlsx\")\n",
    "public_trees.to_csv(\"../data/raw/public-trees.csv\", index=False)\n",
    "public_trees.head()"
   ]
  },
  {
   "cell_type": "code",
   "execution_count": 2,
   "id": "8d003781-a069-4edf-afcd-134806458b96",
   "metadata": {},
   "outputs": [
    {
     "name": "stdout",
     "output_type": "stream",
     "text": [
      "<class 'pandas.core.frame.DataFrame'>\n",
      "RangeIndex: 181476 entries, 0 to 181475\n",
      "Data columns (total 17 columns):\n",
      " #   Column              Non-Null Count   Dtype  \n",
      "---  ------              --------------   -----  \n",
      " 0   TREE_ID             181476 non-null  int64  \n",
      " 1   CIVIC_NUMBER        181476 non-null  int64  \n",
      " 2   STD_STREET          181476 non-null  object \n",
      " 3   GENUS_NAME          181476 non-null  object \n",
      " 4   SPECIES_NAME        181476 non-null  object \n",
      " 5   CULTIVAR_NAME       80711 non-null   object \n",
      " 6   COMMON_NAME         181476 non-null  object \n",
      " 7   ON_STREET_BLOCK     181476 non-null  int64  \n",
      " 8   ON_STREET           181476 non-null  object \n",
      " 9   NEIGHBOURHOOD_NAME  177548 non-null  object \n",
      " 10  STREET_SIDE_NAME    181476 non-null  object \n",
      " 11  HEIGHT_RANGE_ID     181476 non-null  int64  \n",
      " 12  HEIGHT_RANGE        181476 non-null  object \n",
      " 13  DIAMETER            181476 non-null  float64\n",
      " 14  DATE_PLANTED        74168 non-null   object \n",
      " 15  Geom                181476 non-null  object \n",
      " 16  geo_point_2d        181476 non-null  object \n",
      "dtypes: float64(1), int64(4), object(12)\n",
      "memory usage: 23.5+ MB\n"
     ]
    },
    {
     "data": {
      "text/plain": [
       "None"
      ]
     },
     "metadata": {},
     "output_type": "display_data"
    }
   ],
   "source": [
    "display(public_trees.info())"
   ]
  },
  {
   "cell_type": "code",
   "execution_count": 3,
   "id": "f3ff2a47-0555-4338-87a7-6621c4c16075",
   "metadata": {},
   "outputs": [
    {
     "data": {
      "text/plain": [
       "['CULTIVAR_NAME', 'NEIGHBOURHOOD_NAME', 'DATE_PLANTED']"
      ]
     },
     "metadata": {},
     "output_type": "display_data"
    }
   ],
   "source": [
    "cols_with_nan = public_trees.columns[public_trees.isna().any()].tolist()\n",
    "display(cols_with_nan)"
   ]
  },
  {
   "cell_type": "code",
   "execution_count": 4,
   "id": "1a7cc424-ee16-459a-8c3e-150748ce6f49",
   "metadata": {},
   "outputs": [
    {
     "data": {
      "text/plain": [
       "TREE_ID               181476\n",
       "CIVIC_NUMBER            8338\n",
       "STD_STREET               814\n",
       "GENUS_NAME               169\n",
       "SPECIES_NAME             539\n",
       "CULTIVAR_NAME            607\n",
       "COMMON_NAME             1297\n",
       "ON_STREET_BLOCK          189\n",
       "ON_STREET                822\n",
       "NEIGHBOURHOOD_NAME        22\n",
       "STREET_SIDE_NAME           6\n",
       "HEIGHT_RANGE_ID           11\n",
       "HEIGHT_RANGE               9\n",
       "DIAMETER                 490\n",
       "DATE_PLANTED            4570\n",
       "Geom                  181348\n",
       "geo_point_2d          181348\n",
       "dtype: int64"
      ]
     },
     "metadata": {},
     "output_type": "display_data"
    }
   ],
   "source": [
    "display(public_trees.nunique())"
   ]
  },
  {
   "cell_type": "code",
   "execution_count": 5,
   "id": "3335988c-5f7b-4e70-b499-a46a364dbcbf",
   "metadata": {},
   "outputs": [
    {
     "data": {
      "text/html": [
       "<div>\n",
       "<style scoped>\n",
       "    .dataframe tbody tr th:only-of-type {\n",
       "        vertical-align: middle;\n",
       "    }\n",
       "\n",
       "    .dataframe tbody tr th {\n",
       "        vertical-align: top;\n",
       "    }\n",
       "\n",
       "    .dataframe thead th {\n",
       "        text-align: right;\n",
       "    }\n",
       "</style>\n",
       "<table border=\"1\" class=\"dataframe\">\n",
       "  <thead>\n",
       "    <tr style=\"text-align: right;\">\n",
       "      <th></th>\n",
       "      <th>TREE_ID</th>\n",
       "      <th>CIVIC_NUMBER</th>\n",
       "      <th>ON_STREET_BLOCK</th>\n",
       "      <th>HEIGHT_RANGE_ID</th>\n",
       "      <th>DIAMETER</th>\n",
       "    </tr>\n",
       "  </thead>\n",
       "  <tbody>\n",
       "    <tr>\n",
       "      <th>count</th>\n",
       "      <td>181476.000000</td>\n",
       "      <td>181476.000000</td>\n",
       "      <td>181476.000000</td>\n",
       "      <td>181476.000000</td>\n",
       "      <td>181476.000000</td>\n",
       "    </tr>\n",
       "    <tr>\n",
       "      <th>mean</th>\n",
       "      <td>176057.213202</td>\n",
       "      <td>3094.623261</td>\n",
       "      <td>3068.267694</td>\n",
       "      <td>2.965318</td>\n",
       "      <td>12.734677</td>\n",
       "    </tr>\n",
       "    <tr>\n",
       "      <th>std</th>\n",
       "      <td>103368.726047</td>\n",
       "      <td>2125.583344</td>\n",
       "      <td>2132.730391</td>\n",
       "      <td>1.943227</td>\n",
       "      <td>10.201485</td>\n",
       "    </tr>\n",
       "    <tr>\n",
       "      <th>min</th>\n",
       "      <td>12.000000</td>\n",
       "      <td>0.000000</td>\n",
       "      <td>0.000000</td>\n",
       "      <td>0.000000</td>\n",
       "      <td>0.000000</td>\n",
       "    </tr>\n",
       "    <tr>\n",
       "      <th>25%</th>\n",
       "      <td>86436.750000</td>\n",
       "      <td>1396.000000</td>\n",
       "      <td>1400.000000</td>\n",
       "      <td>1.000000</td>\n",
       "      <td>4.000000</td>\n",
       "    </tr>\n",
       "    <tr>\n",
       "      <th>50%</th>\n",
       "      <td>175642.500000</td>\n",
       "      <td>2733.000000</td>\n",
       "      <td>2700.000000</td>\n",
       "      <td>2.000000</td>\n",
       "      <td>10.000000</td>\n",
       "    </tr>\n",
       "    <tr>\n",
       "      <th>75%</th>\n",
       "      <td>264533.250000</td>\n",
       "      <td>4489.000000</td>\n",
       "      <td>4500.000000</td>\n",
       "      <td>4.000000</td>\n",
       "      <td>18.000000</td>\n",
       "    </tr>\n",
       "    <tr>\n",
       "      <th>max</th>\n",
       "      <td>344710.000000</td>\n",
       "      <td>9295.000000</td>\n",
       "      <td>9900.000000</td>\n",
       "      <td>10.000000</td>\n",
       "      <td>305.000000</td>\n",
       "    </tr>\n",
       "  </tbody>\n",
       "</table>\n",
       "</div>"
      ],
      "text/plain": [
       "             TREE_ID   CIVIC_NUMBER  ON_STREET_BLOCK  HEIGHT_RANGE_ID  \\\n",
       "count  181476.000000  181476.000000    181476.000000    181476.000000   \n",
       "mean   176057.213202    3094.623261      3068.267694         2.965318   \n",
       "std    103368.726047    2125.583344      2132.730391         1.943227   \n",
       "min        12.000000       0.000000         0.000000         0.000000   \n",
       "25%     86436.750000    1396.000000      1400.000000         1.000000   \n",
       "50%    175642.500000    2733.000000      2700.000000         2.000000   \n",
       "75%    264533.250000    4489.000000      4500.000000         4.000000   \n",
       "max    344710.000000    9295.000000      9900.000000        10.000000   \n",
       "\n",
       "            DIAMETER  \n",
       "count  181476.000000  \n",
       "mean       12.734677  \n",
       "std        10.201485  \n",
       "min         0.000000  \n",
       "25%         4.000000  \n",
       "50%        10.000000  \n",
       "75%        18.000000  \n",
       "max       305.000000  "
      ]
     },
     "metadata": {},
     "output_type": "display_data"
    }
   ],
   "source": [
    "display(public_trees.describe())"
   ]
  },
  {
   "cell_type": "markdown",
   "id": "ef84d5de-8093-4ea1-b4e7-8c35376d6a27",
   "metadata": {},
   "source": [
    "## Cleaning\n",
    "- `HEIGHT_RANGE` is set to be an ordinal attribute, with the order provided in `priority_order`.\n",
    "- `TREE_ID`, `CIVIC_NUMBER`, and `ON_STREET_BLOCK` are set to be categorical attributes.\n",
    "- Earlier EDA provided `CULTIVAR_NAME`, `NEIGHBOURHOOD_NAME`, `DATE_PLANTED` as having NA values; `CULTIVAR_NAME` is filled with the corresponding `SPECIES_NAME`, `NEIGHBOURHOOD_NAME` has `NA` strings applied instead, and `DATE_PLANTED` is left with `None`.\n",
    "- The latitude and longitude values were initially joined together in a single coordinate column `geo_point_2d`, and thus are split into new columns `LATITUDE` and `LONGITUDE`.\n",
    "- The values `9`, `0` and `10` all correspond to `HEIGHT_RANGE == '>90'` and thus `0` and `10` are replaced with value `9`.\n",
    "- `NOMENCLATURE` is a column derived from combining `GENUS_NAME` and `SPECIES_NAME` into 1 string.\n",
    "- `ON_ADDRESS` is a column derived from combining `ON_STREET` and `ON_STREET_BLOCK` into 1 string.\n",
    "- Due to being redundant and difficult to use, `Geom` and `geo_point_2d` are dropped."
   ]
  },
  {
   "cell_type": "code",
   "execution_count": 6,
   "id": "3b68731f-2d77-4799-b25d-12c50b2e177e",
   "metadata": {},
   "outputs": [],
   "source": [
    "public_trees_cleaned = public_trees.copy()"
   ]
  },
  {
   "cell_type": "code",
   "execution_count": 7,
   "id": "c2353305-50ef-4d34-846b-f855f54e1bc1",
   "metadata": {},
   "outputs": [],
   "source": [
    "priority_order = ['10-20', '20-30', '30-40', '40-50', '50-60', '60-70', '70-80', '80-90', '>90']\n",
    "public_trees_cleaned['HEIGHT_RANGE'] = pd.Categorical(public_trees_cleaned['HEIGHT_RANGE'], categories=priority_order, ordered=True)"
   ]
  },
  {
   "cell_type": "code",
   "execution_count": 8,
   "id": "2138225c-3013-4a1e-b2d8-1107fd092b03",
   "metadata": {},
   "outputs": [],
   "source": [
    "public_trees_cleaned[['TREE_ID', 'CIVIC_NUMBER', 'ON_STREET_BLOCK']] = public_trees_cleaned[['TREE_ID', 'CIVIC_NUMBER', 'ON_STREET_BLOCK']].astype(str)"
   ]
  },
  {
   "cell_type": "code",
   "execution_count": 9,
   "id": "e6f39806-e34b-43ce-859f-6fa64dfdbf34",
   "metadata": {},
   "outputs": [],
   "source": [
    "public_trees_cleaned['CULTIVAR_NAME'] = public_trees_cleaned['CULTIVAR_NAME'].fillna(public_trees_cleaned['SPECIES_NAME'])\n",
    "public_trees_cleaned['NEIGHBOURHOOD_NAME'] = public_trees_cleaned['NEIGHBOURHOOD_NAME'].fillna('')\n",
    "public_trees_cleaned['DATE_PLANTED'] = public_trees_cleaned['DATE_PLANTED'].fillna('')"
   ]
  },
  {
   "cell_type": "code",
   "execution_count": 10,
   "id": "243ef6d3-982a-4a2e-802f-f55c36dc01b6",
   "metadata": {},
   "outputs": [],
   "source": [
    "public_trees_cleaned[['LATITUDE', 'LONGITUDE']] = public_trees_cleaned['geo_point_2d'].str.split(', ', expand=True)\n",
    "public_trees_cleaned['LATITUDE'] = public_trees_cleaned['LATITUDE'].astype(float)\n",
    "public_trees_cleaned['LONGITUDE'] = public_trees_cleaned['LONGITUDE'].astype(float)"
   ]
  },
  {
   "cell_type": "code",
   "execution_count": 11,
   "id": "029e070c-7531-43f5-861b-2232e32a0ed7",
   "metadata": {},
   "outputs": [],
   "source": [
    "public_trees_cleaned['HEIGHT_RANGE_ID'] = public_trees_cleaned['HEIGHT_RANGE_ID'].replace([0, 10], 9)"
   ]
  },
  {
   "cell_type": "code",
   "execution_count": 12,
   "id": "b028a751-0cb3-4eba-b5d2-4a55162434bc",
   "metadata": {},
   "outputs": [],
   "source": [
    "public_trees_cleaned['NOMENCLATURE'] = public_trees_cleaned['GENUS_NAME'] + \" \" + public_trees_cleaned['SPECIES_NAME']"
   ]
  },
  {
   "cell_type": "code",
   "execution_count": 13,
   "id": "72ba18f0-e27e-4095-852b-d37edd2546fb",
   "metadata": {},
   "outputs": [],
   "source": [
    "public_trees_cleaned['ON_ADDRESS'] = public_trees_cleaned['ON_STREET_BLOCK'] + \" \" + public_trees_cleaned['ON_STREET'] + \" \" + public_trees_cleaned['NEIGHBOURHOOD_NAME'] + \" (\" + public_trees_cleaned['STREET_SIDE_NAME'] + \")\""
   ]
  },
  {
   "cell_type": "code",
   "execution_count": 14,
   "id": "1ded19fd-704d-4973-947a-16e9502f895f",
   "metadata": {},
   "outputs": [],
   "source": [
    "public_trees_cleaned = public_trees_cleaned.drop(columns=['Geom', 'geo_point_2d'])"
   ]
  },
  {
   "cell_type": "markdown",
   "id": "9eb3a96f-5613-4718-a28e-f731949bbcc9",
   "metadata": {},
   "source": [
    "## Processed Data\n",
    "- Upon loading `public_trees_cleaned.csv` in the future, remember to set the attribute types for `HEIGHT_RANGE`, `TREE_ID`, `CIVIC_NUMBER`, and `ON_STREET_BLOCK`."
   ]
  },
  {
   "cell_type": "code",
   "execution_count": 15,
   "id": "713697fa-f2da-479d-b341-fb5bdeaee212",
   "metadata": {},
   "outputs": [
    {
     "name": "stdout",
     "output_type": "stream",
     "text": [
      "<class 'pandas.core.frame.DataFrame'>\n",
      "RangeIndex: 181476 entries, 0 to 181475\n",
      "Data columns (total 19 columns):\n",
      " #   Column              Non-Null Count   Dtype   \n",
      "---  ------              --------------   -----   \n",
      " 0   TREE_ID             181476 non-null  object  \n",
      " 1   CIVIC_NUMBER        181476 non-null  object  \n",
      " 2   STD_STREET          181476 non-null  object  \n",
      " 3   GENUS_NAME          181476 non-null  object  \n",
      " 4   SPECIES_NAME        181476 non-null  object  \n",
      " 5   CULTIVAR_NAME       181476 non-null  object  \n",
      " 6   COMMON_NAME         181476 non-null  object  \n",
      " 7   ON_STREET_BLOCK     181476 non-null  object  \n",
      " 8   ON_STREET           181476 non-null  object  \n",
      " 9   NEIGHBOURHOOD_NAME  181476 non-null  object  \n",
      " 10  STREET_SIDE_NAME    181476 non-null  object  \n",
      " 11  HEIGHT_RANGE_ID     181476 non-null  int64   \n",
      " 12  HEIGHT_RANGE        181476 non-null  category\n",
      " 13  DIAMETER            181476 non-null  float64 \n",
      " 14  DATE_PLANTED        181476 non-null  object  \n",
      " 15  LATITUDE            181476 non-null  float64 \n",
      " 16  LONGITUDE           181476 non-null  float64 \n",
      " 17  NOMENCLATURE        181476 non-null  object  \n",
      " 18  ON_ADDRESS          181476 non-null  object  \n",
      "dtypes: category(1), float64(3), int64(1), object(14)\n",
      "memory usage: 25.1+ MB\n"
     ]
    },
    {
     "data": {
      "text/plain": [
       "None"
      ]
     },
     "metadata": {},
     "output_type": "display_data"
    }
   ],
   "source": [
    "display(public_trees_cleaned.info())"
   ]
  },
  {
   "cell_type": "code",
   "execution_count": 16,
   "id": "8d079eb0-2b47-4450-95c3-04c1bfd0c542",
   "metadata": {},
   "outputs": [
    {
     "data": {
      "text/plain": [
       "TREE_ID               181476\n",
       "CIVIC_NUMBER            8338\n",
       "STD_STREET               814\n",
       "GENUS_NAME               169\n",
       "SPECIES_NAME             539\n",
       "CULTIVAR_NAME           1070\n",
       "COMMON_NAME             1297\n",
       "ON_STREET_BLOCK          189\n",
       "ON_STREET                822\n",
       "NEIGHBOURHOOD_NAME        23\n",
       "STREET_SIDE_NAME           6\n",
       "HEIGHT_RANGE_ID            9\n",
       "HEIGHT_RANGE               9\n",
       "DIAMETER                 490\n",
       "DATE_PLANTED            4571\n",
       "LATITUDE              181344\n",
       "LONGITUDE             181343\n",
       "NOMENCLATURE             701\n",
       "ON_ADDRESS             19267\n",
       "dtype: int64"
      ]
     },
     "metadata": {},
     "output_type": "display_data"
    }
   ],
   "source": [
    "display(public_trees_cleaned.nunique())"
   ]
  },
  {
   "cell_type": "code",
   "execution_count": 17,
   "id": "022b85b1-7bf2-45d0-accc-a392ff4010de",
   "metadata": {},
   "outputs": [
    {
     "data": {
      "text/html": [
       "<div>\n",
       "<style scoped>\n",
       "    .dataframe tbody tr th:only-of-type {\n",
       "        vertical-align: middle;\n",
       "    }\n",
       "\n",
       "    .dataframe tbody tr th {\n",
       "        vertical-align: top;\n",
       "    }\n",
       "\n",
       "    .dataframe thead th {\n",
       "        text-align: right;\n",
       "    }\n",
       "</style>\n",
       "<table border=\"1\" class=\"dataframe\">\n",
       "  <thead>\n",
       "    <tr style=\"text-align: right;\">\n",
       "      <th></th>\n",
       "      <th>HEIGHT_RANGE_ID</th>\n",
       "      <th>DIAMETER</th>\n",
       "      <th>LATITUDE</th>\n",
       "      <th>LONGITUDE</th>\n",
       "    </tr>\n",
       "  </thead>\n",
       "  <tbody>\n",
       "    <tr>\n",
       "      <th>count</th>\n",
       "      <td>181476.000000</td>\n",
       "      <td>181476.000000</td>\n",
       "      <td>181476.000000</td>\n",
       "      <td>181476.000000</td>\n",
       "    </tr>\n",
       "    <tr>\n",
       "      <th>mean</th>\n",
       "      <td>2.997498</td>\n",
       "      <td>12.734677</td>\n",
       "      <td>49.248839</td>\n",
       "      <td>-123.107691</td>\n",
       "    </tr>\n",
       "    <tr>\n",
       "      <th>std</th>\n",
       "      <td>1.939775</td>\n",
       "      <td>10.201485</td>\n",
       "      <td>0.022868</td>\n",
       "      <td>0.048920</td>\n",
       "    </tr>\n",
       "    <tr>\n",
       "      <th>min</th>\n",
       "      <td>1.000000</td>\n",
       "      <td>0.000000</td>\n",
       "      <td>49.200203</td>\n",
       "      <td>-123.236684</td>\n",
       "    </tr>\n",
       "    <tr>\n",
       "      <th>25%</th>\n",
       "      <td>1.000000</td>\n",
       "      <td>4.000000</td>\n",
       "      <td>49.230406</td>\n",
       "      <td>-123.144383</td>\n",
       "    </tr>\n",
       "    <tr>\n",
       "      <th>50%</th>\n",
       "      <td>2.000000</td>\n",
       "      <td>10.000000</td>\n",
       "      <td>49.248473</td>\n",
       "      <td>-123.109573</td>\n",
       "    </tr>\n",
       "    <tr>\n",
       "      <th>75%</th>\n",
       "      <td>4.000000</td>\n",
       "      <td>18.000000</td>\n",
       "      <td>49.266611</td>\n",
       "      <td>-123.064573</td>\n",
       "    </tr>\n",
       "    <tr>\n",
       "      <th>max</th>\n",
       "      <td>9.000000</td>\n",
       "      <td>305.000000</td>\n",
       "      <td>49.312730</td>\n",
       "      <td>-123.023294</td>\n",
       "    </tr>\n",
       "  </tbody>\n",
       "</table>\n",
       "</div>"
      ],
      "text/plain": [
       "       HEIGHT_RANGE_ID       DIAMETER       LATITUDE      LONGITUDE\n",
       "count    181476.000000  181476.000000  181476.000000  181476.000000\n",
       "mean          2.997498      12.734677      49.248839    -123.107691\n",
       "std           1.939775      10.201485       0.022868       0.048920\n",
       "min           1.000000       0.000000      49.200203    -123.236684\n",
       "25%           1.000000       4.000000      49.230406    -123.144383\n",
       "50%           2.000000      10.000000      49.248473    -123.109573\n",
       "75%           4.000000      18.000000      49.266611    -123.064573\n",
       "max           9.000000     305.000000      49.312730    -123.023294"
      ]
     },
     "metadata": {},
     "output_type": "display_data"
    }
   ],
   "source": [
    "display(public_trees_cleaned.describe())"
   ]
  },
  {
   "cell_type": "code",
   "execution_count": 18,
   "id": "3f8fb624-1781-4b5d-9274-eac24b4c620f",
   "metadata": {},
   "outputs": [],
   "source": [
    "public_trees_cleaned.to_csv(\"../data/processed/public_trees_cleaned.csv\", index=False)"
   ]
  },
  {
   "cell_type": "code",
   "execution_count": null,
   "id": "d6cc23db-f6bd-40e8-a03d-58a54bfce145",
   "metadata": {},
   "outputs": [],
   "source": []
  }
 ],
 "metadata": {
  "kernelspec": {
   "display_name": "Python [conda env:anaconda3]",
   "language": "python",
   "name": "conda-env-anaconda3-py"
  },
  "language_info": {
   "codemirror_mode": {
    "name": "ipython",
    "version": 3
   },
   "file_extension": ".py",
   "mimetype": "text/x-python",
   "name": "python",
   "nbconvert_exporter": "python",
   "pygments_lexer": "ipython3",
   "version": "3.12.2"
  }
 },
 "nbformat": 4,
 "nbformat_minor": 5
}
